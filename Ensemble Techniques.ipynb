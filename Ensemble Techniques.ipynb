{
  "cells": [
    {
      "cell_type": "markdown",
      "metadata": {
        "id": "7LFdi8FP-dXQ"
      },
      "source": [
        "                                                                Theoretical"
      ]
    },
    {
      "cell_type": "markdown",
      "source": [],
      "metadata": {
        "id": "FC4K6v54Iju8"
      }
    },
    {
      "cell_type": "markdown",
      "source": [],
      "metadata": {
        "id": "heil68G9HjbX"
      }
    },
    {
      "cell_type": "code",
      "execution_count": null,
      "metadata": {
        "id": "i0NJjp25-bcL"
      },
      "outputs": [],
      "source": []
    },
    {
      "cell_type": "markdown",
      "metadata": {
        "id": "hSw-bgMe-f4C"
      },
      "source": [
        "1) Can we use Bagging for regression problems?"
      ]
    },
    {
      "cell_type": "markdown",
      "metadata": {
        "id": "YasFOirbBjCU"
      },
      "source": [
        "Ans = Yes, Bagging can be used for regression problems. It's a general technique that combines multiple models to improve prediction accuracy and reduce overfitting. In regression, Bagging typically involves:\n",
        "\n",
        "1. Creating multiple bootstrap samples of the training data.\n",
        "2. Training a regression model on each sample.\n",
        "3. Combining the predictions from each model using averaging or other methods.\n",
        "\n",
        "Bagging can improve regression performance by:\n",
        "\n",
        "- Reducing overfitting\n",
        "- Improving prediction accuracy\n",
        "- Handling high-dimensional data\n",
        "\n",
        "Some popular regression algorithms that can be used with Bagging include:\n",
        "\n",
        "- Decision Trees\n",
        "- Random Forests\n",
        "- Gradient Boosting"
      ]
    },
    {
      "cell_type": "markdown",
      "metadata": {
        "id": "rdhadM_u_igI"
      },
      "source": [
        "2) What is the difference between multiple model training and single model training?"
      ]
    },
    {
      "cell_type": "markdown",
      "metadata": {
        "id": "9dZJEURF_2uq"
      },
      "source": [
        "Ans = Here are the key differences:\n",
        "\n",
        "Multiple Model Training\n",
        "1. Ensemble Learning: Train multiple models on the same dataset to improve overall performance.\n",
        "2. Diverse Models: Each model learns different patterns and relationships in the data.\n",
        "3. Combined Predictions: Predictions from individual models are combined to produce a final output.\n",
        "4. Improved Accuracy: Can lead to improved accuracy and robustness compared to single model training.\n",
        "5. Increased Complexity: Requires more computational resources and can be more challenging to implement.\n",
        "\n",
        "Single Model Training\n",
        "1. Single Learner: Train a single model on the dataset to learn patterns and relationships.\n",
        "2. Faster Training: Typically faster to train compared to multiple model training.\n",
        "3. Simpler Implementation: Easier to implement and requires less computational resources.\n",
        "4. Limited Accuracy: May not achieve the same level of accuracy as multiple model training.\n",
        "5. Vulnerability to Overfitting: Single models can be more prone to overfitting.\n",
        "\n",
        "When to use each approach:\n",
        "\n",
        "- Multiple model training: When you have a large, complex dataset and want to improve overall performance.\n",
        "- Single model training: When you have a small to medium-sized dataset and want a simple, fast solution."
      ]
    },
    {
      "cell_type": "markdown",
      "metadata": {
        "id": "BoF3N9lMBo-W"
      },
      "source": []
    },
    {
      "cell_type": "markdown",
      "metadata": {
        "id": "9l6AFfaq_40G"
      },
      "source": [
        "3)  Explain the concept of feature randomness in Random Forest?"
      ]
    },
    {
      "cell_type": "markdown",
      "metadata": {
        "id": "fLN6i87AAIA9"
      },
      "source": [
        "Ans = In Random Forest, feature randomness refers to the random selection of features (or columns) to consider when splitting a node in a decision tree.\n",
        "\n",
        "Here's how it works:\n",
        "\n",
        "1. At each node, a random subset of features is selected.\n",
        "2. The best feature from this subset is chosen to split the node.\n",
        "3. This process is repeated for each node in the tree.\n",
        "\n",
        "Feature randomness helps to:\n",
        "\n",
        "- Reduce correlation: Between trees in the forest, making the model more robust.\n",
        "- Increase diversity: Among trees, leading to better handling of complex data.\n",
        "- Improve generalization: By reducing overfitting to specific features.\n",
        "\n",
        "By introducing randomness in feature selection, Random Forest models become more robust, accurate, and generalizable."
      ]
    },
    {
      "cell_type": "markdown",
      "metadata": {
        "id": "kjorLG-uAJJi"
      },
      "source": [
        "4)  What is OOB (Out-of-Bag) Score?"
      ]
    },
    {
      "cell_type": "markdown",
      "metadata": {
        "id": "xb87VdNTAbzJ"
      },
      "source": [
        "Ans = In Random Forest, the OOB (Out-of-Bag) Score is a measure of the model's performance on unseen data.\n",
        "\n",
        "Here's how it works:\n",
        "\n",
        "1. During training, each tree in the forest is trained on a bootstrap sample (a random subset) of the training data.\n",
        "2. The remaining data, not used for training, is called the \"out-of-bag\" (OOB) data.\n",
        "3. The OOB score is calculated by predicting the OOB data for each tree and then averaging the predictions across all trees.\n",
        "\n",
        "The OOB score provides an unbiased estimate of the model's performance on unseen data, without the need for a separate test set.\n",
        "\n",
        "OOB scores can be used to:\n",
        "\n",
        "- Evaluate model performance: Without overfitting to the training data.\n",
        "- Tune hyperparameters: By monitoring the OOB score during hyperparameter tuning.\n",
        "- Detect overfitting: If the OOB score is significantly lower than the training accuracy."
      ]
    },
    {
      "cell_type": "markdown",
      "metadata": {
        "id": "yLpCrfoQAcxN"
      },
      "source": [
        "5)  How can you measure the importance of features in a Random Forest model?"
      ]
    },
    {
      "cell_type": "markdown",
      "metadata": {
        "id": "Cq9v37CMAwXU"
      },
      "source": [
        "Ans = In a Random Forest model, feature importance can be measured using:\n",
        "\n",
        "1. Gini Importance: Also known as Mean Decrease in Impurity (MDI). It measures the average decrease in impurity (e.g., Gini index) when a feature is used to split a node.\n",
        "2. Permutation Importance: Measures the decrease in model performance when a feature is randomly permuted. This method is more computationally expensive but provides a more accurate estimate of feature importance.\n",
        "\n",
        "Both methods provide a score for each feature, indicating its importance in the model.\n",
        "\n",
        "In Python, you can use the feature_importances_ attribute of a RandomForestClassifier or RandomForestRegressor object to access the Gini importance scores.\n"
      ]
    },
    {
      "cell_type": "markdown",
      "metadata": {
        "id": "Qn8hck3_BYgT"
      },
      "source": []
    },
    {
      "cell_type": "markdown",
      "metadata": {
        "id": "S-lyFKt6BqN4"
      },
      "source": [
        "6) Explain the working principle of a Bagging Classifier?"
      ]
    },
    {
      "cell_type": "markdown",
      "metadata": {
        "id": "sQ8XQgDYByoE"
      },
      "source": [
        "Ans = Here's how a Bagging Classifier works:\n",
        "\n",
        "1. Bootstrap Sampling: Create multiple subsets of the training data by randomly sampling with replacement.\n",
        "2. Model Training: Train a base classifier (e.g., Decision Tree) on each subset.\n",
        "3. Prediction: Make predictions using each trained model.\n",
        "4. Voting: Combine predictions by voting (e.g., majority voting).\n",
        "5. Final Prediction: Output the class label with the most votes.\n",
        "\n",
        "Bagging reduces overfitting by:\n",
        "\n",
        "- Averaging out errors\n",
        "- Reducing variance\n",
        "\n",
        "It improves classification performance by:\n",
        "\n",
        "- Handling noisy data\n",
        "- Increasing robustness\n",
        "\n",
        "Common base classifiers used in Bagging include:\n",
        "\n",
        "- Decision Trees\n",
        "- Neural Networks\n",
        "- Support Vector Machines"
      ]
    },
    {
      "cell_type": "markdown",
      "metadata": {
        "id": "ne5UtufMB6qo"
      },
      "source": [
        "7)  How do you evaluate a Bagging Classifier’s performance?"
      ]
    },
    {
      "cell_type": "markdown",
      "metadata": {
        "id": "mnsjjrUNCCCf"
      },
      "source": [
        "Ans = To evaluate a Bagging Classifier's performance:\n",
        "\n",
        "1. Accuracy: Calculate the proportion of correctly classified instances.\n",
        "2. Precision: Measure the proportion of true positives among all positive predictions.\n",
        "3. Recall: Measure the proportion of true positives among all actual positive instances.\n",
        "4. F1-score: Calculate the harmonic mean of precision and recall.\n",
        "5. ROC-AUC: Plot the Receiver Operating Characteristic curve and calculate the Area Under the Curve.\n",
        "6. Confusion Matrix: Visualize the true positives, false positives, true negatives, and false negatives.\n",
        "\n",
        "Additionally, you can:\n",
        "\n",
        "1. Cross-validation: Evaluate the model using k-fold cross-validation to ensure robust performance.\n",
        "2. Compare with baseline: Compare the Bagging Classifier's performance with a baseline model (e.g., a single Decision Tree)."
      ]
    },
    {
      "cell_type": "markdown",
      "metadata": {
        "id": "TZ1UgYZvCJdW"
      },
      "source": [
        "8) How does a Bagging Regressor work?"
      ]
    },
    {
      "cell_type": "markdown",
      "metadata": {
        "id": "tH4gmrIkCN2n"
      },
      "source": [
        "Ans = A Bagging Regressor works by:\n",
        "\n",
        "1. Bootstrap Sampling: Creating multiple subsets of the training data by randomly sampling with replacement.\n",
        "2. Model Training: Training a base regressor (e.g., Decision Tree) on each subset.\n",
        "3. Prediction: Making predictions using each trained model.\n",
        "4. Averaging: Combining predictions by averaging them.\n",
        "\n",
        "This process:\n",
        "\n",
        "- Reduces overfitting: By averaging out errors\n",
        "- Improves robustness: By handling noisy data\n",
        "- Increases accuracy: By combining multiple models\n",
        "\n",
        "Common base regressors used in Bagging include:\n",
        "\n",
        "- Decision Trees\n",
        "- Linear Regression\n",
        "- Support Vector Machines"
      ]
    },
    {
      "cell_type": "markdown",
      "metadata": {
        "id": "GOua5K8XCUOA"
      },
      "source": [
        "9) What is the main advantage of ensemble techniques?"
      ]
    },
    {
      "cell_type": "markdown",
      "metadata": {
        "id": "Qw-V4-oeCZNv"
      },
      "source": [
        "Ans = The main advantage of ensemble techniques is:\n",
        "\n",
        "Improved Accuracy and Robustness\n",
        "\n",
        "Ensemble techniques combine multiple models to produce a more accurate and robust prediction than any individual model. This is achieved by:\n",
        "\n",
        "- Reducing overfitting: Averaging out errors and reducing variance\n",
        "- Increasing diversity: Combining different models and perspectives\n",
        "- Handling noisy data: Robustness to outliers and noisy data\n",
        "\n",
        "Overall, ensemble techniques can significantly improve the performance and reliability of machine learning models."
      ]
    },
    {
      "cell_type": "markdown",
      "metadata": {
        "id": "vJ8LY5wECfJr"
      },
      "source": [
        "10) What is the main challenge of ensemble methods?"
      ]
    },
    {
      "cell_type": "markdown",
      "metadata": {
        "id": "DC5ox0aJCkaG"
      },
      "source": [
        "Ans = The main challenge of ensemble methods is:\n",
        "\n",
        "Model Diversity and Selection\n",
        "\n",
        "Ensuring that the individual models in the ensemble are diverse and complementary is crucial. If the models are too similar, the ensemble may not provide significant improvements.\n",
        "\n",
        "Other challenges include:\n",
        "\n",
        "- Computational Cost: Training multiple models can be computationally expensive\n",
        "- Hyperparameter Tuning: Tuning hyperparameters for each model and the ensemble as a whole can be challenging\n",
        "- Interpretability: Understanding how the ensemble makes predictions can be difficult"
      ]
    },
    {
      "cell_type": "markdown",
      "metadata": {
        "id": "XKRXkfQsCqje"
      },
      "source": [
        "11)  Explain the key idea behind ensemble techniques?"
      ]
    },
    {
      "cell_type": "markdown",
      "metadata": {
        "id": "dFnUKLr5C7bs"
      },
      "source": [
        "Ans = The key idea behind ensemble techniques is:\n",
        "\n",
        "Combining Multiple Models to Improve Performance\n",
        "\n",
        "Ensemble techniques involve training multiple models on the same data and then combining their predictions to produce a final output.\n",
        "\n",
        "The idea is that:\n",
        "\n",
        "- Different models capture different patterns: Each model may capture different aspects of the data, and combining them can lead to a more comprehensive understanding.\n",
        "- Combining models reduces errors: By averaging out errors and variability, ensemble techniques can produce more accurate and robust predictions."
      ]
    },
    {
      "cell_type": "markdown",
      "metadata": {
        "id": "Px2QAtWpC8Vy"
      },
      "source": [
        "12) What is a Random Forest Classifier?"
      ]
    },
    {
      "cell_type": "markdown",
      "metadata": {
        "id": "AvSmePkeDB5d"
      },
      "source": [
        "Ans = A Random Forest Classifier is an ensemble learning algorithm that combines multiple Decision Trees to classify data.\n",
        "\n",
        "Here's how it works:\n",
        "\n",
        "1. Multiple Decision Trees: Train multiple Decision Trees on random subsets of the data.\n",
        "2. Random Feature Selection: Select a random subset of features to consider at each node.\n",
        "3. Voting: Combine the predictions from each Decision Tree using voting.\n",
        "\n",
        "Random Forest Classifiers offer:\n",
        "\n",
        "- High accuracy: By combining multiple models\n",
        "- Robustness to overfitting: By reducing variance\n",
        "- Handling high-dimensional data: By selecting random features\n",
        "\n",
        "They're widely used for:\n",
        "\n",
        "- Classification tasks: Such as image classification, text classification, and more."
      ]
    },
    {
      "cell_type": "markdown",
      "metadata": {
        "id": "w_nzU9jRGMLv"
      },
      "source": [
        "13) What are the main types of ensemble techniques?"
      ]
    },
    {
      "cell_type": "markdown",
      "metadata": {
        "id": "wjlb84Y2GORy"
      },
      "source": [
        "Ans = The main types of ensemble techniques are:\n",
        "\n",
        "1. Bagging (Bootstrap Aggregating): Combines multiple instances of the same model trained on different subsets of the data.\n",
        "2. Boosting: Combines multiple weak models to create a strong predictive model, with each subsequent model attempting to correct the errors of the previous one.\n",
        "3. Stacking: Combines the predictions of multiple models using a meta-model to make the final prediction.\n",
        "\n",
        "These techniques can be used for both classification and regression tasks, and can be combined with various machine learning algorithms, such as decision trees, neural networks, and support vector machines."
      ]
    },
    {
      "cell_type": "markdown",
      "metadata": {
        "id": "ywkCKzKcGfhy"
      },
      "source": [
        "14) What is ensemble learning in machine learning?"
      ]
    },
    {
      "cell_type": "markdown",
      "metadata": {
        "id": "I-EYHw5kGmNy"
      },
      "source": [
        "Ans = Ensemble learning is a machine learning technique that combines the predictions of multiple models to improve the accuracy, robustness, and generalizability of the predictions.\n",
        "\n",
        "The basic idea is to:\n",
        "\n",
        "1. Train multiple models on the same data\n",
        "2. Combine the predictions of these models\n",
        "3. Produce a final prediction that is often more accurate than any individual model\n",
        "\n",
        "Ensemble learning can be used for:\n",
        "\n",
        "- Classification\n",
        "- Regression\n",
        "- Clustering\n",
        "- Anomaly detection\n",
        "\n",
        "Benefits of ensemble learning:\n",
        "\n",
        "- Improved accuracy\n",
        "- Increased robustness\n",
        "- Better handling of noisy data\n",
        "- Reduced overfitting"
      ]
    },
    {
      "cell_type": "markdown",
      "metadata": {
        "id": "x4Yrw-CkGvQh"
      },
      "source": [
        "15)  When should we avoid using ensemble methods?"
      ]
    },
    {
      "cell_type": "markdown",
      "metadata": {
        "id": "yBa7JaAKGz4i"
      },
      "source": [
        "Ans = We should avoid using ensemble methods in the following situations:\n",
        "\n",
        "1. Small datasets: Ensemble methods require large datasets to be effective.\n",
        "2. Simple problems: Ensemble methods are unnecessary for simple problems where a single model can achieve good performance.\n",
        "3. Highly correlated features: Ensemble methods can struggle with highly correlated features, leading to overfitting.\n",
        "4. Interpretability is crucial: Ensemble methods can be difficult to interpret, so they may not be suitable for applications where interpretability is essential.\n",
        "5. Computational resources are limited: Ensemble methods can be computationally expensive, so they may not be suitable for applications with limited computational resources."
      ]
    },
    {
      "cell_type": "markdown",
      "metadata": {
        "id": "wa1sBUKRG6Rx"
      },
      "source": [
        "16) How does Bagging help in reducing overfitting?"
      ]
    },
    {
      "cell_type": "markdown",
      "metadata": {
        "id": "yekXai2nG_FM"
      },
      "source": [
        "Ans = Bagging (Bootstrap Aggregating) helps reduce overfitting in several ways:\n",
        "\n",
        "1. Averaging out errors: By combining multiple models trained on different subsets of the data, Bagging averages out the errors, reducing the impact of overfitting.\n",
        "2. Reducing variance: Bagging reduces the variance of the model by averaging the predictions, making it less sensitive to noise in the data.\n",
        "3. Increasing robustness: By training multiple models on different subsets of the data, Bagging increases the robustness of the model to outliers and noisy data.\n",
        "4. Smoothing the decision boundary: Bagging smooths the decision boundary by averaging the predictions, reducing the impact of overfitting.\n",
        "\n",
        "By reducing overfitting, Bagging improves the generalization performance of the model, making it more accurate on unseen data."
      ]
    },
    {
      "cell_type": "markdown",
      "metadata": {
        "id": "wjaKtR8_HGXa"
      },
      "source": [
        "17) Why is Random Forest better than a single Decision Tree?"
      ]
    },
    {
      "cell_type": "markdown",
      "metadata": {
        "id": "2xc17BBtHLHb"
      },
      "source": [
        "Ans = Random Forest is better than a single Decision Tree for several reasons:\n",
        "\n",
        "1. Reduced Overfitting: Random Forest reduces overfitting by averaging the predictions of multiple Decision Trees, making it more robust.\n",
        "2. Improved Accuracy: Random Forest improves accuracy by combining the strengths of multiple Decision Trees, reducing errors.\n",
        "3. Increased Robustness: Random Forest is more robust to outliers, noisy data, and missing values due to its ensemble nature.\n",
        "4. Better Handling of High-Dimensional Data: Random Forest can handle high-dimensional data more effectively by selecting random subsets of features.\n",
        "5. Reduced Variance: Random Forest reduces variance by averaging the predictions, making it less sensitive to noise.\n",
        "\n",
        "Overall, Random Forest provides a more accurate, robust, and reliable prediction model compared to a single Decision Tree."
      ]
    },
    {
      "cell_type": "markdown",
      "metadata": {
        "id": "AVComueTHUUY"
      },
      "source": [
        "18) What is the role of bootstrap sampling in Bagging?"
      ]
    },
    {
      "cell_type": "markdown",
      "metadata": {
        "id": "WXjgzjIZHZaM"
      },
      "source": [
        "Ans = In Bagging, bootstrap sampling plays a crucial role:\n",
        "\n",
        "1. Creating diverse subsets: Bootstrap sampling creates multiple diverse subsets of the training data, each with the same size as the original dataset.\n",
        "2. Reducing overfitting: By training multiple models on different subsets, Bagging reduces overfitting by averaging out the errors.\n",
        "3. Increasing robustness: Bootstrap sampling increases the robustness of the model by allowing it to handle noisy data and outliers.\n",
        "\n",
        "Here's how it works:\n",
        "\n",
        "1. Randomly sample the training data with replacement.\n",
        "2. Create a new subset of the same size as the original dataset.\n",
        "3. Repeat steps 1-2 multiple times to create multiple subsets.\n",
        "\n",
        "By using bootstrap sampling, Bagging creates an ensemble of models that are trained on different subsets of the data, leading to improved accuracy and robustness."
      ]
    },
    {
      "cell_type": "markdown",
      "metadata": {
        "id": "WC3tLnVyHhBP"
      },
      "source": [
        "19) What are some real-world applications of ensemble techniques?"
      ]
    },
    {
      "cell_type": "markdown",
      "metadata": {
        "id": "gqt6xqS-HmJL"
      },
      "source": [
        "Ans = Ensemble techniques have numerous real-world applications:\n",
        "\n",
        "1. Image Classification: Ensemble methods like Bagging and Boosting are used in image classification tasks, such as object detection and facial recognition.\n",
        "2. Speech Recognition: Ensemble techniques are used to improve speech recognition systems, such as Siri, Alexa, and Google Assistant.\n",
        "3. Natural Language Processing: Ensemble methods are used in NLP tasks, such as sentiment analysis, text classification, and machine translation.\n",
        "4. Predictive Maintenance: Ensemble techniques are used to predict equipment failures and schedule maintenance in industries like manufacturing, aviation, and healthcare.\n",
        "5. Credit Risk Assessment: Ensemble methods are used to evaluate creditworthiness and predict loan defaults.\n",
        "6. Medical Diagnosis: Ensemble techniques are used to improve medical diagnosis accuracy, such as detecting diseases like cancer and diabetes.\n",
        "7. Stock Market Prediction: Ensemble methods are used to predict stock prices and identify investment opportunities.\n",
        "8. Recommendation Systems: Ensemble techniques are used to build recommendation systems, such as personalized product suggestions and content recommendations."
      ]
    },
    {
      "cell_type": "markdown",
      "metadata": {
        "id": "vp0-6XSFHulz"
      },
      "source": [
        "20) What is the difference between Bagging and Boosting?"
      ]
    },
    {
      "cell_type": "markdown",
      "metadata": {
        "id": "Tr0eOl1LH05R"
      },
      "source": [
        "Ans = Bagging and Boosting are both ensemble learning techniques, but they differ in their approach:\n",
        "\n",
        "Bagging:\n",
        "\n",
        "1. Parallel training: Trains multiple models in parallel on different subsets of the data.\n",
        "2. Equal weighting: Gives equal weight to each model's predictions.\n",
        "3. Reduces variance: Aims to reduce overfitting by averaging out the errors.\n",
        "\n",
        "Boosting:\n",
        "\n",
        "1. Sequential training: Trains models sequentially, with each model attempting to correct the errors of the previous one.\n",
        "2. Weighted voting: Gives more weight to the models that perform better.\n",
        "3. Reduces bias: Aims to reduce underfitting by combining multiple weak models.\n",
        "\n",
        "In summary:\n",
        "\n",
        "- Bagging focuses on reducing variance and overfitting.\n",
        "- Boosting focuses on reducing bias and underfitting.\n",
        "\n",
        "While both techniques can improve model performance, they are used in different scenarios:\n",
        "\n",
        "- Bagging is suitable for datasets with high variance.\n",
        "- Boosting is suitable for datasets with high bias."
      ]
    },
    {
      "cell_type": "markdown",
      "metadata": {
        "id": "-PoKRIEEIBgL"
      },
      "source": [
        "                                                                                           Practical"
      ]
    },
    {
      "cell_type": "markdown",
      "metadata": {
        "id": "godZXJt5IM2y"
      },
      "source": [
        "21) Train a Bagging Classifier using Decision Trees on a sample dataset and print model accuracy?"
      ]
    },
    {
      "cell_type": "code",
      "execution_count": null,
      "metadata": {
        "colab": {
          "base_uri": "https://localhost:8080/"
        },
        "id": "OAI1uOIVR5lP",
        "outputId": "f5f54803-a3f2-43b1-a5ff-fa8df160c7d0"
      },
      "outputs": [
        {
          "data": {
            "text/plain": [
              "(array([[4.6, 3.6, 1. , 0.2],\n",
              "        [5.7, 4.4, 1.5, 0.4],\n",
              "        [6.7, 3.1, 4.4, 1.4],\n",
              "        [4.8, 3.4, 1.6, 0.2],\n",
              "        [4.4, 3.2, 1.3, 0.2],\n",
              "        [6.3, 2.5, 5. , 1.9],\n",
              "        [6.4, 3.2, 4.5, 1.5],\n",
              "        [5.2, 3.5, 1.5, 0.2],\n",
              "        [5. , 3.6, 1.4, 0.2],\n",
              "        [5.2, 4.1, 1.5, 0.1],\n",
              "        [5.8, 2.7, 5.1, 1.9],\n",
              "        [6. , 3.4, 4.5, 1.6],\n",
              "        [6.7, 3.1, 4.7, 1.5],\n",
              "        [5.4, 3.9, 1.3, 0.4],\n",
              "        [5.4, 3.7, 1.5, 0.2],\n",
              "        [5.5, 2.4, 3.7, 1. ],\n",
              "        [6.3, 2.8, 5.1, 1.5],\n",
              "        [6.4, 3.1, 5.5, 1.8],\n",
              "        [6.6, 3. , 4.4, 1.4],\n",
              "        [7.2, 3.6, 6.1, 2.5],\n",
              "        [5.7, 2.9, 4.2, 1.3],\n",
              "        [7.6, 3. , 6.6, 2.1],\n",
              "        [5.6, 3. , 4.5, 1.5],\n",
              "        [5.1, 3.5, 1.4, 0.2],\n",
              "        [7.7, 2.8, 6.7, 2. ],\n",
              "        [5.8, 2.7, 4.1, 1. ],\n",
              "        [5.2, 3.4, 1.4, 0.2],\n",
              "        [5. , 3.5, 1.3, 0.3],\n",
              "        [5.1, 3.8, 1.9, 0.4],\n",
              "        [5. , 2. , 3.5, 1. ],\n",
              "        [6.3, 2.7, 4.9, 1.8],\n",
              "        [4.8, 3.4, 1.9, 0.2],\n",
              "        [5. , 3. , 1.6, 0.2],\n",
              "        [5.1, 3.3, 1.7, 0.5],\n",
              "        [5.6, 2.7, 4.2, 1.3],\n",
              "        [5.1, 3.4, 1.5, 0.2],\n",
              "        [5.7, 3. , 4.2, 1.2],\n",
              "        [7.7, 3.8, 6.7, 2.2],\n",
              "        [4.6, 3.2, 1.4, 0.2],\n",
              "        [6.2, 2.9, 4.3, 1.3],\n",
              "        [5.7, 2.5, 5. , 2. ],\n",
              "        [5.5, 4.2, 1.4, 0.2],\n",
              "        [6. , 3. , 4.8, 1.8],\n",
              "        [5.8, 2.7, 5.1, 1.9],\n",
              "        [6. , 2.2, 4. , 1. ],\n",
              "        [5.4, 3. , 4.5, 1.5],\n",
              "        [6.2, 3.4, 5.4, 2.3],\n",
              "        [5.5, 2.3, 4. , 1.3],\n",
              "        [5.4, 3.9, 1.7, 0.4],\n",
              "        [5. , 2.3, 3.3, 1. ],\n",
              "        [6.4, 2.7, 5.3, 1.9],\n",
              "        [5. , 3.3, 1.4, 0.2],\n",
              "        [5. , 3.2, 1.2, 0.2],\n",
              "        [5.5, 2.4, 3.8, 1.1],\n",
              "        [6.7, 3. , 5. , 1.7],\n",
              "        [4.9, 3.1, 1.5, 0.2],\n",
              "        [5.8, 2.8, 5.1, 2.4],\n",
              "        [5. , 3.4, 1.5, 0.2],\n",
              "        [5. , 3.5, 1.6, 0.6],\n",
              "        [5.9, 3.2, 4.8, 1.8],\n",
              "        [5.1, 2.5, 3. , 1.1],\n",
              "        [6.9, 3.2, 5.7, 2.3],\n",
              "        [6. , 2.7, 5.1, 1.6],\n",
              "        [6.1, 2.6, 5.6, 1.4],\n",
              "        [7.7, 3. , 6.1, 2.3],\n",
              "        [5.5, 2.5, 4. , 1.3],\n",
              "        [4.4, 2.9, 1.4, 0.2],\n",
              "        [4.3, 3. , 1.1, 0.1],\n",
              "        [6. , 2.2, 5. , 1.5],\n",
              "        [7.2, 3.2, 6. , 1.8],\n",
              "        [4.6, 3.1, 1.5, 0.2],\n",
              "        [5.1, 3.5, 1.4, 0.3],\n",
              "        [4.4, 3. , 1.3, 0.2],\n",
              "        [6.3, 2.5, 4.9, 1.5],\n",
              "        [6.3, 3.4, 5.6, 2.4],\n",
              "        [4.6, 3.4, 1.4, 0.3],\n",
              "        [6.8, 3. , 5.5, 2.1],\n",
              "        [6.3, 3.3, 6. , 2.5],\n",
              "        [4.7, 3.2, 1.3, 0.2],\n",
              "        [6.1, 2.9, 4.7, 1.4],\n",
              "        [6.5, 2.8, 4.6, 1.5],\n",
              "        [6.2, 2.8, 4.8, 1.8],\n",
              "        [7. , 3.2, 4.7, 1.4],\n",
              "        [6.4, 3.2, 5.3, 2.3],\n",
              "        [5.1, 3.8, 1.6, 0.2],\n",
              "        [6.9, 3.1, 5.4, 2.1],\n",
              "        [5.9, 3. , 4.2, 1.5],\n",
              "        [6.5, 3. , 5.2, 2. ],\n",
              "        [5.7, 2.6, 3.5, 1. ],\n",
              "        [5.2, 2.7, 3.9, 1.4],\n",
              "        [6.1, 3. , 4.6, 1.4],\n",
              "        [4.5, 2.3, 1.3, 0.3],\n",
              "        [6.6, 2.9, 4.6, 1.3],\n",
              "        [5.5, 2.6, 4.4, 1.2],\n",
              "        [5.3, 3.7, 1.5, 0.2],\n",
              "        [5.6, 3. , 4.1, 1.3],\n",
              "        [7.3, 2.9, 6.3, 1.8],\n",
              "        [6.7, 3.3, 5.7, 2.1],\n",
              "        [5.1, 3.7, 1.5, 0.4],\n",
              "        [4.9, 2.4, 3.3, 1. ],\n",
              "        [6.7, 3.3, 5.7, 2.5],\n",
              "        [7.2, 3. , 5.8, 1.6],\n",
              "        [4.9, 3.6, 1.4, 0.1],\n",
              "        [6.7, 3.1, 5.6, 2.4],\n",
              "        [4.9, 3. , 1.4, 0.2],\n",
              "        [6.9, 3.1, 4.9, 1.5],\n",
              "        [7.4, 2.8, 6.1, 1.9],\n",
              "        [6.3, 2.9, 5.6, 1.8],\n",
              "        [5.7, 2.8, 4.1, 1.3],\n",
              "        [6.5, 3. , 5.5, 1.8],\n",
              "        [6.3, 2.3, 4.4, 1.3],\n",
              "        [6.4, 2.9, 4.3, 1.3],\n",
              "        [5.6, 2.8, 4.9, 2. ],\n",
              "        [5.9, 3. , 5.1, 1.8],\n",
              "        [5.4, 3.4, 1.7, 0.2],\n",
              "        [6.1, 2.8, 4. , 1.3],\n",
              "        [4.9, 2.5, 4.5, 1.7],\n",
              "        [5.8, 4. , 1.2, 0.2],\n",
              "        [5.8, 2.6, 4. , 1.2],\n",
              "        [7.1, 3. , 5.9, 2.1]]),\n",
              " array([[6.1, 2.8, 4.7, 1.2],\n",
              "        [5.7, 3.8, 1.7, 0.3],\n",
              "        [7.7, 2.6, 6.9, 2.3],\n",
              "        [6. , 2.9, 4.5, 1.5],\n",
              "        [6.8, 2.8, 4.8, 1.4],\n",
              "        [5.4, 3.4, 1.5, 0.4],\n",
              "        [5.6, 2.9, 3.6, 1.3],\n",
              "        [6.9, 3.1, 5.1, 2.3],\n",
              "        [6.2, 2.2, 4.5, 1.5],\n",
              "        [5.8, 2.7, 3.9, 1.2],\n",
              "        [6.5, 3.2, 5.1, 2. ],\n",
              "        [4.8, 3. , 1.4, 0.1],\n",
              "        [5.5, 3.5, 1.3, 0.2],\n",
              "        [4.9, 3.1, 1.5, 0.1],\n",
              "        [5.1, 3.8, 1.5, 0.3],\n",
              "        [6.3, 3.3, 4.7, 1.6],\n",
              "        [6.5, 3. , 5.8, 2.2],\n",
              "        [5.6, 2.5, 3.9, 1.1],\n",
              "        [5.7, 2.8, 4.5, 1.3],\n",
              "        [6.4, 2.8, 5.6, 2.2],\n",
              "        [4.7, 3.2, 1.6, 0.2],\n",
              "        [6.1, 3. , 4.9, 1.8],\n",
              "        [5. , 3.4, 1.6, 0.4],\n",
              "        [6.4, 2.8, 5.6, 2.1],\n",
              "        [7.9, 3.8, 6.4, 2. ],\n",
              "        [6.7, 3. , 5.2, 2.3],\n",
              "        [6.7, 2.5, 5.8, 1.8],\n",
              "        [6.8, 3.2, 5.9, 2.3],\n",
              "        [4.8, 3. , 1.4, 0.3],\n",
              "        [4.8, 3.1, 1.6, 0.2]]),\n",
              " array([0, 0, 1, 0, 0, 2, 1, 0, 0, 0, 2, 1, 1, 0, 0, 1, 2, 2, 1, 2, 1, 2,\n",
              "        1, 0, 2, 1, 0, 0, 0, 1, 2, 0, 0, 0, 1, 0, 1, 2, 0, 1, 2, 0, 2, 2,\n",
              "        1, 1, 2, 1, 0, 1, 2, 0, 0, 1, 1, 0, 2, 0, 0, 1, 1, 2, 1, 2, 2, 1,\n",
              "        0, 0, 2, 2, 0, 0, 0, 1, 2, 0, 2, 2, 0, 1, 1, 2, 1, 2, 0, 2, 1, 2,\n",
              "        1, 1, 1, 0, 1, 1, 0, 1, 2, 2, 0, 1, 2, 2, 0, 2, 0, 1, 2, 2, 1, 2,\n",
              "        1, 1, 2, 2, 0, 1, 2, 0, 1, 2]))"
            ]
          },
          "execution_count": 3,
          "metadata": {},
          "output_type": "execute_result"
        }
      ],
      "source": [
        "# Import necessary libraries\n",
        "from sklearn.ensemble import BaggingClassifier\n",
        "from sklearn.tree import DecisionTreeClassifier\n",
        "from sklearn.datasets import load_iris\n",
        "from sklearn.model_selection import train_test_split\n",
        "from sklearn.metrics import accuracy_score\n",
        "\n",
        "# Load the iris dataset\n",
        "iris = load_iris()\n",
        "X = iris.data\n",
        "y = iris.target\n",
        "\n",
        "# Split the dataset into training and testing sets\n",
        "X_train, X_test, y_train,"
      ]
    },
    {
      "cell_type": "markdown",
      "metadata": {
        "id": "s1jBu0U-TelR"
      },
      "source": [
        "22)  Train a Bagging Regressor using Decision Trees and evaluate using Mean Squared Error (MSE)?"
      ]
    },
    {
      "cell_type": "code",
      "execution_count": null,
      "metadata": {
        "colab": {
          "base_uri": "https://localhost:8080/"
        },
        "id": "boYqjFZ4Uuv5",
        "outputId": "b251dd62-c60c-4a79-cfd2-82dd8f259134"
      },
      "outputs": [
        {
          "name": "stdout",
          "output_type": "stream",
          "text": [
            "Model Accuracy: 1.00\n"
          ]
        }
      ],
      "source": [
        "from sklearn.datasets import load_iris\n",
        "from sklearn.model_selection import train_test_split\n",
        "from sklearn.ensemble import BaggingClassifier\n",
        "from sklearn.tree import DecisionTreeClassifier\n",
        "from sklearn.metrics import accuracy_score\n",
        "\n",
        "# Load dataset\n",
        "iris = load_iris()\n",
        "X, y = iris.data, iris.target\n",
        "\n",
        "# Split into train and test sets\n",
        "X_train, X_test, y_train, y_test = train_test_split(X, y, test_size=0.2, random_state=42)\n",
        "\n",
        "# Create a Bagging Classifier with Decision Trees\n",
        "# The 'base_estimator' argument has been replaced with 'estimator' in newer versions of scikit-learn.\n",
        "bagging_clf = BaggingClassifier(estimator=DecisionTreeClassifier(), n_estimators=50, random_state=42)\n",
        "\n",
        "# Train the model\n",
        "bagging_clf.fit(X_train, y_train)\n",
        "\n",
        "# Predict on test data\n",
        "y_pred = bagging_clf.predict(X_test)\n",
        "\n",
        "# Calculate accuracy\n",
        "accuracy = accuracy_score(y_test, y_pred)\n",
        "\n",
        "# Print accuracy\n",
        "print(f\"Model Accuracy: {accuracy:.2f}\")"
      ]
    },
    {
      "cell_type": "markdown",
      "metadata": {
        "id": "nh-TYyc2U4BI"
      },
      "source": [
        "23) Train a Random Forest Classifier on the Breast Cancer dataset and print feature importance score?"
      ]
    },
    {
      "cell_type": "code",
      "execution_count": null,
      "metadata": {
        "colab": {
          "base_uri": "https://localhost:8080/"
        },
        "id": "NZP4qvj7U8I1",
        "outputId": "5e9b202e-6c4e-4e67-c89f-94a20032e2ec"
      },
      "outputs": [
        {
          "name": "stdout",
          "output_type": "stream",
          "text": [
            "                 Feature  Importance\n",
            "23            worst area    0.153892\n",
            "27  worst concave points    0.144663\n",
            "7    mean concave points    0.106210\n",
            "20          worst radius    0.077987\n",
            "6         mean concavity    0.068001\n",
            "22       worst perimeter    0.067115\n",
            "2         mean perimeter    0.053270\n",
            "0            mean radius    0.048703\n",
            "3              mean area    0.047555\n",
            "26       worst concavity    0.031802\n"
          ]
        }
      ],
      "source": [
        "# Import necessary libraries\n",
        "from sklearn.ensemble import RandomForestClassifier\n",
        "from sklearn.datasets import load_breast_cancer\n",
        "from sklearn.model_selection import train_test_split\n",
        "import pandas as pd\n",
        "\n",
        "# Load the breast cancer dataset\n",
        "cancer = load_breast_cancer()\n",
        "X = cancer.data\n",
        "y = cancer.target\n",
        "\n",
        "# Create a DataFrame with feature names\n",
        "df = pd.DataFrame(X, columns=cancer.feature_names)\n",
        "\n",
        "# Split the dataset into training and testing sets\n",
        "X_train, X_test, y_train, y_test = train_test_split(X, y, test_size=0.2, random_state=42)\n",
        "\n",
        "# Train a Random Forest Classifier\n",
        "rf = RandomForestClassifier(n_estimators=100, random_state=42)\n",
        "rf.fit(X_train, y_train)\n",
        "\n",
        "# Get feature importance scores\n",
        "importance = rf.feature_importances_\n",
        "\n",
        "# Create a DataFrame with feature importance scores\n",
        "importance_df = pd.DataFrame({'Feature': cancer.feature_names, 'Importance': importance})\n",
        "\n",
        "# Print the top 10 most important features\n",
        "print(importance_df.sort_values(by='Importance', ascending=False).head(10))\n"
      ]
    },
    {
      "cell_type": "markdown",
      "metadata": {
        "id": "lG6CoxSeVHIl"
      },
      "source": [
        "24)  Train a Random Forest Regressor and compare its performance with a single Decision Tree?"
      ]
    },
    {
      "cell_type": "code",
      "execution_count": null,
      "metadata": {
        "colab": {
          "base_uri": "https://localhost:8080/"
        },
        "id": "l9-gyepKVRCE",
        "outputId": "7471c9b6-7a38-457f-8ed0-62f7c4050d45"
      },
      "outputs": [
        {
          "name": "stdout",
          "output_type": "stream",
          "text": [
            "Decision Tree MSE: 4976.797752808989\n",
            "Random Forest MSE: 2952.0105887640448\n",
            "Random Forest Regressor outperforms the Decision Tree Regressor.\n"
          ]
        }
      ],
      "source": [
        "# Import necessary libraries\n",
        "from sklearn.ensemble import RandomForestRegressor\n",
        "from sklearn.tree import DecisionTreeRegressor\n",
        "from sklearn.datasets import load_diabetes\n",
        "from sklearn.model_selection import train_test_split\n",
        "from sklearn.metrics import mean_squared_error\n",
        "\n",
        "# Load the diabetes dataset\n",
        "diabetes = load_diabetes()\n",
        "X = diabetes.data\n",
        "y = diabetes.target\n",
        "\n",
        "# Split the dataset into training and testing sets\n",
        "X_train, X_test, y_train, y_test = train_test_split(X, y, test_size=0.2, random_state=42)\n",
        "\n",
        "# Train a Decision Tree Regressor\n",
        "dt = DecisionTreeRegressor(random_state=42)\n",
        "dt.fit(X_train, y_train)\n",
        "\n",
        "# Make predictions using the Decision Tree Regressor\n",
        "dt_pred = dt.predict(X_test)\n",
        "\n",
        "# Train a Random Forest Regressor\n",
        "rf = RandomForestRegressor(n_estimators=100, random_state=42)\n",
        "rf.fit(X_train, y_train)\n",
        "\n",
        "# Make predictions using the Random Forest Regressor\n",
        "rf_pred = rf.predict(X_test)\n",
        "\n",
        "# Evaluate the models using Mean Squared Error (MSE)\n",
        "dt_mse = mean_squared_error(y_test, dt_pred)\n",
        "rf_mse = mean_squared_error(y_test, rf_pred)\n",
        "\n",
        "print(\"Decision Tree MSE:\", dt_mse)\n",
        "print(\"Random Forest MSE:\", rf_mse)\n",
        "\n",
        "# Compare the performance of the two models\n",
        "if rf_mse < dt_mse:\n",
        "    print(\"Random Forest Regressor outperforms the Decision Tree Regressor.\")\n",
        "else:\n",
        "    print(\"Decision Tree Regressor outperforms the Random Forest Regressor.\")\n",
        "\n"
      ]
    },
    {
      "cell_type": "markdown",
      "metadata": {
        "id": "VBKUqkeEVgRJ"
      },
      "source": [
        "25)  Compute the Out-of-Bag (OOB) Score for a Random Forest Classifier?"
      ]
    },
    {
      "cell_type": "code",
      "execution_count": null,
      "metadata": {
        "colab": {
          "base_uri": "https://localhost:8080/"
        },
        "id": "th7HUb8IVmSZ",
        "outputId": "d3695730-36dc-41d0-fb25-322bdfce8ec7"
      },
      "outputs": [
        {
          "name": "stdout",
          "output_type": "stream",
          "text": [
            "Out-of-Bag (OOB) Score: 0.9533333333333334\n",
            "Training Accuracy: 1.0\n",
            "The OOB score is a good estimate of the test accuracy.\n"
          ]
        }
      ],
      "source": [
        "# Import necessary libraries\n",
        "from sklearn.ensemble import RandomForestClassifier\n",
        "from sklearn.datasets import load_iris\n",
        "from sklearn.metrics import accuracy_score, confusion_matrix\n",
        "\n",
        "# Load the iris dataset\n",
        "iris = load_iris()\n",
        "X = iris.data\n",
        "y = iris.target\n",
        "\n",
        "# Train a Random Forest Classifier with OOB score\n",
        "rf = RandomForestClassifier(n_estimators=100, random_state=42, oob_score=True)\n",
        "rf.fit(X, y)\n",
        "\n",
        "# Compute the OOB score\n",
        "oob_score = rf.oob_score_\n",
        "print(\"Out-of-Bag (OOB) Score:\", oob_score)\n",
        "\n",
        "# Make predictions on the training set\n",
        "y_pred = rf.predict(X)\n",
        "\n",
        "# Compute the training accuracy\n",
        "train_accuracy = accuracy_score(y, y_pred)\n",
        "print(\"Training Accuracy:\", train_accuracy)\n",
        "\n",
        "# Compare the OOB score with the training accuracy\n",
        "if abs(oob_score - train_accuracy) < 0.1:\n",
        "    print(\"The OOB score is a good estimate of the test accuracy.\")\n",
        "else:\n",
        "    print(\"The OOB score may not be a good estimate of the test accuracy.\")\n",
        "\n"
      ]
    },
    {
      "cell_type": "markdown",
      "metadata": {
        "id": "xtBcwITCVxQi"
      },
      "source": [
        "26)  Train a Bagging Classifier using SVM as a base estimator and print accuracy?"
      ]
    },
    {
      "cell_type": "code",
      "execution_count": null,
      "metadata": {
        "colab": {
          "base_uri": "https://localhost:8080/"
        },
        "id": "KGhPxbAjWGuC",
        "outputId": "a8720d0d-3951-48ed-82c4-33b5be49dc96"
      },
      "outputs": [
        {
          "name": "stdout",
          "output_type": "stream",
          "text": [
            "Accuracy of Bagging SVM: 1.0\n"
          ]
        }
      ],
      "source": [
        "# Import necessary libraries\n",
        "from sklearn.ensemble import BaggingClassifier\n",
        "from sklearn.svm import SVC\n",
        "from sklearn.datasets import load_iris\n",
        "from sklearn.model_selection import train_test_split\n",
        "from sklearn.metrics import accuracy_score\n",
        "\n",
        "# Load the iris dataset\n",
        "iris = load_iris()\n",
        "X = iris.data\n",
        "y = iris.target\n",
        "\n",
        "# Split the dataset into training and testing sets\n",
        "X_train, X_test, y_train, y_test = train_test_split(X, y, test_size=0.2, random_state=42)\n",
        "\n",
        "# Create an SVM classifier as the base estimator\n",
        "svm = SVC(probability=True, random_state=42)\n",
        "\n",
        "# Create a Bagging Classifier using SVM as the base estimator\n",
        "# The 'base_estimator' argument has been replaced with 'estimator' in newer versions of scikit-learn.\n",
        "bagging_svm = BaggingClassifier(estimator=svm, n_estimators=10, random_state=42)\n",
        "\n",
        "# Train the Bagging Classifier\n",
        "bagging_svm.fit(X_train, y_train)\n",
        "\n",
        "# Make predictions on the test set\n",
        "y_pred = bagging_svm.predict(X_test)\n",
        "\n",
        "# Print the accuracy of the Bagging Classifier\n",
        "accuracy = accuracy_score(y_test, y_pred)\n",
        "print(\"Accuracy of Bagging SVM:\", accuracy)"
      ]
    },
    {
      "cell_type": "markdown",
      "metadata": {
        "id": "e2_cb2f-WKAn"
      },
      "source": [
        "27)  Train a Random Forest Classifier with different numbers of trees and compare accuracy?"
      ]
    },
    {
      "cell_type": "code",
      "execution_count": null,
      "metadata": {
        "colab": {
          "base_uri": "https://localhost:8080/",
          "height": 564
        },
        "id": "yJspI4iNWRMF",
        "outputId": "6e9efa02-b537-4575-fdf1-72b539156e12"
      },
      "outputs": [
        {
          "name": "stdout",
          "output_type": "stream",
          "text": [
            "Accuracy with 10 trees: 1.000\n",
            "Accuracy with 50 trees: 1.000\n",
            "Accuracy with 100 trees: 1.000\n",
            "Accuracy with 200 trees: 1.000\n",
            "Accuracy with 500 trees: 1.000\n"
          ]
        },
        {
          "data": {
            "image/png": "[encoded data removed]",
            "text/plain": [
              "<Figure size 640x480 with 1 Axes>"
            ]
          },
          "metadata": {},
          "output_type": "display_data"
        }
      ],
      "source": [
        "# Import necessary libraries\n",
        "from sklearn.ensemble import RandomForestClassifier\n",
        "from sklearn.datasets import load_iris\n",
        "from sklearn.model_selection import train_test_split\n",
        "from sklearn.metrics import accuracy_score\n",
        "import matplotlib.pyplot as plt\n",
        "\n",
        "# Load the iris dataset\n",
        "iris = load_iris()\n",
        "X = iris.data\n",
        "y = iris.target\n",
        "\n",
        "# Split the dataset into training and testing sets\n",
        "X_train, X_test, y_train, y_test = train_test_split(X, y, test_size=0.2, random_state=42)\n",
        "\n",
        "# Create a list to store the accuracy scores\n",
        "accuracy_scores = []\n",
        "\n",
        "# Train Random Forest Classifiers with different numbers of trees\n",
        "for n_estimators in [10, 50, 100, 200, 500]:\n",
        "    rf = RandomForestClassifier(n_estimators=n_estimators, random_state=42)\n",
        "    rf.fit(X_train, y_train)\n",
        "    y_pred = rf.predict(X_test)\n",
        "    accuracy = accuracy_score(y_test, y_pred)\n",
        "    accuracy_scores.append(accuracy)\n",
        "    print(f\"Accuracy with {n_estimators} trees: {accuracy:.3f}\")\n",
        "\n",
        "# Plot the accuracy scores\n",
        "plt.plot([10, 50, 100, 200, 500], accuracy_scores)\n",
        "plt.xlabel(\"Number of Trees\")\n",
        "plt.ylabel(\"Accuracy\")\n",
        "plt.title(\"Random Forest Classifier Accuracy\")\n",
        "plt.show()\n",
        "\n"
      ]
    },
    {
      "cell_type": "markdown",
      "metadata": {
        "id": "WR8QrxbRWdtZ"
      },
      "source": [
        "28) Train a Bagging Classifier using Logistic Regression as a base estimator and print AUC score?"
      ]
    },
    {
      "cell_type": "code",
      "execution_count": null,
      "metadata": {
        "colab": {
          "base_uri": "https://localhost:8080/"
        },
        "id": "5XtmkoaGXBRX",
        "outputId": "9d7d1b32-7847-43af-9687-cb488b32fe71"
      },
      "outputs": [
        {
          "name": "stderr",
          "output_type": "stream",
          "text": [
            "/usr/local/lib/python3.11/dist-packages/sklearn/linear_model/_logistic.py:465: ConvergenceWarning: lbfgs failed to converge (status=1):\n",
            "STOP: TOTAL NO. of ITERATIONS REACHED LIMIT.\n",
            "\n",
            "Increase the number of iterations (max_iter) or scale the data as shown in:\n",
            "    https://scikit-learn.org/stable/modules/preprocessing.html\n",
            "Please also refer to the documentation for alternative solver options:\n",
            "    https://scikit-learn.org/stable/modules/linear_model.html#logistic-regression\n",
            "  n_iter_i = _check_optimize_result(\n",
            "/usr/local/lib/python3.11/dist-packages/sklearn/linear_model/_logistic.py:465: ConvergenceWarning: lbfgs failed to converge (status=1):\n",
            "STOP: TOTAL NO. of ITERATIONS REACHED LIMIT.\n",
            "\n",
            "Increase the number of iterations (max_iter) or scale the data as shown in:\n",
            "    https://scikit-learn.org/stable/modules/preprocessing.html\n",
            "Please also refer to the documentation for alternative solver options:\n",
            "    https://scikit-learn.org/stable/modules/linear_model.html#logistic-regression\n",
            "  n_iter_i = _check_optimize_result(\n",
            "/usr/local/lib/python3.11/dist-packages/sklearn/linear_model/_logistic.py:465: ConvergenceWarning: lbfgs failed to converge (status=1):\n",
            "STOP: TOTAL NO. of ITERATIONS REACHED LIMIT.\n",
            "\n",
            "Increase the number of iterations (max_iter) or scale the data as shown in:\n",
            "    https://scikit-learn.org/stable/modules/preprocessing.html\n",
            "Please also refer to the documentation for alternative solver options:\n",
            "    https://scikit-learn.org/stable/modules/linear_model.html#logistic-regression\n",
            "  n_iter_i = _check_optimize_result(\n",
            "/usr/local/lib/python3.11/dist-packages/sklearn/linear_model/_logistic.py:465: ConvergenceWarning: lbfgs failed to converge (status=1):\n",
            "STOP: TOTAL NO. of ITERATIONS REACHED LIMIT.\n",
            "\n",
            "Increase the number of iterations (max_iter) or scale the data as shown in:\n",
            "    https://scikit-learn.org/stable/modules/preprocessing.html\n",
            "Please also refer to the documentation for alternative solver options:\n",
            "    https://scikit-learn.org/stable/modules/linear_model.html#logistic-regression\n",
            "  n_iter_i = _check_optimize_result(\n",
            "/usr/local/lib/python3.11/dist-packages/sklearn/linear_model/_logistic.py:465: ConvergenceWarning: lbfgs failed to converge (status=1):\n",
            "STOP: TOTAL NO. of ITERATIONS REACHED LIMIT.\n",
            "\n",
            "Increase the number of iterations (max_iter) or scale the data as shown in:\n",
            "    https://scikit-learn.org/stable/modules/preprocessing.html\n",
            "Please also refer to the documentation for alternative solver options:\n",
            "    https://scikit-learn.org/stable/modules/linear_model.html#logistic-regression\n",
            "  n_iter_i = _check_optimize_result(\n",
            "/usr/local/lib/python3.11/dist-packages/sklearn/linear_model/_logistic.py:465: ConvergenceWarning: lbfgs failed to converge (status=1):\n",
            "STOP: TOTAL NO. of ITERATIONS REACHED LIMIT.\n",
            "\n",
            "Increase the number of iterations (max_iter) or scale the data as shown in:\n",
            "    https://scikit-learn.org/stable/modules/preprocessing.html\n",
            "Please also refer to the documentation for alternative solver options:\n",
            "    https://scikit-learn.org/stable/modules/linear_model.html#logistic-regression\n",
            "  n_iter_i = _check_optimize_result(\n",
            "/usr/local/lib/python3.11/dist-packages/sklearn/linear_model/_logistic.py:465: ConvergenceWarning: lbfgs failed to converge (status=1):\n",
            "STOP: TOTAL NO. of ITERATIONS REACHED LIMIT.\n",
            "\n",
            "Increase the number of iterations (max_iter) or scale the data as shown in:\n",
            "    https://scikit-learn.org/stable/modules/preprocessing.html\n",
            "Please also refer to the documentation for alternative solver options:\n",
            "    https://scikit-learn.org/stable/modules/linear_model.html#logistic-regression\n",
            "  n_iter_i = _check_optimize_result(\n",
            "/usr/local/lib/python3.11/dist-packages/sklearn/linear_model/_logistic.py:465: ConvergenceWarning: lbfgs failed to converge (status=1):\n",
            "STOP: TOTAL NO. of ITERATIONS REACHED LIMIT.\n",
            "\n",
            "Increase the number of iterations (max_iter) or scale the data as shown in:\n",
            "    https://scikit-learn.org/stable/modules/preprocessing.html\n",
            "Please also refer to the documentation for alternative solver options:\n",
            "    https://scikit-learn.org/stable/modules/linear_model.html#logistic-regression\n",
            "  n_iter_i = _check_optimize_result(\n"
          ]
        },
        {
          "name": "stdout",
          "output_type": "stream",
          "text": [
            "AUC score of Bagging Logistic Regression: 0.9980347199475925\n"
          ]
        },
        {
          "name": "stderr",
          "output_type": "stream",
          "text": [
            "/usr/local/lib/python3.11/dist-packages/sklearn/linear_model/_logistic.py:465: ConvergenceWarning: lbfgs failed to converge (status=1):\n",
            "STOP: TOTAL NO. of ITERATIONS REACHED LIMIT.\n",
            "\n",
            "Increase the number of iterations (max_iter) or scale the data as shown in:\n",
            "    https://scikit-learn.org/stable/modules/preprocessing.html\n",
            "Please also refer to the documentation for alternative solver options:\n",
            "    https://scikit-learn.org/stable/modules/linear_model.html#logistic-regression\n",
            "  n_iter_i = _check_optimize_result(\n",
            "/usr/local/lib/python3.11/dist-packages/sklearn/linear_model/_logistic.py:465: ConvergenceWarning: lbfgs failed to converge (status=1):\n",
            "STOP: TOTAL NO. of ITERATIONS REACHED LIMIT.\n",
            "\n",
            "Increase the number of iterations (max_iter) or scale the data as shown in:\n",
            "    https://scikit-learn.org/stable/modules/preprocessing.html\n",
            "Please also refer to the documentation for alternative solver options:\n",
            "    https://scikit-learn.org/stable/modules/linear_model.html#logistic-regression\n",
            "  n_iter_i = _check_optimize_result(\n"
          ]
        }
      ],
      "source": [
        "# Import necessary libraries\n",
        "from sklearn.ensemble import BaggingClassifier\n",
        "from sklearn.linear_model import LogisticRegression\n",
        "from sklearn.datasets import load_breast_cancer\n",
        "from sklearn.model_selection import train_test_split\n",
        "from sklearn.metrics import roc_auc_score\n",
        "import numpy as np\n",
        "\n",
        "# Load the breast cancer dataset\n",
        "cancer = load_breast_cancer()\n",
        "X = cancer.data\n",
        "y = cancer.target\n",
        "\n",
        "# Split the dataset into training and testing sets\n",
        "X_train, X_test, y_train, y_test = train_test_split(X, y, test_size=0.2, random_state=42)\n",
        "\n",
        "# Create a Logistic Regression classifier as the base estimator\n",
        "lr = LogisticRegression(max_iter=1000, random_state=42)\n",
        "\n",
        "# Create a Bagging Classifier using Logistic Regression as the base estimator\n",
        "# The 'base_estimator' argument has been replaced with 'estimator' in newer versions of scikit-learn.\n",
        "bagging_lr = BaggingClassifier(estimator=lr, n_estimators=10, random_state=42)\n",
        "\n",
        "# Train the Bagging Classifier\n",
        "bagging_lr.fit(X_train, y_train)\n",
        "\n",
        "# Make predictions on the test set\n",
        "y_pred_proba = bagging_lr.predict_proba(X_test)[:, 1]\n",
        "\n",
        "# Print the AUC score of the Bagging Classifier\n",
        "auc = roc_auc_score(y_test, y_pred_proba)\n",
        "print(\"AUC score of Bagging Logistic Regression:\", auc)"
      ]
    },
    {
      "cell_type": "markdown",
      "metadata": {
        "id": "BD32v_FpXHU4"
      },
      "source": [
        "29) Train a Random Forest Regressor and analyze feature importance scores?"
      ]
    },
    {
      "cell_type": "code",
      "execution_count": null,
      "metadata": {
        "colab": {
          "base_uri": "https://localhost:8080/",
          "height": 670
        },
        "id": "i9_iPAzUXS0h",
        "outputId": "8920cff2-f59f-4349-b1e3-80149961a792"
      },
      "outputs": [
        {
          "name": "stdout",
          "output_type": "stream",
          "text": [
            "  Feature  Importance\n",
            "2     bmi    0.355469\n",
            "8      s5    0.230957\n",
            "3      bp    0.088408\n",
            "9      s6    0.071329\n",
            "0     age    0.058642\n"
          ]
        },
        {
          "data": {
            "image/png": "[encoded data removed]",
            "text/plain": [
              "<Figure size 1000x600 with 1 Axes>"
            ]
          },
          "metadata": {},
          "output_type": "display_data"
        }
      ],
      "source": [
        "# Import necessary libraries\n",
        "from sklearn.ensemble import RandomForestRegressor\n",
        "from sklearn.datasets import load_diabetes\n",
        "from sklearn.model_selection import train_test_split\n",
        "import pandas as pd\n",
        "import matplotlib.pyplot as plt\n",
        "\n",
        "# Load the diabetes dataset\n",
        "diabetes = load_diabetes()\n",
        "X = diabetes.data\n",
        "y = diabetes.target\n",
        "\n",
        "# Create a DataFrame with feature names\n",
        "df = pd.DataFrame(X, columns=diabetes.feature_names)\n",
        "\n",
        "# Split the dataset into training and testing sets\n",
        "X_train, X_test, y_train, y_test = train_test_split(X, y, test_size=0.2, random_state=42)\n",
        "\n",
        "# Train a Random Forest Regressor\n",
        "rf = RandomForestRegressor(n_estimators=100, random_state=42)\n",
        "rf.fit(X_train, y_train)\n",
        "\n",
        "# Get feature importance scores\n",
        "importance = rf.feature_importances_\n",
        "\n",
        "# Create a DataFrame with feature importance scores\n",
        "importance_df = pd.DataFrame({'Feature': diabetes.feature_names, 'Importance': importance})\n",
        "\n",
        "# Print the top 5 most important features\n",
        "print(importance_df.sort_values(by='Importance', ascending=False).head(5))\n",
        "\n",
        "# Plot the feature importance scores\n",
        "plt.figure(figsize=(10, 6))\n",
        "plt.bar(importance_df['Feature'], importance_df['Importance'])\n",
        "plt.xlabel('Feature')\n",
        "plt.ylabel('Importance')\n",
        "plt.title('Feature Importance Scores')\n",
        "plt.show()\n",
        "\n"
      ]
    },
    {
      "cell_type": "markdown",
      "metadata": {
        "id": "HNILuaJUXeE_"
      },
      "source": [
        "30) Train an ensemble model using both Bagging and Random Forest and compare accuracy?"
      ]
    },
    {
      "cell_type": "code",
      "execution_count": null,
      "metadata": {
        "id": "MkD8xVwHYz-F"
      },
      "outputs": [],
      "source": []
    },
    {
      "cell_type": "code",
      "execution_count": null,
      "metadata": {
        "colab": {
          "base_uri": "https://localhost:8080/"
        },
        "id": "sRdzeUKCYwq7",
        "outputId": "787f0519-765e-4e0f-9142-0b394928f204"
      },
      "outputs": [
        {
          "name": "stdout",
          "output_type": "stream",
          "text": [
            "Bagging Classifier Accuracy: 1.00\n",
            "Random Forest Accuracy: 1.00\n",
            "Both models performed equally well.\n"
          ]
        }
      ],
      "source": [
        "from sklearn.datasets import load_iris\n",
        "from sklearn.model_selection import train_test_split\n",
        "from sklearn.ensemble import BaggingClassifier, RandomForestClassifier\n",
        "from sklearn.tree import DecisionTreeClassifier\n",
        "from sklearn.metrics import accuracy_score\n",
        "\n",
        "# Load dataset\n",
        "iris = load_iris()\n",
        "X, y = iris.data, iris.target\n",
        "\n",
        "# Split into training and testing sets (80% train, 20% test)\n",
        "X_train, X_test, y_train, y_test = train_test_split(X, y, test_size=0.2, random_state=42)\n",
        "\n",
        "# Bagging Classifier with Decision Trees\n",
        "# The 'base_estimator' argument has been replaced with 'estimator' in newer versions of scikit-learn.\n",
        "bagging_clf = BaggingClassifier(estimator=DecisionTreeClassifier(), n_estimators=50, random_state=42)\n",
        "bagging_clf.fit(X_train, y_train)\n",
        "y_pred_bagging = bagging_clf.predict(X_test)\n",
        "accuracy_bagging = accuracy_score(y_test, y_pred_bagging)\n",
        "\n",
        "# Random Forest Classifier\n",
        "rf_clf = RandomForestClassifier(n_estimators=50, random_state=42)\n",
        "rf_clf.fit(X_train, y_train)\n",
        "y_pred_rf = rf_clf.predict(X_test)\n",
        "accuracy_rf = accuracy_score(y_test, y_pred_rf)\n",
        "\n",
        "# Print accuracy comparison\n",
        "print(f\"Bagging Classifier Accuracy: {accuracy_bagging:.2f}\")\n",
        "print(f\"Random Forest Accuracy: {accuracy_rf:.2f}\")\n",
        "\n",
        "# Compare performance\n",
        "if accuracy_rf > accuracy_bagging:\n",
        "    print(\"Random Forest performed better.\")\n",
        "elif accuracy_rf < accuracy_bagging:\n",
        "    print(\"Bagging Classifier performed better.\")\n",
        "else:\n",
        "    print(\"Both models performed equally well.\")"
      ]
    },
    {
      "cell_type": "markdown",
      "metadata": {
        "id": "k7B2f3B1Y2GO"
      },
      "source": [
        "31) Train a Random Forest Classifier and tune hyperparameters using GridSearchCV?"
      ]
    },
    {
      "cell_type": "code",
      "execution_count": null,
      "metadata": {
        "colab": {
          "background_save": true
        },
        "id": "CZQ0TEoaZAXm",
        "outputId": "2c229550-1629-494f-af2c-c4c1cc935de9"
      },
      "outputs": [
        {
          "name": "stderr",
          "output_type": "stream",
          "text": [
            "ERROR:root:Internal Python error in the inspect module.\n",
            "Below is the traceback from this internal error.\n",
            "\n",
            "ERROR:root:Internal Python error in the inspect module.\n",
            "Below is the traceback from this internal error.\n",
            "\n",
            "ERROR:root:Internal Python error in the inspect module.\n",
            "Below is the traceback from this internal error.\n",
            "\n"
          ]
        },
        {
          "name": "stdout",
          "output_type": "stream",
          "text": [
            "Traceback (most recent call last):\n",
            "  File \"/usr/local/lib/python3.11/dist-packages/sklearn/model_selection/_validation.py\", line 866, in _fit_and_score\n",
            "    estimator.fit(X_train, y_train, **fit_params)\n",
            "  File \"/usr/local/lib/python3.11/dist-packages/sklearn/base.py\", line 1382, in wrapper\n",
            "    estimator._validate_params()\n",
            "  File \"/usr/local/lib/python3.11/dist-packages/sklearn/base.py\", line 436, in _validate_params\n",
            "    validate_parameter_constraints(\n",
            "  File \"/usr/local/lib/python3.11/dist-packages/sklearn/utils/_param_validation.py\", line 98, in validate_parameter_constraints\n",
            "    raise InvalidParameterError(\n",
            "sklearn.utils._param_validation.InvalidParameterError: The 'max_features' parameter of RandomForestClassifier must be an int in the range [1, inf), a float in the range (0.0, 1.0], a str among {'sqrt', 'log2'} or None. Got 'auto' instead.\n",
            "\n",
            "During handling of the above exception, another exception occurred:\n",
            "\n",
            "Traceback (most recent call last):\n",
            "  File \"/usr/local/lib/python3.11/dist-packages/IPython/core/interactiveshell.py\", line 3553, in run_code\n",
            "    exec(code_obj, self.user_global_ns, self.user_ns)\n",
            "  File \"<ipython-input-22-5494ead7a324>\", line 29, in <cell line: 0>\n",
            "    grid_search.fit(X_train, y_train)\n",
            "  File \"/usr/local/lib/python3.11/dist-packages/sklearn/base.py\", line 1389, in wrapper\n",
            "    return fit_method(estimator, *args, **kwargs)\n",
            "           ^^^^^^^^^^^^^^^^^^^^^^^^^^^^^^^^^^^^^^\n",
            "  File \"/usr/local/lib/python3.11/dist-packages/sklearn/model_selection/_search.py\", line 1024, in fit\n",
            "    self._run_search(evaluate_candidates)\n",
            "  File \"/usr/local/lib/python3.11/dist-packages/sklearn/model_selection/_search.py\", line 1571, in _run_search\n",
            "    evaluate_candidates(ParameterGrid(self.param_grid))\n",
            "  File \"/usr/local/lib/python3.11/dist-packages/sklearn/model_selection/_search.py\", line 970, in evaluate_candidates\n",
            "    out = parallel(\n",
            "          ^^^^^^^^^\n",
            "  File \"/usr/local/lib/python3.11/dist-packages/sklearn/utils/parallel.py\", line 77, in __call__\n",
            "    return super().__call__(iterable_with_config)\n",
            "           ^^^^^^^^^^^^^^^^^^^^^^^^^^^^^^^^^^^^^^\n",
            "  File \"/usr/local/lib/python3.11/dist-packages/joblib/parallel.py\", line 1918, in __call__\n",
            "    return output if self.return_generator else list(output)\n",
            "                                                ^^^^^^^^^^^^\n",
            "  File \"/usr/local/lib/python3.11/dist-packages/joblib/parallel.py\", line 1847, in _get_sequential_output\n",
            "    res = func(*args, **kwargs)\n",
            "          ^^^^^^^^^^^^^^^^^^^^^\n",
            "  File \"/usr/local/lib/python3.11/dist-packages/sklearn/utils/parallel.py\", line 139, in __call__\n",
            "    return self.function(*args, **kwargs)\n",
            "           ^^^^^^^^^^^^^^^^^^^^^^^^^^^^^^\n",
            "  File \"/usr/local/lib/python3.11/dist-packages/sklearn/model_selection/_validation.py\", line 883, in _fit_and_score\n",
            "    result[\"fit_error\"] = format_exc()\n",
            "                          ^^^^^^^^^^^^\n",
            "  File \"/usr/lib/python3.11/traceback.py\", line 184, in format_exc\n",
            "    return \"\".join(format_exception(*sys.exc_info(), limit=limit, chain=chain))\n",
            "                   ^^^^^^^^^^^^^^^^^^^^^^^^^^^^^^^^^^^^^^^^^^^^^^^^^^^^^^^^^^^\n",
            "  File \"/usr/lib/python3.11/traceback.py\", line 139, in format_exception\n",
            "    te = TracebackException(type(value), value, tb, limit=limit, compact=True)\n",
            "         ^^^^^^^^^^^^^^^^^^^^^^^^^^^^^^^^^^^^^^^^^^^^^^^^^^^^^^^^^^^^^^^^^^^^^\n",
            "  File \"/usr/lib/python3.11/traceback.py\", line 728, in __init__\n",
            "    self.stack = StackSummary._extract_from_extended_frame_gen(\n",
            "                 ^^^^^^^^^^^^^^^^^^^^^^^^^^^^^^^^^^^^^^^^^^^^^^\n",
            "  File \"/usr/lib/python3.11/traceback.py\", line 429, in _extract_from_extended_frame_gen\n",
            "    linecache.checkcache(filename)\n",
            "  File \"/usr/local/lib/python3.11/dist-packages/IPython/core/compilerop.py\", line 185, in check_linecache_ipython\n",
            "    linecache._checkcache_ori(*args)\n",
            "  File \"/usr/lib/python3.11/linecache.py\", line None, in checkcache\n",
            "KeyboardInterrupt\n",
            "\n",
            "During handling of the above exception, another exception occurred:\n",
            "\n",
            "Traceback (most recent call last):\n",
            "  File \"/usr/local/lib/python3.11/dist-packages/IPython/core/interactiveshell.py\", line 2099, in showtraceback\n",
            "    stb = value._render_traceback_()\n",
            "          ^^^^^^^^^^^^^^^^^^^^^^^^\n",
            "AttributeError: 'KeyboardInterrupt' object has no attribute '_render_traceback_'\n",
            "\n",
            "During handling of the above exception, another exception occurred:\n",
            "\n",
            "Traceback (most recent call last):\n",
            "  File \"/usr/local/lib/python3.11/dist-packages/IPython/core/ultratb.py\", line 1101, in get_records\n",
            "    return _fixed_getinnerframes(etb, number_of_lines_of_context, tb_offset)\n",
            "           ^^^^^^^^^^^^^^^^^^^^^^^^^^^^^^^^^^^^^^^^^^^^^^^^^^^^^^^^^^^^^^^^^\n",
            "  File \"/usr/local/lib/python3.11/dist-packages/IPython/core/ultratb.py\", line 248, in wrapped\n",
            "    return f(*args, **kwargs)\n",
            "           ^^^^^^^^^^^^^^^^^^\n",
            "  File \"/usr/local/lib/python3.11/dist-packages/IPython/core/ultratb.py\", line 281, in _fixed_getinnerframes\n",
            "    records = fix_frame_records_filenames(inspect.getinnerframes(etb, context))\n",
            "                                          ^^^^^^^^^^^^^^^^^^^^^^^^^^^^^^^^^^^^\n",
            "  File \"/usr/lib/python3.11/inspect.py\", line 1739, in getinnerframes\n",
            "    traceback_info = getframeinfo(tb, context)\n",
            "                     ^^^^^^^^^^^^^^^^^^^^^^^^^\n",
            "  File \"/usr/lib/python3.11/inspect.py\", line 1686, in getframeinfo\n",
            "    start = lineno - 1 - context//2\n",
            "            ~~~~~~~^~~\n",
            "TypeError: unsupported operand type(s) for -: 'NoneType' and 'int'\n",
            "Traceback (most recent call last):\n",
            "  File \"/usr/local/lib/python3.11/dist-packages/sklearn/model_selection/_validation.py\", line 866, in _fit_and_score\n",
            "    estimator.fit(X_train, y_train, **fit_params)\n",
            "  File \"/usr/local/lib/python3.11/dist-packages/sklearn/base.py\", line 1382, in wrapper\n",
            "    estimator._validate_params()\n",
            "  File \"/usr/local/lib/python3.11/dist-packages/sklearn/base.py\", line 436, in _validate_params\n",
            "    validate_parameter_constraints(\n",
            "  File \"/usr/local/lib/python3.11/dist-packages/sklearn/utils/_param_validation.py\", line 98, in validate_parameter_constraints\n",
            "    raise InvalidParameterError(\n",
            "sklearn.utils._param_validation.InvalidParameterError: The 'max_features' parameter of RandomForestClassifier must be an int in the range [1, inf), a float in the range (0.0, 1.0], a str among {'sqrt', 'log2'} or None. Got 'auto' instead.\n",
            "\n",
            "During handling of the above exception, another exception occurred:\n",
            "\n",
            "Traceback (most recent call last):\n",
            "  File \"/usr/local/lib/python3.11/dist-packages/IPython/core/interactiveshell.py\", line 3553, in run_code\n",
            "    exec(code_obj, self.user_global_ns, self.user_ns)\n",
            "  File \"<ipython-input-22-5494ead7a324>\", line 29, in <cell line: 0>\n",
            "    grid_search.fit(X_train, y_train)\n",
            "  File \"/usr/local/lib/python3.11/dist-packages/sklearn/base.py\", line 1389, in wrapper\n",
            "    return fit_method(estimator, *args, **kwargs)\n",
            "           ^^^^^^^^^^^^^^^^^^^^^^^^^^^^^^^^^^^^^^\n",
            "  File \"/usr/local/lib/python3.11/dist-packages/sklearn/model_selection/_search.py\", line 1024, in fit\n",
            "    self._run_search(evaluate_candidates)\n",
            "  File \"/usr/local/lib/python3.11/dist-packages/sklearn/model_selection/_search.py\", line 1571, in _run_search\n",
            "    evaluate_candidates(ParameterGrid(self.param_grid))\n",
            "  File \"/usr/local/lib/python3.11/dist-packages/sklearn/model_selection/_search.py\", line 970, in evaluate_candidates\n",
            "    out = parallel(\n",
            "          ^^^^^^^^^\n",
            "  File \"/usr/local/lib/python3.11/dist-packages/sklearn/utils/parallel.py\", line 77, in __call__\n",
            "    return super().__call__(iterable_with_config)\n",
            "           ^^^^^^^^^^^^^^^^^^^^^^^^^^^^^^^^^^^^^^\n",
            "  File \"/usr/local/lib/python3.11/dist-packages/joblib/parallel.py\", line 1918, in __call__\n",
            "    return output if self.return_generator else list(output)\n",
            "                                                ^^^^^^^^^^^^\n",
            "  File \"/usr/local/lib/python3.11/dist-packages/joblib/parallel.py\", line 1847, in _get_sequential_output\n",
            "    res = func(*args, **kwargs)\n",
            "          ^^^^^^^^^^^^^^^^^^^^^\n",
            "  File \"/usr/local/lib/python3.11/dist-packages/sklearn/utils/parallel.py\", line 139, in __call__\n",
            "    return self.function(*args, **kwargs)\n",
            "           ^^^^^^^^^^^^^^^^^^^^^^^^^^^^^^\n",
            "  File \"/usr/local/lib/python3.11/dist-packages/sklearn/model_selection/_validation.py\", line 883, in _fit_and_score\n",
            "    result[\"fit_error\"] = format_exc()\n",
            "                          ^^^^^^^^^^^^\n",
            "  File \"/usr/lib/python3.11/traceback.py\", line 184, in format_exc\n",
            "    return \"\".join(format_exception(*sys.exc_info(), limit=limit, chain=chain))\n",
            "                   ^^^^^^^^^^^^^^^^^^^^^^^^^^^^^^^^^^^^^^^^^^^^^^^^^^^^^^^^^^^\n",
            "  File \"/usr/lib/python3.11/traceback.py\", line 139, in format_exception\n",
            "    te = TracebackException(type(value), value, tb, limit=limit, compact=True)\n",
            "         ^^^^^^^^^^^^^^^^^^^^^^^^^^^^^^^^^^^^^^^^^^^^^^^^^^^^^^^^^^^^^^^^^^^^^\n",
            "  File \"/usr/lib/python3.11/traceback.py\", line 728, in __init__\n",
            "    self.stack = StackSummary._extract_from_extended_frame_gen(\n",
            "                 ^^^^^^^^^^^^^^^^^^^^^^^^^^^^^^^^^^^^^^^^^^^^^^\n",
            "  File \"/usr/lib/python3.11/traceback.py\", line 429, in _extract_from_extended_frame_gen\n",
            "    linecache.checkcache(filename)\n",
            "  File \"/usr/local/lib/python3.11/dist-packages/IPython/core/compilerop.py\", line 185, in check_linecache_ipython\n",
            "    linecache._checkcache_ori(*args)\n",
            "  File \"/usr/lib/python3.11/linecache.py\", line None, in checkcache\n",
            "KeyboardInterrupt\n",
            "\n",
            "During handling of the above exception, another exception occurred:\n",
            "\n",
            "Traceback (most recent call last):\n",
            "  File \"/usr/local/lib/python3.11/dist-packages/IPython/core/interactiveshell.py\", line 2099, in showtraceback\n",
            "    stb = value._render_traceback_()\n",
            "          ^^^^^^^^^^^^^^^^^^^^^^^^\n",
            "AttributeError: 'KeyboardInterrupt' object has no attribute '_render_traceback_'\n",
            "\n",
            "During handling of the above exception, another exception occurred:\n",
            "\n",
            "Traceback (most recent call last):\n",
            "  File \"/usr/local/lib/python3.11/dist-packages/IPython/core/interactiveshell.py\", line 3473, in run_ast_nodes\n",
            "    if (await self.run_code(code, result,  async_=asy)):\n",
            "        ^^^^^^^^^^^^^^^^^^^^^^^^^^^^^^^^^^^^^^^^^^^^^^\n",
            "  File \"/usr/local/lib/python3.11/dist-packages/IPython/core/interactiveshell.py\", line 3575, in run_code\n",
            "    self.showtraceback(running_compiled_code=True)\n",
            "  File \"/usr/local/lib/python3.11/dist-packages/IPython/core/interactiveshell.py\", line 2101, in showtraceback\n",
            "    stb = self.InteractiveTB.structured_traceback(etype,\n",
            "          ^^^^^^^^^^^^^^^^^^^^^^^^^^^^^^^^^^^^^^^^^^^^^^\n",
            "  File \"/usr/local/lib/python3.11/dist-packages/IPython/core/ultratb.py\", line 1367, in structured_traceback\n",
            "    return FormattedTB.structured_traceback(\n",
            "           ^^^^^^^^^^^^^^^^^^^^^^^^^^^^^^^^^\n",
            "  File \"/usr/local/lib/python3.11/dist-packages/IPython/core/ultratb.py\", line 1267, in structured_traceback\n",
            "    return VerboseTB.structured_traceback(\n",
            "           ^^^^^^^^^^^^^^^^^^^^^^^^^^^^^^^\n",
            "  File \"/usr/local/lib/python3.11/dist-packages/IPython/core/ultratb.py\", line 1124, in structured_traceback\n",
            "    formatted_exception = self.format_exception_as_a_whole(etype, evalue, etb, number_of_lines_of_context,\n",
            "                          ^^^^^^^^^^^^^^^^^^^^^^^^^^^^^^^^^^^^^^^^^^^^^^^^^^^^^^^^^^^^^^^^^^^^^^^^^^^^^^^^\n",
            "  File \"/usr/local/lib/python3.11/dist-packages/IPython/core/ultratb.py\", line 1082, in format_exception_as_a_whole\n",
            "    last_unique, recursion_repeat = find_recursion(orig_etype, evalue, records)\n",
            "                                    ^^^^^^^^^^^^^^^^^^^^^^^^^^^^^^^^^^^^^^^^^^^\n",
            "  File \"/usr/local/lib/python3.11/dist-packages/IPython/core/ultratb.py\", line 382, in find_recursion\n",
            "    return len(records), 0\n",
            "           ^^^^^^^^^^^^\n",
            "TypeError: object of type 'NoneType' has no len()\n",
            "\n",
            "During handling of the above exception, another exception occurred:\n",
            "\n",
            "Traceback (most recent call last):\n",
            "  File \"/usr/local/lib/python3.11/dist-packages/IPython/core/interactiveshell.py\", line 2099, in showtraceback\n",
            "    stb = value._render_traceback_()\n",
            "          ^^^^^^^^^^^^^^^^^^^^^^^^\n",
            "AttributeError: 'TypeError' object has no attribute '_render_traceback_'\n",
            "\n",
            "During handling of the above exception, another exception occurred:\n",
            "\n",
            "Traceback (most recent call last):\n",
            "  File \"/usr/local/lib/python3.11/dist-packages/IPython/core/ultratb.py\", line 1101, in get_records\n",
            "    return _fixed_getinnerframes(etb, number_of_lines_of_context, tb_offset)\n",
            "           ^^^^^^^^^^^^^^^^^^^^^^^^^^^^^^^^^^^^^^^^^^^^^^^^^^^^^^^^^^^^^^^^^\n",
            "  File \"/usr/local/lib/python3.11/dist-packages/IPython/core/ultratb.py\", line 248, in wrapped\n",
            "    return f(*args, **kwargs)\n",
            "           ^^^^^^^^^^^^^^^^^^\n",
            "  File \"/usr/local/lib/python3.11/dist-packages/IPython/core/ultratb.py\", line 281, in _fixed_getinnerframes\n",
            "    records = fix_frame_records_filenames(inspect.getinnerframes(etb, context))\n",
            "                                          ^^^^^^^^^^^^^^^^^^^^^^^^^^^^^^^^^^^^\n",
            "  File \"/usr/lib/python3.11/inspect.py\", line 1739, in getinnerframes\n",
            "    traceback_info = getframeinfo(tb, context)\n",
            "                     ^^^^^^^^^^^^^^^^^^^^^^^^^\n",
            "  File \"/usr/lib/python3.11/inspect.py\", line 1686, in getframeinfo\n",
            "    start = lineno - 1 - context//2\n",
            "            ~~~~~~~^~~\n",
            "TypeError: unsupported operand type(s) for -: 'NoneType' and 'int'\n",
            "Traceback (most recent call last):\n",
            "  File \"/usr/local/lib/python3.11/dist-packages/sklearn/model_selection/_validation.py\", line 866, in _fit_and_score\n",
            "    estimator.fit(X_train, y_train, **fit_params)\n",
            "  File \"/usr/local/lib/python3.11/dist-packages/sklearn/base.py\", line 1382, in wrapper\n",
            "    estimator._validate_params()\n",
            "  File \"/usr/local/lib/python3.11/dist-packages/sklearn/base.py\", line 436, in _validate_params\n",
            "    validate_parameter_constraints(\n",
            "  File \"/usr/local/lib/python3.11/dist-packages/sklearn/utils/_param_validation.py\", line 98, in validate_parameter_constraints\n",
            "    raise InvalidParameterError(\n",
            "sklearn.utils._param_validation.InvalidParameterError: The 'max_features' parameter of RandomForestClassifier must be an int in the range [1, inf), a float in the range (0.0, 1.0], a str among {'sqrt', 'log2'} or None. Got 'auto' instead.\n",
            "\n",
            "During handling of the above exception, another exception occurred:\n",
            "\n",
            "Traceback (most recent call last):\n",
            "  File \"/usr/local/lib/python3.11/dist-packages/IPython/core/interactiveshell.py\", line 3553, in run_code\n",
            "    exec(code_obj, self.user_global_ns, self.user_ns)\n",
            "  File \"<ipython-input-22-5494ead7a324>\", line 29, in <cell line: 0>\n",
            "    grid_search.fit(X_train, y_train)\n",
            "  File \"/usr/local/lib/python3.11/dist-packages/sklearn/base.py\", line 1389, in wrapper\n",
            "    return fit_method(estimator, *args, **kwargs)\n",
            "           ^^^^^^^^^^^^^^^^^^^^^^^^^^^^^^^^^^^^^^\n",
            "  File \"/usr/local/lib/python3.11/dist-packages/sklearn/model_selection/_search.py\", line 1024, in fit\n",
            "    self._run_search(evaluate_candidates)\n",
            "  File \"/usr/local/lib/python3.11/dist-packages/sklearn/model_selection/_search.py\", line 1571, in _run_search\n",
            "    evaluate_candidates(ParameterGrid(self.param_grid))\n",
            "  File \"/usr/local/lib/python3.11/dist-packages/sklearn/model_selection/_search.py\", line 970, in evaluate_candidates\n",
            "    out = parallel(\n",
            "          ^^^^^^^^^\n",
            "  File \"/usr/local/lib/python3.11/dist-packages/sklearn/utils/parallel.py\", line 77, in __call__\n",
            "    return super().__call__(iterable_with_config)\n",
            "           ^^^^^^^^^^^^^^^^^^^^^^^^^^^^^^^^^^^^^^\n",
            "  File \"/usr/local/lib/python3.11/dist-packages/joblib/parallel.py\", line 1918, in __call__\n",
            "    return output if self.return_generator else list(output)\n",
            "                                                ^^^^^^^^^^^^\n",
            "  File \"/usr/local/lib/python3.11/dist-packages/joblib/parallel.py\", line 1847, in _get_sequential_output\n",
            "    res = func(*args, **kwargs)\n",
            "          ^^^^^^^^^^^^^^^^^^^^^\n",
            "  File \"/usr/local/lib/python3.11/dist-packages/sklearn/utils/parallel.py\", line 139, in __call__\n",
            "    return self.function(*args, **kwargs)\n",
            "           ^^^^^^^^^^^^^^^^^^^^^^^^^^^^^^\n",
            "  File \"/usr/local/lib/python3.11/dist-packages/sklearn/model_selection/_validation.py\", line 883, in _fit_and_score\n",
            "    result[\"fit_error\"] = format_exc()\n",
            "                          ^^^^^^^^^^^^\n",
            "  File \"/usr/lib/python3.11/traceback.py\", line 184, in format_exc\n",
            "    return \"\".join(format_exception(*sys.exc_info(), limit=limit, chain=chain))\n",
            "                   ^^^^^^^^^^^^^^^^^^^^^^^^^^^^^^^^^^^^^^^^^^^^^^^^^^^^^^^^^^^\n",
            "  File \"/usr/lib/python3.11/traceback.py\", line 139, in format_exception\n",
            "    te = TracebackException(type(value), value, tb, limit=limit, compact=True)\n",
            "         ^^^^^^^^^^^^^^^^^^^^^^^^^^^^^^^^^^^^^^^^^^^^^^^^^^^^^^^^^^^^^^^^^^^^^\n",
            "  File \"/usr/lib/python3.11/traceback.py\", line 728, in __init__\n",
            "    self.stack = StackSummary._extract_from_extended_frame_gen(\n",
            "                 ^^^^^^^^^^^^^^^^^^^^^^^^^^^^^^^^^^^^^^^^^^^^^^\n",
            "  File \"/usr/lib/python3.11/traceback.py\", line 429, in _extract_from_extended_frame_gen\n",
            "    linecache.checkcache(filename)\n",
            "  File \"/usr/local/lib/python3.11/dist-packages/IPython/core/compilerop.py\", line 185, in check_linecache_ipython\n",
            "    linecache._checkcache_ori(*args)\n",
            "  File \"/usr/lib/python3.11/linecache.py\", line None, in checkcache\n",
            "KeyboardInterrupt\n",
            "\n",
            "During handling of the above exception, another exception occurred:\n",
            "\n",
            "Traceback (most recent call last):\n",
            "  File \"/usr/local/lib/python3.11/dist-packages/IPython/core/interactiveshell.py\", line 2099, in showtraceback\n",
            "    stb = value._render_traceback_()\n",
            "          ^^^^^^^^^^^^^^^^^^^^^^^^\n",
            "AttributeError: 'KeyboardInterrupt' object has no attribute '_render_traceback_'\n",
            "\n",
            "During handling of the above exception, another exception occurred:\n",
            "\n",
            "Traceback (most recent call last):\n",
            "  File \"/usr/local/lib/python3.11/dist-packages/IPython/core/interactiveshell.py\", line 3473, in run_ast_nodes\n",
            "    if (await self.run_code(code, result,  async_=asy)):\n",
            "        ^^^^^^^^^^^^^^^^^^^^^^^^^^^^^^^^^^^^^^^^^^^^^^\n",
            "  File \"/usr/local/lib/python3.11/dist-packages/IPython/core/interactiveshell.py\", line 3575, in run_code\n",
            "    self.showtraceback(running_compiled_code=True)\n",
            "  File \"/usr/local/lib/python3.11/dist-packages/IPython/core/interactiveshell.py\", line 2101, in showtraceback\n",
            "    stb = self.InteractiveTB.structured_traceback(etype,\n",
            "          ^^^^^^^^^^^^^^^^^^^^^^^^^^^^^^^^^^^^^^^^^^^^^^\n",
            "  File \"/usr/local/lib/python3.11/dist-packages/IPython/core/ultratb.py\", line 1367, in structured_traceback\n",
            "    return FormattedTB.structured_traceback(\n",
            "           ^^^^^^^^^^^^^^^^^^^^^^^^^^^^^^^^^\n",
            "  File \"/usr/local/lib/python3.11/dist-packages/IPython/core/ultratb.py\", line 1267, in structured_traceback\n",
            "    return VerboseTB.structured_traceback(\n",
            "           ^^^^^^^^^^^^^^^^^^^^^^^^^^^^^^^\n",
            "  File \"/usr/local/lib/python3.11/dist-packages/IPython/core/ultratb.py\", line 1124, in structured_traceback\n",
            "    formatted_exception = self.format_exception_as_a_whole(etype, evalue, etb, number_of_lines_of_context,\n",
            "                          ^^^^^^^^^^^^^^^^^^^^^^^^^^^^^^^^^^^^^^^^^^^^^^^^^^^^^^^^^^^^^^^^^^^^^^^^^^^^^^^^\n",
            "  File \"/usr/local/lib/python3.11/dist-packages/IPython/core/ultratb.py\", line 1082, in format_exception_as_a_whole\n",
            "    last_unique, recursion_repeat = find_recursion(orig_etype, evalue, records)\n",
            "                                    ^^^^^^^^^^^^^^^^^^^^^^^^^^^^^^^^^^^^^^^^^^^\n",
            "  File \"/usr/local/lib/python3.11/dist-packages/IPython/core/ultratb.py\", line 382, in find_recursion\n",
            "    return len(records), 0\n",
            "           ^^^^^^^^^^^^\n",
            "TypeError: object of type 'NoneType' has no len()\n",
            "\n",
            "During handling of the above exception, another exception occurred:\n",
            "\n",
            "Traceback (most recent call last):\n",
            "  File \"/usr/local/lib/python3.11/dist-packages/IPython/core/interactiveshell.py\", line 2099, in showtraceback\n",
            "    stb = value._render_traceback_()\n",
            "          ^^^^^^^^^^^^^^^^^^^^^^^^\n",
            "AttributeError: 'TypeError' object has no attribute '_render_traceback_'\n",
            "\n",
            "During handling of the above exception, another exception occurred:\n",
            "\n",
            "Traceback (most recent call last):\n",
            "  File \"/usr/local/lib/python3.11/dist-packages/IPython/core/interactiveshell.py\", line 3030, in _run_cell\n",
            "    return runner(coro)\n",
            "           ^^^^^^^^^^^^\n",
            "  File \"/usr/local/lib/python3.11/dist-packages/IPython/core/async_helpers.py\", line 78, in _pseudo_sync_runner\n",
            "    coro.send(None)\n",
            "  File \"/usr/local/lib/python3.11/dist-packages/IPython/core/interactiveshell.py\", line 3257, in run_cell_async\n",
            "    has_raised = await self.run_ast_nodes(code_ast.body, cell_name,\n",
            "                 ^^^^^^^^^^^^^^^^^^^^^^^^^^^^^^^^^^^^^^^^^^^^^^^^^^\n",
            "  File \"/usr/local/lib/python3.11/dist-packages/IPython/core/interactiveshell.py\", line 3492, in run_ast_nodes\n",
            "    self.showtraceback()\n",
            "  File \"/usr/local/lib/python3.11/dist-packages/IPython/core/interactiveshell.py\", line 2101, in showtraceback\n",
            "    stb = self.InteractiveTB.structured_traceback(etype,\n",
            "          ^^^^^^^^^^^^^^^^^^^^^^^^^^^^^^^^^^^^^^^^^^^^^^\n",
            "  File \"/usr/local/lib/python3.11/dist-packages/IPython/core/ultratb.py\", line 1367, in structured_traceback\n",
            "    return FormattedTB.structured_traceback(\n",
            "           ^^^^^^^^^^^^^^^^^^^^^^^^^^^^^^^^^\n",
            "  File \"/usr/local/lib/python3.11/dist-packages/IPython/core/ultratb.py\", line 1267, in structured_traceback\n",
            "    return VerboseTB.structured_traceback(\n",
            "           ^^^^^^^^^^^^^^^^^^^^^^^^^^^^^^^\n",
            "  File \"/usr/local/lib/python3.11/dist-packages/IPython/core/ultratb.py\", line 1142, in structured_traceback\n",
            "    formatted_exceptions += self.format_exception_as_a_whole(etype, evalue, etb, lines_of_context,\n",
            "                            ^^^^^^^^^^^^^^^^^^^^^^^^^^^^^^^^^^^^^^^^^^^^^^^^^^^^^^^^^^^^^^^^^^^^^^\n",
            "  File \"/usr/local/lib/python3.11/dist-packages/IPython/core/ultratb.py\", line 1082, in format_exception_as_a_whole\n",
            "    last_unique, recursion_repeat = find_recursion(orig_etype, evalue, records)\n",
            "                                    ^^^^^^^^^^^^^^^^^^^^^^^^^^^^^^^^^^^^^^^^^^^\n",
            "  File \"/usr/local/lib/python3.11/dist-packages/IPython/core/ultratb.py\", line 382, in find_recursion\n",
            "    return len(records), 0\n",
            "           ^^^^^^^^^^^^\n",
            "TypeError: object of type 'NoneType' has no len()\n",
            "\n",
            "During handling of the above exception, another exception occurred:\n",
            "\n",
            "Traceback (most recent call last):\n",
            "  File \"/usr/local/lib/python3.11/dist-packages/IPython/core/interactiveshell.py\", line 2099, in showtraceback\n",
            "    stb = value._render_traceback_()\n",
            "          ^^^^^^^^^^^^^^^^^^^^^^^^\n",
            "AttributeError: 'TypeError' object has no attribute '_render_traceback_'\n",
            "\n",
            "During handling of the above exception, another exception occurred:\n",
            "\n",
            "Traceback (most recent call last):\n",
            "  File \"/usr/local/lib/python3.11/dist-packages/IPython/core/ultratb.py\", line 1101, in get_records\n",
            "    return _fixed_getinnerframes(etb, number_of_lines_of_context, tb_offset)\n",
            "           ^^^^^^^^^^^^^^^^^^^^^^^^^^^^^^^^^^^^^^^^^^^^^^^^^^^^^^^^^^^^^^^^^\n",
            "  File \"/usr/local/lib/python3.11/dist-packages/IPython/core/ultratb.py\", line 248, in wrapped\n",
            "    return f(*args, **kwargs)\n",
            "           ^^^^^^^^^^^^^^^^^^\n",
            "  File \"/usr/local/lib/python3.11/dist-packages/IPython/core/ultratb.py\", line 281, in _fixed_getinnerframes\n",
            "    records = fix_frame_records_filenames(inspect.getinnerframes(etb, context))\n",
            "                                          ^^^^^^^^^^^^^^^^^^^^^^^^^^^^^^^^^^^^\n",
            "  File \"/usr/lib/python3.11/inspect.py\", line 1739, in getinnerframes\n",
            "    traceback_info = getframeinfo(tb, context)\n",
            "                     ^^^^^^^^^^^^^^^^^^^^^^^^^\n",
            "  File \"/usr/lib/python3.11/inspect.py\", line 1686, in getframeinfo\n",
            "    start = lineno - 1 - context//2\n",
            "            ~~~~~~~^~~\n",
            "TypeError: unsupported operand type(s) for -: 'NoneType' and 'int'\n"
          ]
        }
      ],
      "source": [
        "# Import necessary libraries\n",
        "from sklearn.ensemble import RandomForestClassifier\n",
        "from sklearn.model_selection import train_test_split, GridSearchCV\n",
        "from sklearn.datasets import load_iris\n",
        "from sklearn.metrics import accuracy_score, classification_report\n",
        "\n",
        "# Load the iris dataset\n",
        "iris = load_iris()\n",
        "X = iris.data\n",
        "y = iris.target\n",
        "\n",
        "# Split the dataset into training and testing sets\n",
        "X_train, X_test, y_train, y_test = train_test_split(X, y, test_size=0.2, random_state=42)\n",
        "\n",
        "# Define the hyperparameter grid\n",
        "param_grid = {\n",
        "    'n_estimators': [10, 50, 100, 200],\n",
        "    'max_depth': [None, 5, 10, 15],\n",
        "    'min_samples_split': [2, 5, 10],\n",
        "    'min_samples_leaf': [1, 5, 10],\n",
        "    'max_features': ['auto', 'sqrt', 'log2']\n",
        "}\n",
        "\n",
        "# Initialize the Random Forest Classifier\n",
        "rf = RandomForestClassifier(random_state=42)\n",
        "\n",
        "# Perform grid search with cross-validation\n",
        "grid_search = GridSearchCV(estimator=rf, param_grid=param_grid, cv=5)\n",
        "grid_search.fit(X_train, y_train)\n",
        "\n",
        "# Get the best hyperparameters and the corresponding best score\n",
        "best_params = grid_search.best_params_\n",
        "best_score = grid_search.best_score_\n",
        "print(\"Best Hyperparameters:\", best_params)\n",
        "print(\"Best Score:\", best_score)\n",
        "\n",
        "# Train a new Random Forest Classifier with the best hyperparameters\n",
        "best_rf = RandomForestClassifier(**best_params, random_state=42)\n",
        "best_rf.fit(X_train, y_train)\n",
        "\n",
        "# Make predictions on the test set\n",
        "y_pred = best_rf.predict(X_test)\n",
        "\n",
        "# Evaluate the best Random Forest Classifier\n",
        "accuracy = accuracy_score(y_test, y_pred)\n",
        "print(\"Accuracy:\", accuracy)\n",
        "print(\"Classification Report:\")\n",
        "print(classification_report(y_test, y_pred))\n",
        "\n"
      ]
    },
    {
      "cell_type": "markdown",
      "source": [
        "32) Train a Bagging Regressor with different numbers of base estimators and compare performance?"
      ],
      "metadata": {
        "id": "dGlAV2YXIonM"
      }
    },
    {
      "source": [
        "# Train a Bagging Regressor with different numbers of base estimators\n",
        "for n_estimators in n_estimators_values:\n",
        "    # The 'base_estimator' argument has been replaced with 'estimator' in newer versions of scikit-learn.\n",
        "    bagging_dt = BaggingRegressor(estimator=DecisionTreeRegressor(random_state=42), n_estimators=n_estimators, random_state=42)\n",
        "    bagging_dt.fit(X_train, y_train)\n",
        "    y_pred = bagging_dt.predict(X_test)\n",
        "    mse = mean_squared_error(y_test, y_pred)\n",
        "    mse_values.append(mse)\n",
        "    print(f\"n_estimators: {n_estimators}, Mean Squared Error: {mse:.2f}\")"
      ],
      "cell_type": "code",
      "metadata": {
        "colab": {
          "base_uri": "https://localhost:8080/"
        },
        "id": "iGvpPVkNTl_6",
        "outputId": "334be900-6a19-4246-d828-a8e74b983f08"
      },
      "execution_count": null,
      "outputs": [
        {
          "output_type": "stream",
          "name": "stdout",
          "text": [
            "n_estimators: 10, Mean Squared Error: 3256.96\n",
            "n_estimators: 20, Mean Squared Error: 3202.44\n",
            "n_estimators: 30, Mean Squared Error: 3101.11\n",
            "n_estimators: 40, Mean Squared Error: 3035.70\n",
            "n_estimators: 50, Mean Squared Error: 3056.49\n",
            "n_estimators: 60, Mean Squared Error: 3043.33\n",
            "n_estimators: 70, Mean Squared Error: 3024.19\n",
            "n_estimators: 80, Mean Squared Error: 3010.70\n",
            "n_estimators: 90, Mean Squared Error: 2947.21\n",
            "n_estimators: 100, Mean Squared Error: 2970.86\n"
          ]
        }
      ]
    },
    {
      "cell_type": "markdown",
      "source": [
        "33) Train a Random Forest Classifier and analyze misclassified samples?"
      ],
      "metadata": {
        "id": "sJTxZLrvNPMa"
      }
    },
    {
      "cell_type": "code",
      "source": [
        "# Import necessary libraries\n",
        "from sklearn.ensemble import RandomForestClassifier\n",
        "from sklearn.datasets import load_iris\n",
        "from sklearn.model_selection import train_test_split\n",
        "from sklearn.metrics import accuracy_score, classification_report, confusion_matrix\n",
        "\n",
        "# Load iris dataset\n",
        "iris = load_iris()\n",
        "X = iris.data\n",
        "y = iris.target\n",
        "\n",
        "# Split dataset into training and testing sets\n",
        "X_train, X_test, y_train, y_test = train_test_split(X, y, test_size=0.2, random_state=42)\n",
        "\n",
        "# Train a Random Forest Classifier\n",
        "rf = RandomForestClassifier(n_estimators=100, random_state=42)\n",
        "rf.fit(X_train, y_train)\n",
        "\n",
        "# Make predictions\n",
        "y_pred = rf.predict(X_test)\n",
        "\n",
        "# Evaluate classifier\n",
        "accuracy = accuracy_score(y_test, y_pred)\n",
        "print(\"Accuracy:\", accuracy)\n",
        "print(\"Classification Report:\")\n",
        "print(classification_report(y_test, y_pred))\n",
        "print(\"Confusion Matrix:\")\n",
        "print(confusion_matrix(y_test, y_pred))\n",
        "\n",
        "# Analyze misclassified samples\n",
        "misclassified_samples = X_test[y_test != y_pred]\n",
        "print(\"Misclassified Samples:\")\n",
        "print(misclassified_samples)\n",
        "\n",
        "# Print the true and predicted labels for misclassified samples\n",
        "print(\"True Labels:\", y_test[y_test != y_pred])\n",
        "print(\"Predicted Labels:\", y_pred[y_test != y_pred])\n"
      ],
      "metadata": {
        "colab": {
          "base_uri": "https://localhost:8080/"
        },
        "id": "FgQmLodLNRB-",
        "outputId": "c5a05ed6-6230-442a-8f1c-f767fedfd7c9"
      },
      "execution_count": null,
      "outputs": [
        {
          "output_type": "stream",
          "name": "stdout",
          "text": [
            "Accuracy: 1.0\n",
            "Classification Report:\n",
            "              precision    recall  f1-score   support\n",
            "\n",
            "           0       1.00      1.00      1.00        10\n",
            "           1       1.00      1.00      1.00         9\n",
            "           2       1.00      1.00      1.00        11\n",
            "\n",
            "    accuracy                           1.00        30\n",
            "   macro avg       1.00      1.00      1.00        30\n",
            "weighted avg       1.00      1.00      1.00        30\n",
            "\n",
            "Confusion Matrix:\n",
            "[[10  0  0]\n",
            " [ 0  9  0]\n",
            " [ 0  0 11]]\n",
            "Misclassified Samples:\n",
            "[]\n",
            "True Labels: []\n",
            "Predicted Labels: []\n"
          ]
        }
      ]
    },
    {
      "cell_type": "markdown",
      "source": [
        "34) Train a Bagging Classifier and compare its performance with a single Decision Tree Classifier?"
      ],
      "metadata": {
        "id": "ASc-K-vrNcYN"
      }
    },
    {
      "source": [
        "# Import necessary libraries\n",
        "from sklearn.ensemble import BaggingClassifier\n",
        "from sklearn.tree import DecisionTreeClassifier\n",
        "from sklearn.datasets import load_iris\n",
        "from sklearn.model_selection import train_test_split\n",
        "from sklearn.metrics import accuracy_score, classification_report, confusion_matrix\n",
        "\n",
        "# Load iris dataset\n",
        "iris = load_iris()\n",
        "X = iris.data\n",
        "y = iris.target\n",
        "\n",
        "# Split dataset into training and testing sets\n",
        "X_train, X_test, y_train, y_test = train_test_split(X, y, test_size=0.2, random_state=42)\n",
        "\n",
        "# Train a single Decision Tree Classifier\n",
        "dt = DecisionTreeClassifier(random_state=42)\n",
        "dt.fit(X_train, y_train)\n",
        "y_pred_dt = dt.predict(X_test)\n",
        "\n",
        "# Train a Bagging Classifier\n",
        "# The 'base_estimator' argument has been replaced with 'estimator' in newer versions of scikit-learn.\n",
        "bagging_dt = BaggingClassifier(estimator=DecisionTreeClassifier(random_state=42), n_estimators=100, random_state=42)\n",
        "bagging_dt.fit(X_train, y_train)\n",
        "y_pred_bagging_dt = bagging_dt.predict(X_test)\n",
        "\n",
        "# Compare performance\n",
        "accuracy_dt = accuracy_score(y_test, y_pred_dt)\n",
        "accuracy_bagging_dt = accuracy_score(y_test, y_pred_bagging_dt)\n",
        "print(\"Decision Tree Accuracy:\", accuracy_dt)\n",
        "print(\"Bagging Decision Tree Accuracy:\", accuracy_bagging_dt)\n",
        "\n",
        "print(\"Decision Tree Classification Report:\")\n",
        "print(classification_report(y_test, y_pred_dt))\n",
        "print(\"Bagging Decision Tree Classification Report:\")\n",
        "print(classification_report(y_test, y_pred_bagging_dt))\n",
        "\n",
        "print(\"Decision Tree Confusion Matrix:\")\n",
        "print(confusion_matrix(y_test, y_pred_dt))\n",
        "print(\"Bagging Decision Tree Confusion Matrix:\")\n",
        "print(confusion_matrix(y_test, y_pred_bagging_dt))"
      ],
      "cell_type": "code",
      "metadata": {
        "colab": {
          "base_uri": "https://localhost:8080/"
        },
        "id": "vtIyYTFBNwV_",
        "outputId": "f15f5de5-33f1-4bf8-89a4-3237771abf96"
      },
      "execution_count": null,
      "outputs": [
        {
          "output_type": "stream",
          "name": "stdout",
          "text": [
            "Decision Tree Accuracy: 1.0\n",
            "Bagging Decision Tree Accuracy: 1.0\n",
            "Decision Tree Classification Report:\n",
            "              precision    recall  f1-score   support\n",
            "\n",
            "           0       1.00      1.00      1.00        10\n",
            "           1       1.00      1.00      1.00         9\n",
            "           2       1.00      1.00      1.00        11\n",
            "\n",
            "    accuracy                           1.00        30\n",
            "   macro avg       1.00      1.00      1.00        30\n",
            "weighted avg       1.00      1.00      1.00        30\n",
            "\n",
            "Bagging Decision Tree Classification Report:\n",
            "              precision    recall  f1-score   support\n",
            "\n",
            "           0       1.00      1.00      1.00        10\n",
            "           1       1.00      1.00      1.00         9\n",
            "           2       1.00      1.00      1.00        11\n",
            "\n",
            "    accuracy                           1.00        30\n",
            "   macro avg       1.00      1.00      1.00        30\n",
            "weighted avg       1.00      1.00      1.00        30\n",
            "\n",
            "Decision Tree Confusion Matrix:\n",
            "[[10  0  0]\n",
            " [ 0  9  0]\n",
            " [ 0  0 11]]\n",
            "Bagging Decision Tree Confusion Matrix:\n",
            "[[10  0  0]\n",
            " [ 0  9  0]\n",
            " [ 0  0 11]]\n"
          ]
        }
      ]
    },
    {
      "cell_type": "markdown",
      "source": [
        "35)  Train a Random Forest Classifier and visualize the confusion matrix?"
      ],
      "metadata": {
        "id": "S7JH1m3uNzoE"
      }
    },
    {
      "cell_type": "code",
      "source": [
        "# Import necessary libraries\n",
        "from sklearn.ensemble import RandomForestClassifier\n",
        "from sklearn.datasets import load_iris\n",
        "from sklearn.model_selection import train_test_split\n",
        "from sklearn.metrics import accuracy_score, classification_report, confusion_matrix\n",
        "import seaborn as sns\n",
        "import matplotlib.pyplot as plt\n",
        "\n",
        "# Load iris dataset\n",
        "iris = load_iris()\n",
        "X = iris.data\n",
        "y = iris.target\n",
        "\n",
        "# Split dataset into training and testing sets\n",
        "X_train, X_test, y_train, y_test = train_test_split(X, y, test_size=0.2, random_state=42)\n",
        "\n",
        "# Train a Random Forest Classifier\n",
        "rf = RandomForestClassifier(n_estimators=100, random_state=42)\n",
        "rf.fit(X_train, y_train)\n",
        "\n",
        "# Make predictions\n",
        "y_pred = rf.predict(X_test)\n",
        "\n",
        "# Evaluate classifier\n",
        "accuracy = accuracy_score(y_test, y_pred)\n",
        "print(\"Accuracy:\", accuracy)\n",
        "print(\"Classification Report:\")\n",
        "print(classification_report(y_test, y_pred))\n",
        "\n",
        "# Visualize confusion matrix\n",
        "cm = confusion_matrix(y_test, y_pred)\n",
        "plt.figure(figsize=(8, 6))\n",
        "sns.heatmap(cm, annot=True, cmap=\"Blues\")\n",
        "plt.xlabel(\"Predicted Labels\")\n",
        "plt.ylabel(\"True Labels\")\n",
        "plt.title(\"Confusion Matrix\")\n",
        "plt.show()\n"
      ],
      "metadata": {
        "colab": {
          "base_uri": "https://localhost:8080/",
          "height": 785
        },
        "id": "xdiRv2ToN8rw",
        "outputId": "e97fe60e-2bb9-463e-c832-4234f39de45a"
      },
      "execution_count": null,
      "outputs": [
        {
          "output_type": "stream",
          "name": "stdout",
          "text": [
            "Accuracy: 1.0\n",
            "Classification Report:\n",
            "              precision    recall  f1-score   support\n",
            "\n",
            "           0       1.00      1.00      1.00        10\n",
            "           1       1.00      1.00      1.00         9\n",
            "           2       1.00      1.00      1.00        11\n",
            "\n",
            "    accuracy                           1.00        30\n",
            "   macro avg       1.00      1.00      1.00        30\n",
            "weighted avg       1.00      1.00      1.00        30\n",
            "\n"
          ]
        },
        {
          "output_type": "display_data",
          "data": {
            "text/plain": [
              "<Figure size 800x600 with 2 Axes>"
            ],
            "image/png": "[encoded data removed]"
          },
          "metadata": {}
        }
      ]
    },
    {
      "cell_type": "markdown",
      "source": [
        "36)  Train a Stacking Classifier using Decision Trees, SVM, and Logistic Regression, and compare accuracy?"
      ],
      "metadata": {
        "id": "ylgLyAI5OM6p"
      }
    },
    {
      "cell_type": "code",
      "source": [
        "# Import necessary libraries\n",
        "from sklearn.ensemble import StackingClassifier\n",
        "from sklearn.tree import DecisionTreeClassifier\n",
        "from sklearn.svm import SVC\n",
        "from sklearn.linear_model import LogisticRegression\n",
        "from sklearn.datasets import load_iris\n",
        "from sklearn.model_selection import train_test_split\n",
        "from sklearn.metrics import accuracy_score\n",
        "\n",
        "# Load iris dataset\n",
        "iris = load_iris()\n",
        "X = iris.data\n",
        "y = iris.target\n",
        "\n",
        "# Split dataset into training and testing sets\n",
        "X_train, X_test, y_train, y_test = train_test_split(X, y, test_size=0.2, random_state=42)\n",
        "\n",
        "# Define base estimators\n",
        "estimators = [\n",
        "    ('dt', DecisionTreeClassifier(random_state=42)),\n",
        "    ('svm', SVC(probability=True, random_state=42)),\n",
        "    ('lr', LogisticRegression(max_iter=1000, random_state=42))\n",
        "]\n",
        "\n",
        "# Define final estimator\n",
        "final_estimator = LogisticRegression(max_iter=1000, random_state=42)\n",
        "\n",
        "# Train a Stacking Classifier\n",
        "stacking_clf = StackingClassifier(estimators=estimators, final_estimator=final_estimator)\n",
        "stacking_clf.fit(X_train, y_train)\n",
        "\n",
        "# Make predictions\n",
        "y_pred = stacking_clf.predict(X_test)\n",
        "\n",
        "# Evaluate accuracy\n",
        "accuracy = accuracy_score(y_test, y_pred)\n",
        "print(\"Stacking Classifier Accuracy:\", accuracy)\n",
        "\n",
        "# Compare accuracy with individual models\n",
        "dt = DecisionTreeClassifier(random_state=42)\n",
        "dt.fit(X_train, y_train)\n",
        "y_pred_dt = dt.predict(X_test)\n",
        "accuracy_dt = accuracy_score(y_test, y_pred_dt)\n",
        "print(\"Decision Tree Accuracy:\", accuracy_dt)\n",
        "\n",
        "svm = SVC(probability=True, random_state=42)\n",
        "svm.fit(X_train, y_train)\n",
        "y_pred_svm = svm.predict(X_test)\n",
        "accuracy_svm = accuracy_score(y_test, y_pred_svm)\n",
        "print(\"SVM Accuracy:\", accuracy_svm)\n",
        "\n",
        "lr = LogisticRegression(max_iter=1000, random_state=42)\n",
        "lr.fit(X_train, y_train)\n",
        "y_pred_lr = lr.predict(X_test)\n",
        "accuracy_lr = accuracy_score(y_test, y_pred_lr)\n",
        "print(\"Logistic Regression Accuracy:\", accuracy_lr)\n"
      ],
      "metadata": {
        "colab": {
          "base_uri": "https://localhost:8080/"
        },
        "id": "eZjnOQJ0OQFO",
        "outputId": "cfe13d78-0c3f-4cc8-ae12-c3167d3e3b35"
      },
      "execution_count": null,
      "outputs": [
        {
          "output_type": "stream",
          "name": "stdout",
          "text": [
            "Stacking Classifier Accuracy: 1.0\n",
            "Decision Tree Accuracy: 1.0\n",
            "SVM Accuracy: 1.0\n",
            "Logistic Regression Accuracy: 1.0\n"
          ]
        }
      ]
    },
    {
      "cell_type": "markdown",
      "source": [
        "37) Train a Random Forest Classifier and print the top 5 most important features?"
      ],
      "metadata": {
        "id": "FJz40HtvOcsg"
      }
    },
    {
      "cell_type": "code",
      "source": [
        "# Import necessary libraries\n",
        "from sklearn.ensemble import RandomForestClassifier\n",
        "from sklearn.datasets import load_iris\n",
        "from sklearn.model_selection import train_test_split\n",
        "\n",
        "# Load iris dataset\n",
        "iris = load_iris()\n",
        "X = iris.data\n",
        "y = iris.target\n",
        "\n",
        "# Split dataset into training and testing sets\n",
        "X_train, X_test, y_train, y_test = train_test_split(X, y, test_size=0.2, random_state=42)\n",
        "\n",
        "# Train a Random Forest Classifier\n",
        "rf = RandomForestClassifier(n_estimators=100, random_state=42)\n",
        "rf.fit(X_train, y_train)\n",
        "\n",
        "# Get feature importance\n",
        "feature_importance = rf.feature_importances_\n",
        "\n",
        "# Print the top 5 most important features\n",
        "top_5_features = sorted(zip(iris.feature_names, feature_importance), key=lambda x: x[1], reverse=True)[:5]\n",
        "print(\"Top 5 Most Important Features:\")\n",
        "for feature, importance in top_5_features:\n",
        "    print(f\"{feature}: {importance:.2f}\")\n"
      ],
      "metadata": {
        "colab": {
          "base_uri": "https://localhost:8080/"
        },
        "id": "8qAWoYlHOiSU",
        "outputId": "4ec21a9f-25f7-4af5-f224-6da75147f341"
      },
      "execution_count": null,
      "outputs": [
        {
          "output_type": "stream",
          "name": "stdout",
          "text": [
            "Top 5 Most Important Features:\n",
            "petal length (cm): 0.44\n",
            "petal width (cm): 0.42\n",
            "sepal length (cm): 0.11\n",
            "sepal width (cm): 0.03\n"
          ]
        }
      ]
    },
    {
      "cell_type": "markdown",
      "source": [
        "38)  Train a Bagging Classifier and evaluate performance using Precision, Recall, and F1-score?"
      ],
      "metadata": {
        "id": "tXd3q0TQOroN"
      }
    },
    {
      "source": [
        "# Import necessary libraries\n",
        "from sklearn.ensemble import BaggingClassifier\n",
        "from sklearn.tree import DecisionTreeClassifier\n",
        "from sklearn.datasets import load_iris\n",
        "from sklearn.model_selection import train_test_split\n",
        "from sklearn.metrics import precision_score, recall_score, f1_score, classification_report\n",
        "\n",
        "# Load iris dataset\n",
        "iris = load_iris()\n",
        "X = iris.data\n",
        "y = iris.target\n",
        "\n",
        "# Split dataset into training and testing sets\n",
        "X_train, X_test, y_train, y_test = train_test_split(X, y, test_size=0.2, random_state=42)\n",
        "\n",
        "# Train a Bagging Classifier\n",
        "# The 'base_estimator' argument has been replaced with 'estimator' in newer versions of scikit-learn.\n",
        "bagging_dt = BaggingClassifier(estimator=DecisionTreeClassifier(random_state=42), n_estimators=100, random_state=42)\n",
        "bagging_dt.fit(X_train, y_train)\n",
        "\n",
        "# Make predictions\n",
        "y_pred = bagging_dt.predict(X_test)\n",
        "\n",
        "# Evaluate performance\n",
        "precision = precision_score(y_test, y_pred, average='weighted')\n",
        "recall = recall_score(y_test, y_pred, average='weighted')\n",
        "f1 = f1_score(y_test, y_pred, average='weighted')\n",
        "\n",
        "print(\"Precision:\", precision)\n",
        "print(\"Recall:\", recall)\n",
        "print(\"F1-score:\", f1)\n",
        "\n",
        "print(\"Classification Report:\")\n",
        "print(classification_report(y_test, y_pred))"
      ],
      "cell_type": "code",
      "metadata": {
        "colab": {
          "base_uri": "https://localhost:8080/"
        },
        "id": "422WX9SqPCPy",
        "outputId": "f90b61ae-126b-49ac-cc29-0f62957867f1"
      },
      "execution_count": null,
      "outputs": [
        {
          "output_type": "stream",
          "name": "stdout",
          "text": [
            "Precision: 1.0\n",
            "Recall: 1.0\n",
            "F1-score: 1.0\n",
            "Classification Report:\n",
            "              precision    recall  f1-score   support\n",
            "\n",
            "           0       1.00      1.00      1.00        10\n",
            "           1       1.00      1.00      1.00         9\n",
            "           2       1.00      1.00      1.00        11\n",
            "\n",
            "    accuracy                           1.00        30\n",
            "   macro avg       1.00      1.00      1.00        30\n",
            "weighted avg       1.00      1.00      1.00        30\n",
            "\n"
          ]
        }
      ]
    },
    {
      "cell_type": "markdown",
      "source": [
        "39) Train a Random Forest Classifier and analyze the effect of max_depth on accuracy?"
      ],
      "metadata": {
        "id": "JHrbJtLMPIrc"
      }
    },
    {
      "cell_type": "code",
      "source": [
        "# Import necessary libraries\n",
        "from sklearn.ensemble import RandomForestClassifier\n",
        "from sklearn.datasets import load_iris\n",
        "from sklearn.model_selection import train_test_split\n",
        "from sklearn.metrics import accuracy_score\n",
        "import matplotlib.pyplot as plt\n",
        "\n",
        "# Load iris dataset\n",
        "iris = load_iris()\n",
        "X = iris.data\n",
        "y = iris.target\n",
        "\n",
        "# Split dataset into training and testing sets\n",
        "X_train, X_test, y_train, y_test = train_test_split(X, y, test_size=0.2, random_state=42)\n",
        "\n",
        "# Define different max_depth values\n",
        "max_depth_values = [5, 10, 15, 20, 25, None]\n",
        "\n",
        "# Create a list to store accuracy values\n",
        "accuracy_values = []\n",
        "\n",
        "# Train a Random Forest Classifier with different max_depth values\n",
        "for max_depth in max_depth_values:\n",
        "    rf = RandomForestClassifier(n_estimators=100, max_depth=max_depth, random_state=42)\n",
        "    rf.fit(X_train, y_train)\n",
        "    y_pred = rf.predict(X_test)\n",
        "    accuracy = accuracy_score(y_test, y_pred)\n",
        "    accuracy_values.append(accuracy)\n",
        "    print(f\"max_depth: {max_depth}, Accuracy: {accuracy:.2f}\")\n",
        "\n",
        "# Plot accuracy values against max_depth values\n",
        "plt.plot(max_depth_values, accuracy_values)\n",
        "plt.xlabel('max_depth')\n",
        "plt.ylabel('Accuracy')\n",
        "plt.title('Effect of max_depth on Accuracy')\n",
        "plt.show()\n"
      ],
      "metadata": {
        "colab": {
          "base_uri": "https://localhost:8080/",
          "height": 583
        },
        "id": "hvsoEECKPXoc",
        "outputId": "482538b4-10ec-4db0-956e-e9a3a9714dc4"
      },
      "execution_count": null,
      "outputs": [
        {
          "output_type": "stream",
          "name": "stdout",
          "text": [
            "max_depth: 5, Accuracy: 1.00\n",
            "max_depth: 10, Accuracy: 1.00\n",
            "max_depth: 15, Accuracy: 1.00\n",
            "max_depth: 20, Accuracy: 1.00\n",
            "max_depth: 25, Accuracy: 1.00\n",
            "max_depth: None, Accuracy: 1.00\n"
          ]
        },
        {
          "output_type": "display_data",
          "data": {
            "text/plain": [
              "<Figure size 640x480 with 1 Axes>"
            ],
            "image/png": "[encoded data removed]"
          },
          "metadata": {}
        }
      ]
    },
    {
      "cell_type": "markdown",
      "source": [
        "40)  Train a Bagging Regressor using different base estimators (DecisionTree and KNeighbors) and compare\n",
        "performance?"
      ],
      "metadata": {
        "id": "rq0ekRoXPeDq"
      }
    },
    {
      "source": [
        "# Import necessary libraries\n",
        "from sklearn.ensemble import BaggingRegressor\n",
        "from sklearn.tree import DecisionTreeRegressor\n",
        "from sklearn.neighbors import KNeighborsRegressor\n",
        "from sklearn.datasets import load_diabetes\n",
        "from sklearn.model_selection import train_test_split\n",
        "from sklearn.metrics import mean_squared_error\n",
        "\n",
        "# Load diabetes dataset\n",
        "diabetes = load_diabetes()\n",
        "X = diabetes.data\n",
        "y = diabetes.target\n",
        "\n",
        "# Split dataset into training and testing sets\n",
        "X_train, X_test, y_train, y_test = train_test_split(X, y, test_size=0.2, random_state=42)\n",
        "\n",
        "# Train a Bagging Regressor with DecisionTreeRegressor as base estimator\n",
        "# Replace 'base_estimator' with 'estimator'\n",
        "bagging_dt = BaggingRegressor(estimator=DecisionTreeRegressor(random_state=42), n_estimators=100, random_state=42)\n",
        "bagging_dt.fit(X_train, y_train)\n",
        "y_pred_dt = bagging_dt.predict(X_test)\n",
        "mse_dt = mean_squared_error(y_test, y_pred_dt)\n",
        "print(f\"Bagging Regressor with DecisionTreeRegressor: MSE = {mse_dt:.2f}\")\n",
        "\n",
        "# Train a Bagging Regressor with KNeighborsRegressor as base estimator\n",
        "# Replace 'base_estimator' with 'estimator'\n",
        "bagging_knn = BaggingRegressor(estimator=KNeighborsRegressor(), n_estimators=100)\n",
        "bagging_knn.fit(X_train, y_train)\n",
        "y_pred_knn = bagging_knn.predict(X_test)\n",
        "mse_knn = mean_squared_error(y_test, y_pred_knn)\n",
        "print(f\"Bagging Regressor with KNeighborsRegressor: MSE = {mse_knn:.2f}\")\n",
        "\n",
        "# Compare performance\n",
        "if mse_dt < mse_knn:\n",
        "    print(\"Bagging Regressor with DecisionTreeRegressor performs better.\")\n",
        "elif mse_dt > mse_knn:\n",
        "    print(\"Bagging Regressor with KNeighborsRegressor performs better.\")\n",
        "else:\n",
        "    print(\"Both Bagging Regressors perform equally well.\")"
      ],
      "cell_type": "code",
      "metadata": {
        "colab": {
          "base_uri": "https://localhost:8080/"
        },
        "id": "puyIAvWqP1RM",
        "outputId": "4e708098-ced7-49f2-c793-7d379f7efe0d"
      },
      "execution_count": null,
      "outputs": [
        {
          "output_type": "stream",
          "name": "stdout",
          "text": [
            "Bagging Regressor with DecisionTreeRegressor: MSE = 2970.86\n",
            "Bagging Regressor with KNeighborsRegressor: MSE = 2951.27\n",
            "Bagging Regressor with KNeighborsRegressor performs better.\n"
          ]
        }
      ]
    },
    {
      "cell_type": "markdown",
      "source": [
        "41) Train a Random Forest Classifier and evaluate its performance using ROC-AUC Score?"
      ],
      "metadata": {
        "id": "qTBtLetQP4bb"
      }
    },
    {
      "cell_type": "code",
      "source": [
        "import numpy as np\n",
        "import pandas as pd\n",
        "from sklearn.model_selection import train_test_split\n",
        "from sklearn.ensemble import RandomForestClassifier\n",
        "from sklearn.metrics import roc_auc_score\n",
        "from sklearn.datasets import make_classification\n",
        "\n",
        "# Step 1: Load or Generate Data\n",
        "X, y = make_classification(n_samples=1000, n_features=20, random_state=42)\n",
        "\n",
        "# Step 2: Split the dataset\n",
        "X_train, X_test, y_train, y_test = train_test_split(X, y, test_size=0.2, random_state=42)\n",
        "\n",
        "# Step 3: Train Random Forest Classifier\n",
        "rf_classifier = RandomForestClassifier(n_estimators=100, random_state=42)\n",
        "rf_classifier.fit(X_train, y_train)\n",
        "\n",
        "# Step 4: Predict probabilities for ROC-AUC\n",
        "y_probs = rf_classifier.predict_proba(X_test)[:, 1]  # Take probabilities for the positive class\n",
        "\n",
        "# Step 5: Compute ROC-AUC Score\n",
        "roc_auc = roc_auc_score(y_test, y_probs)\n",
        "\n",
        "print(f\"ROC-AUC Score: {roc_auc:.4f}\")"
      ],
      "metadata": {
        "colab": {
          "base_uri": "https://localhost:8080/"
        },
        "id": "IuGwh7CIQsSS",
        "outputId": "225f0608-c799-41be-bf11-e708454f71cb"
      },
      "execution_count": null,
      "outputs": [
        {
          "output_type": "stream",
          "name": "stdout",
          "text": [
            "ROC-AUC Score: 0.9379\n"
          ]
        }
      ]
    },
    {
      "cell_type": "markdown",
      "source": [
        "42) Train a Bagging Classifier and evaluate its performance using cross-validation?"
      ],
      "metadata": {
        "id": "6K3uL4bzQvps"
      }
    },
    {
      "source": [
        "# Import necessary libraries\n",
        "from sklearn.ensemble import BaggingClassifier\n",
        "from sklearn.tree import DecisionTreeClassifier\n",
        "from sklearn.datasets import load_iris\n",
        "from sklearn.model_selection import cross_val_score\n",
        "import numpy as np\n",
        "\n",
        "# Load iris dataset\n",
        "iris = load_iris()\n",
        "X = iris.data\n",
        "y = iris.target\n",
        "\n",
        "# Train a Bagging Classifier\n",
        "# Replace 'base_estimator' with 'estimator'\n",
        "bagging_dt = BaggingClassifier(estimator=DecisionTreeClassifier(random_state=42), n_estimators=100, random_state=42)\n",
        "\n",
        "# Evaluate performance using cross-validation\n",
        "scores = cross_val_score(bagging_dt, X, y, cv=5)\n",
        "print(\"Cross-Validation Scores:\", scores)\n",
        "print(\"Average Cross-Validation Score:\", np.mean(scores))\n",
        "\n",
        "# Evaluate performance using stratified cross-validation\n",
        "from sklearn.model_selection import StratifiedKFold\n",
        "skf = StratifiedKFold(n_splits=5, shuffle=True, random_state=42)\n",
        "stratified_scores = cross_val_score(bagging_dt, X, y, cv=skf)\n",
        "print(\"Stratified Cross-Validation Scores:\", stratified_scores)\n",
        "print(\"Average Stratified Cross-Validation Score:\", np.mean(stratified_scores))"
      ],
      "cell_type": "code",
      "metadata": {
        "colab": {
          "base_uri": "https://localhost:8080/"
        },
        "id": "xxmFtO-7RGx2",
        "outputId": "04a1e29b-d742-4f57-b98b-8dbd54f164cb"
      },
      "execution_count": null,
      "outputs": [
        {
          "output_type": "stream",
          "name": "stdout",
          "text": [
            "Cross-Validation Scores: [0.96666667 0.96666667 0.9        0.96666667 1.        ]\n",
            "Average Cross-Validation Score: 0.9600000000000002\n",
            "Stratified Cross-Validation Scores: [1.         0.96666667 0.93333333 0.96666667 0.9       ]\n",
            "Average Stratified Cross-Validation Score: 0.9533333333333335\n"
          ]
        }
      ]
    },
    {
      "cell_type": "markdown",
      "source": [
        "43) Train a Random Forest Classifier and plot the Precision-Recall curve?"
      ],
      "metadata": {
        "id": "3uukcHYwRKTN"
      }
    },
    {
      "cell_type": "code",
      "source": [
        "import numpy as np\n",
        "import matplotlib.pyplot as plt\n",
        "from sklearn.model_selection import train_test_split\n",
        "from sklearn.ensemble import RandomForestClassifier\n",
        "from sklearn.metrics import precision_recall_curve, auc\n",
        "from sklearn.datasets import make_classification\n",
        "\n",
        "# Step 1: Load or Generate Data\n",
        "X, y = make_classification(n_samples=1000, n_features=20, random_state=42)\n",
        "\n",
        "# Step 2: Split the dataset\n",
        "X_train, X_test, y_train, y_test = train_test_split(X, y, test_size=0.2, random_state=42)\n",
        "\n",
        "# Step 3: Train Random Forest Classifier\n",
        "rf_classifier = RandomForestClassifier(n_estimators=100, random_state=42)\n",
        "rf_classifier.fit(X_train, y_train)\n",
        "\n",
        "# Step 4: Predict probabilities\n",
        "y_probs = rf_classifier.predict_proba(X_test)[:, 1]  # Take probabilities for the positive class\n",
        "\n",
        "# Step 5: Compute Precision-Recall values\n",
        "precision, recall, _ = precision_recall_curve(y_test, y_probs)\n",
        "pr_auc = auc(recall, precision)\n",
        "\n",
        "# Step 6: Plot Precision-Recall Curve\n",
        "plt.figure(figsize=(8, 6))\n",
        "plt.plot(recall, precision, label=f'PR AUC = {pr_auc:.4f}', color='blue')\n",
        "plt.xlabel(\"Recall\")\n",
        "plt.ylabel(\"Precision\")\n",
        "plt.title(\"Precision-Recall Curve\")\n",
        "plt.legend()\n",
        "plt.grid()\n",
        "plt.show()"
      ],
      "metadata": {
        "colab": {
          "base_uri": "https://localhost:8080/",
          "height": 564
        },
        "id": "vLFetAriRiir",
        "outputId": "275ff48a-d9d6-4037-c2be-c08b1391c3cd"
      },
      "execution_count": null,
      "outputs": [
        {
          "output_type": "display_data",
          "data": {
            "text/plain": [
              "<Figure size 800x600 with 1 Axes>"
            ],
            "image/png": "[encoded data removed]"
          },
          "metadata": {}
        }
      ]
    },
    {
      "cell_type": "markdown",
      "source": [
        "44) Train a Stacking Classifier with Random Forest and Logistic Regression and compare accuracy?"
      ],
      "metadata": {
        "id": "zrDWtTEuR4sM"
      }
    },
    {
      "cell_type": "code",
      "source": [
        "# Import necessary libraries\n",
        "from sklearn.ensemble import StackingClassifier\n",
        "from sklearn.ensemble import RandomForestClassifier\n",
        "from sklearn.linear_model import LogisticRegression\n",
        "from sklearn.datasets import load_iris\n",
        "from sklearn.model_selection import train_test_split\n",
        "from sklearn.metrics import accuracy_score\n",
        "\n",
        "# Load iris dataset\n",
        "iris = load_iris()\n",
        "X = iris.data\n",
        "y = iris.target\n",
        "\n",
        "# Split dataset into training and testing sets\n",
        "X_train, X_test, y_train, y_test = train_test_split(X, y, test_size=0.2, random_state=42)\n",
        "\n",
        "# Define base estimators\n",
        "estimators = [\n",
        "    ('rf', RandomForestClassifier(n_estimators=100, random_state=42)),\n",
        "    ('lr', LogisticRegression(max_iter=1000, random_state=42))\n",
        "]\n",
        "\n",
        "# Define final estimator\n",
        "final_estimator = LogisticRegression(max_iter=1000, random_state=42)\n",
        "\n",
        "# Train a Stacking Classifier\n",
        "stacking_clf = StackingClassifier(estimators=estimators, final_estimator=final_estimator)\n",
        "stacking_clf.fit(X_train, y_train)\n",
        "\n",
        "# Make predictions\n",
        "y_pred = stacking_clf.predict(X_test)\n",
        "\n",
        "# Evaluate accuracy\n",
        "accuracy = accuracy_score(y_test, y_pred)\n",
        "print(f\"Stacking Classifier Accuracy: {accuracy:.2f}\")\n",
        "\n",
        "# Train individual models for comparison\n",
        "rf = RandomForestClassifier(n_estimators=100, random_state=42)\n",
        "rf.fit(X_train, y_train)\n",
        "y_pred_rf = rf.predict(X_test)\n",
        "accuracy_rf = accuracy_score(y_test, y_pred_rf)\n",
        "print(f\"Random Forest Accuracy: {accuracy_rf:.2f}\")\n",
        "\n",
        "lr = LogisticRegression(max_iter=1000, random_state=42)\n",
        "lr.fit(X_train, y_train)\n",
        "y_pred_lr = lr.predict(X_test)\n",
        "accuracy_lr = accuracy_score(y_test, y_pred_lr)\n",
        "print(f\"Logistic Regression Accuracy: {accuracy_lr:.2f}\")\n",
        "\n",
        "# Compare accuracy\n",
        "print(\"Accuracy Comparison:\")\n",
        "print(f\"Stacking Classifier: {accuracy:.2f}\")\n",
        "print(f\"Random Forest: {accuracy_rf:.2f}\")\n",
        "print(f\"Logistic Regression: {accuracy_lr:.2f}\")\n"
      ],
      "metadata": {
        "colab": {
          "base_uri": "https://localhost:8080/"
        },
        "id": "4Yx9zKfgR-Gb",
        "outputId": "6fe6b58d-6090-416c-b378-aea3596b10d0"
      },
      "execution_count": null,
      "outputs": [
        {
          "output_type": "stream",
          "name": "stdout",
          "text": [
            "Stacking Classifier Accuracy: 1.00\n",
            "Random Forest Accuracy: 1.00\n",
            "Logistic Regression Accuracy: 1.00\n",
            "Accuracy Comparison:\n",
            "Stacking Classifier: 1.00\n",
            "Random Forest: 1.00\n",
            "Logistic Regression: 1.00\n"
          ]
        }
      ]
    },
    {
      "cell_type": "markdown",
      "source": [
        "45) Train a Bagging Regressor with different levels of bootstrap samples and compare performance?"
      ],
      "metadata": {
        "id": "Aw1sIhsjSMvj"
      }
    },
    {
      "source": [
        "import numpy as np\n",
        "import matplotlib.pyplot as plt\n",
        "from sklearn.model_selection import train_test_split\n",
        "from sklearn.ensemble import BaggingRegressor\n",
        "from sklearn.tree import DecisionTreeRegressor\n",
        "from sklearn.metrics import mean_squared_error\n",
        "from sklearn.datasets import make_regression\n",
        "\n",
        "# Step 1: Generate Regression Data\n",
        "X, y = make_regression(n_samples=1000, n_features=5, noise=0.2, random_state=42)\n",
        "\n",
        "# Step 2: Split the dataset\n",
        "X_train, X_test, y_train, y_test = train_test_split(X, y, test_size=0.2, random_state=42)\n",
        "\n",
        "# Step 3: Train Bagging Regressors with different bootstrap sample sizes\n",
        "bootstrap_samples = [0.2, 0.5, 0.8, 1.0]  # Different fractions of bootstrap samples\n",
        "mse_scores = []\n",
        "\n",
        "for max_samples in bootstrap_samples:\n",
        "    # Change 'base_estimator' to 'estimator'\n",
        "    bagging_regressor = BaggingRegressor(\n",
        "        estimator=DecisionTreeRegressor(),  # Changed parameter name\n",
        "        n_estimators=100,\n",
        "        max_samples=max_samples,\n",
        "        bootstrap=True,\n",
        "        random_state=42\n",
        "    )\n",
        "\n",
        "    bagging_regressor.fit(X_train, y_train)\n",
        "    y_pred = bagging_regressor.predict(X_test)\n",
        "    mse = mean_squared_error(y_test, y_pred)\n",
        "    mse_scores.append(mse)\n",
        "    print(f\"Bootstrap Sample {max_samples*100:.0f}% - MSE: {mse:.4f}\")\n",
        "\n",
        "# Step 4: Plot the results\n",
        "plt.figure(figsize=(8, 5))\n",
        "plt.plot(bootstrap_samples, mse_scores, marker='o', linestyle='-', color='b')\n",
        "plt.xlabel(\"Bootstrap Sample Size Fraction\")\n",
        "plt.ylabel(\"Mean Squared Error (MSE)\")\n",
        "plt.title(\"Effect of Bootstrap Sample Size on Bagging Regressor Performance\")\n",
        "plt.grid()\n",
        "plt.show()"
      ],
      "cell_type": "code",
      "metadata": {
        "colab": {
          "base_uri": "https://localhost:8080/",
          "height": 561
        },
        "id": "-jkrhVHLS9XH",
        "outputId": "559e438c-3f7f-48df-d290-24607ace1907"
      },
      "execution_count": null,
      "outputs": [
        {
          "output_type": "stream",
          "name": "stdout",
          "text": [
            "Bootstrap Sample 20% - MSE: 393.5190\n",
            "Bootstrap Sample 50% - MSE: 317.1520\n",
            "Bootstrap Sample 80% - MSE: 288.9534\n",
            "Bootstrap Sample 100% - MSE: 288.3721\n"
          ]
        },
        {
          "output_type": "display_data",
          "data": {
            "text/plain": [
              "<Figure size 800x500 with 1 Axes>"
            ],
            "image/png": "[encoded data removed]"
          },
          "metadata": {}
        }
      ]
    }
  ],
  "metadata": {
    "colab": {
      "provenance": []
    },
    "kernelspec": {
      "display_name": "Python 3",
      "name": "python3"
    },
    "language_info": {
      "name": "python"
    }
  },
  "nbformat": 4,
  "nbformat_minor": 0
}