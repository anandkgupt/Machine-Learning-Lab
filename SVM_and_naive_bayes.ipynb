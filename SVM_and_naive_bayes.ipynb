{
  "nbformat": 4,
  "nbformat_minor": 0,
  "metadata": {
    "colab": {
      "provenance": []
    },
    "kernelspec": {
      "name": "python3",
      "display_name": "Python 3"
    },
    "language_info": {
      "name": "python"
    }
  },
  "cells": [
    {
      "cell_type": "code",
      "execution_count": null,
      "metadata": {
        "id": "oL4qFkx1UP8J"
      },
      "outputs": [],
      "source": [
        "                                                              Theoretical"
      ]
    },
    {
      "cell_type": "markdown",
      "source": [
        "1)  What is a Support Vector Machine (SVM)?"
      ],
      "metadata": {
        "id": "PCyHErU6YGzF"
      }
    },
    {
      "cell_type": "markdown",
      "source": [
        "\n",
        "\n",
        "Ans = A Support Vector Machine (SVM) is a supervised learning algorithm used for classification and regression tasks. It's a powerful and versatile machine learning model that can handle high-dimensional data and non-linear relationships.\n",
        "\n",
        "\n",
        "\n"
      ],
      "metadata": {
        "id": "o22GdE9lYObC"
      }
    },
    {
      "cell_type": "markdown",
      "source": [
        "2)  What is the difference between Hard Margin and Soft Margin SVM?"
      ],
      "metadata": {
        "id": "I22YqXuqY6t_"
      }
    },
    {
      "cell_type": "markdown",
      "source": [
        "Ans = Hard Margin SVM:\n",
        "\n",
        "1. Assumes linearly separable data: Hard Margin SVM assumes that the data can be completely separated by a hyperplane with no errors.\n",
        "2. No misclassifications allowed: The algorithm tries to find a hyperplane that perfectly separates the classes, with no misclassifications.\n",
        "3. Sensitive to outliers: Hard Margin SVM is sensitive to outliers and noise in the data.\n",
        "\n",
        "Soft Margin SVM:\n",
        "\n",
        "1. Allows for some misclassifications: Soft Margin SVM allows for some misclassifications, making it more robust to noise and outliers.\n",
        "2. Introduces slack variables: The algorithm introduces slack variables to allow for some flexibility in the hyperplane.\n",
        "3. Tunes the trade-off between margin and errors: Soft Margin SVM tunes the trade-off between maximizing the margin and minimizing the number of misclassifications."
      ],
      "metadata": {
        "id": "3oNShVXlZD-U"
      }
    },
    {
      "cell_type": "markdown",
      "source": [
        "3)  What is the mathematical intuition behind SVM?"
      ],
      "metadata": {
        "id": "NKIRbWaAZgLQ"
      }
    },
    {
      "cell_type": "markdown",
      "source": [
        "Ans = 1. Maximize Margin: Find the hyperplane that maximizes the margin (distance) between classes.\n",
        "\n",
        "2. Minimize Weight Vector Norm: Minimize the norm of the weight vector (w) to avoid overfitting.\n",
        "\n",
        "Mathematically:\n",
        "\n",
        "Minimize: ||w||²\n",
        "\n",
        "Subject to: yi(w · xi + b) ≥ 1\n",
        "\n",
        "where:\n",
        "\n",
        "- w: weight vector\n",
        "- b: bias\n",
        "- xi: input\n",
        "- yi: label\n",
        "\n",
        "This optimization problem is solved using Lagrange multipliers, leading to the dual formulation, which introduces the kernel function for non-linear mappings."
      ],
      "metadata": {
        "id": "SrfUrzoSZs_Z"
      }
    },
    {
      "cell_type": "markdown",
      "source": [
        "4)  What is the role of Lagrange Multipliers in SVM?"
      ],
      "metadata": {
        "id": "_ca4Pat-aACx"
      }
    },
    {
      "cell_type": "markdown",
      "source": [
        "Ans = Lagrange multipliers play a crucial role in Support Vector Machines (SVMs) as they help in solving the optimization problem that lies at the heart of SVMs.\n",
        "The role of Lagrange multipliers in SVMs:\n",
        "\n",
        "1. Convert constraints to penalties: Lagrange multipliers convert the constraints of the optimization problem into penalties, allowing the algorithm to find the optimal solution.\n",
        "2. Find the optimal hyperplane: Lagrange multipliers help find the optimal hyperplane that maximally separates the classes.\n",
        "3. Identify support vectors: Lagrange multipliers identify the support vectors, which are the most informative data points for the classification problem.\n",
        "4. Compute the decision function: Lagrange multipliers are used to compute the decision function, which is used to make predictions.\n",
        "5. Provide insight into data points: Lagrange multipliers provide insight into the importance of each data point in the classification problem."
      ],
      "metadata": {
        "id": "MPR_J8VhaCnG"
      }
    },
    {
      "cell_type": "markdown",
      "source": [
        "5) What are Support Vectors in SVM?"
      ],
      "metadata": {
        "id": "86wVmtSHabo9"
      }
    },
    {
      "cell_type": "markdown",
      "source": [
        "Ans = Support Vectors (SVs) are a fundamental concept in Support Vector Machines (SVMs).\n",
        "Support Vectors are the data points that lie closest to the hyperplane (decision boundary) in the feature space. These data points are crucial in defining the hyperplane and are used to train the SVM model.\n",
        "Support Vectors (SVs) in SVMs:\n",
        "\n",
        "- Data points closest to the hyperplane (decision boundary)\n",
        "- Define the decision boundary\n",
        "- Most informative data points for classification\n",
        "- Improve generalization and reduce overfitting\n",
        "- Enable kernel trick for high-dimensional feature spaces"
      ],
      "metadata": {
        "id": "Wt1o5288agDL"
      }
    },
    {
      "cell_type": "markdown",
      "source": [
        "6) What is a Support Vector Classifier (SVC)?"
      ],
      "metadata": {
        "id": "EV-RTnwOawlG"
      }
    },
    {
      "cell_type": "markdown",
      "source": [
        "Ans = An SVC is a classifier that uses the Support Vector Machine (SVM) algorithm to classify data points into different classes. The goal of an SVC is to find the hyperplane (decision boundary) that maximally separates the classes in the feature space\n",
        "Support Vector Classifier (SVC):\n",
        "\n",
        "- Supervised learning algorithm for classification\n",
        "- Finds hyperplane that maximally separates classes\n",
        "- Uses support vectors to define decision boundary\n",
        "- Robust to noise and outliers\n",
        "- Handles linear and non-linear classification\n"
      ],
      "metadata": {
        "id": "JCtkE509a0zd"
      }
    },
    {
      "cell_type": "markdown",
      "source": [
        "7)  What is a Support Vector Regressor (SVR)?"
      ],
      "metadata": {
        "id": "W9s_lsbSbEo0"
      }
    },
    {
      "cell_type": "markdown",
      "source": [
        "Ans = An SVR is a regressor that uses the Support Vector Machine (SVM) algorithm to predict continuous outcomes. The goal of an SVR is to find the hyperplane (decision boundary) that minimizes the error between predicted and actual values.\n",
        "Support Vector Regressor (SVR):\n",
        "\n",
        "- Supervised learning algorithm for regression\n",
        "- Predicts continuous outcomes\n",
        "- Uses epsilon-insensitive loss function\n",
        "- Robust to noise and outliers\n",
        "- Handles linear and non-linear regression\n"
      ],
      "metadata": {
        "id": "zCon68SKbJxd"
      }
    },
    {
      "cell_type": "markdown",
      "source": [
        "8) what is the Kernel Trick in SVM?"
      ],
      "metadata": {
        "id": "LMzKBmjxbcU4"
      }
    },
    {
      "cell_type": "markdown",
      "source": [
        "Ans = Transforms data into higher-dimensional space\n",
        "Computes dot products without explicit mapping\n",
        "Enables non-linear classification\n",
        "Reduces computational complexity\n",
        "\n",
        "Common Kernels:\n",
        "\n",
        "Linear\n",
        "Polynomial\n",
        "Radial Basis Function (RBF)\n",
        "Sigmoid\n",
        "\n",
        "Kernel Trick allows SVMs to:\n",
        "\n",
        "Handle non-linear relationships\n",
        "Increase accuracy\n",
        "Improve generalization"
      ],
      "metadata": {
        "id": "bmlSjj7bbo5z"
      }
    },
    {
      "cell_type": "markdown",
      "source": [
        "9) compare Linear Kernel, Polynomial Kernel, and RBF Kernel?"
      ],
      "metadata": {
        "id": "8UpYHs-pb1br"
      }
    },
    {
      "cell_type": "markdown",
      "source": [
        "Ans = a comparison of Linear Kernel, Polynomial Kernel, and RBF Kernel:\n",
        "\n",
        "Linear Kernel\n",
        "\n",
        "- Computes dot product of two vectors\n",
        "- Suitable for linearly separable data\n",
        "- Fast computation\n",
        "- Low complexity\n",
        "\n",
        "Polynomial Kernel\n",
        "\n",
        "- Computes dot product of two vectors raised to a power\n",
        "- Suitable for non-linearly separable data\n",
        "- Higher complexity than linear kernel\n",
        "- Can handle higher-dimensional data\n",
        "\n",
        "RBF (Radial Basis Function) Kernel\n",
        "\n",
        "- Computes similarity between two vectors using a Gaussian function\n",
        "- Suitable for non-linearly separable data\n",
        "- Higher complexity than linear and polynomial kernels\n",
        "- Can handle high-dimensional data and noise\n"
      ],
      "metadata": {
        "id": "xAoUR9m-b6x4"
      }
    },
    {
      "cell_type": "markdown",
      "source": [
        "10) What is the effect of the C parameter in SVM?"
      ],
      "metadata": {
        "id": "vEzCN-gJcRj0"
      }
    },
    {
      "cell_type": "markdown",
      "source": [
        "Ans = The C parameter in SVM:\n",
        "\n",
        "C: Regularization Parameter\n",
        "\n",
        "- Controls the trade-off between margin and misclassification error\n",
        "- High C: Prioritizes low misclassification error, may lead to overfitting\n",
        "- Low C: Prioritizes large margin, may lead to underfitting\n",
        "\n",
        "Effects of C:\n",
        "\n",
        "1. Overfitting/Underfitting: C controls the balance between fitting the training data and generalizing to new data.\n",
        "2. Margin: C influences the size of the margin, with higher C values resulting in smaller margins.\n",
        "3. Support Vectors: C affects the number of support vectors, with higher C values resulting in more support vectors.\n",
        "\n",
        "Choosing C:\n",
        "\n",
        "1. Cross-validation: Use cross-validation to find the optimal C value.\n",
        "2. Grid search: Perform a grid search over a range of C values to find the best one.\n"
      ],
      "metadata": {
        "id": "re3HeZdpcXEw"
      }
    },
    {
      "cell_type": "markdown",
      "source": [
        "11)  What is the role of the Gamma parameter in RBF Kernel SVM?"
      ],
      "metadata": {
        "id": "1otSEsiTc3GW"
      }
    },
    {
      "cell_type": "markdown",
      "source": [
        "Ans = Gamma (γ) parameter:\n",
        "\n",
        "- Controls kernel width in RBF Kernel SVM\n",
        "- Influences overfitting/underfitting\n",
        "- Affects support vectors\n",
        "- Impacts data similarity measure\n",
        "\n",
        "RBF Kernel ka role:\n",
        "\n",
        "1. Non-linear classification mein madad karta hai\n",
        "2. Data ko higher-dimensional space mein map karta hai\n",
        "3. Data points ke beech similarity ko compute karta hai\n",
        "4. Gamma (γ) parameter ka use karke kernel width ko control karta hai\n",
        "5. Overfitting/underfitting ko control karne mein madad karta hai"
      ],
      "metadata": {
        "id": "1kiTPfa4c8X9"
      }
    },
    {
      "cell_type": "markdown",
      "source": [
        "12)  What is the Naïve Bayes classifier, and why is it called \"Naïve\"?"
      ],
      "metadata": {
        "id": "7GYgZwjNePDe"
      }
    },
    {
      "cell_type": "markdown",
      "source": [
        "Ans = Naïve Bayes Classifier:\n",
        "\n",
        "- Probabilistic classifier based on Bayes' theorem\n",
        "- Assumes independence of features\n",
        "- Calculates probabilities and classifies\n",
        "\n",
        "Called \"Naïve\" because:\n",
        "\n",
        "- Simplifying assumption of independence\n",
        "- Overly optimistic about feature importance\n",
        "\n",
        "Advantages:\n",
        "\n",
        "- Simple and efficient\n",
        "- Handles high-dimensional data\n",
        "\n",
        "Disadvantages:\n",
        "\n",
        "- Assumes independence\n",
        "- Sensitive to outliers"
      ],
      "metadata": {
        "id": "vBBEO3_Jeqe_"
      }
    },
    {
      "cell_type": "markdown",
      "source": [
        "13) What is Bayes' Theorem?"
      ],
      "metadata": {
        "id": "q3craY4fesS1"
      }
    },
    {
      "cell_type": "markdown",
      "source": [
        "Ans = Bayes' Theorem is a mathematical formula used to update probabilities based on new evidence. It is named after Thomas Bayes, an 18th-century statistician. The theorem describes how the probability of an event (A) is influenced by prior knowledge of another event (B)."
      ],
      "metadata": {
        "id": "oHHi7Iv2fSF8"
      }
    },
    {
      "cell_type": "markdown",
      "source": [
        "14)  Explain the differences between Gaussian Naïve Bayes, Multinomial Naïve Bayes, and Bernoulli Naïve Bayes?"
      ],
      "metadata": {
        "id": "rc4TPqYufUgd"
      }
    },
    {
      "cell_type": "markdown",
      "source": [
        "Ans =  Gaussian Naïve Bayes\n",
        "- Assumes continuous features with a Gaussian (normal) distribution\n",
        "- Used for regression and classification tasks\n",
        "- Suitable for datasets with continuous variables, such as height, weight, or temperature\n",
        "\n",
        "Multinomial Naïve Bayes\n",
        "- Assumes discrete features with a multinomial distribution\n",
        "- Used for classification tasks, especially text classification\n",
        "- Suitable for datasets with categorical variables, such as text, categories, or labels\n",
        "\n",
        "Bernoulli Naïve Bayes\n",
        "- Assumes binary features with a Bernoulli distribution\n",
        "- Used for binary classification tasks\n",
        "- Suitable for datasets with binary variables, such as 0/1, yes/no, or true/false\n"
      ],
      "metadata": {
        "id": "wJ6S1Zp6fbRz"
      }
    },
    {
      "cell_type": "markdown",
      "source": [
        "15)  When should you use Gaussian Naïve Bayes over other variants?"
      ],
      "metadata": {
        "id": "ZS-jUif3foQw"
      }
    },
    {
      "cell_type": "markdown",
      "source": [
        "Ans = Use Gaussian Naïve Bayes over other variants when:\n",
        "\n",
        "1. Features are continuous: Gaussian NB assumes continuous features with a normal distribution.\n",
        "2. Regression tasks: Gaussian NB can handle regression tasks, unlike Multinomial and Bernoulli NB.\n",
        "3. High-dimensional data: Gaussian NB performs well with high-dimensional data, especially when features are continuous.\n",
        "4. Data follows a normal distribution: If your data follows a normal distribution, Gaussian NB is a good choice.\n"
      ],
      "metadata": {
        "id": "gLwdY8R8fsjc"
      }
    },
    {
      "cell_type": "markdown",
      "source": [
        "16)  What are the key assumptions made by Naïve Bayes?"
      ],
      "metadata": {
        "id": "VQqyuXDaf1i5"
      }
    },
    {
      "cell_type": "markdown",
      "source": [
        "Ans = Naïve Bayes makes the following key assumptions:\n",
        "\n",
        "1. Independence of features: Features are assumed to be independent of each other.\n",
        "2. Conditional independence: Features are conditionally independent given the class label.\n",
        "3. Probabilistic nature: Data is assumed to follow a probabilistic distribution.\n",
        "\n",
        "Additionally, specific Naïve Bayes variants make additional assumptions:\n",
        "\n",
        "- Gaussian Naïve Bayes: Features follow a Gaussian (normal) distribution.\n",
        "- Multinomial Naïve Bayes: Features follow a multinomial distribution.\n",
        "- Bernoulli Naïve Bayes: Features follow a Bernoulli distribution.\n"
      ],
      "metadata": {
        "id": "eoVnI_dVf5ip"
      }
    },
    {
      "cell_type": "markdown",
      "source": [
        "17) What are the advantages and disadvantages of Naïve Bayes?"
      ],
      "metadata": {
        "id": "fO1jOz75gCLV"
      }
    },
    {
      "cell_type": "markdown",
      "source": [
        "Ans = the advantages and disadvantages of Naïve Bayes:\n",
        "\n",
        "Advantages:\n",
        "\n",
        "1. Simple and efficient: Easy to implement and computationally efficient.\n",
        "2. Handles high-dimensional data: Can handle large number of features.\n",
        "3. Robust to noise: Can handle noisy data.\n",
        "4. Interpretable results: Provides probabilistic outputs.\n",
        "5. Fast training: Training is relatively fast compared to other algorithms.\n",
        "\n",
        "Disadvantages:\n",
        "\n",
        "1. Assumes independence: Assumes features are independent, which may not always be true.\n",
        "2. Sensitive to outliers: Can be affected by outliers in the data.\n",
        "3. Not suitable for complex relationships: May not capture complex relationships between features.\n",
        "4. Can suffer from overfitting: Especially when features are highly correlated.\n",
        "5. Not suitable for imbalanced datasets: May not perform well on imbalanced datasets.\n"
      ],
      "metadata": {
        "id": "AHmyJP_AgGbz"
      }
    },
    {
      "cell_type": "markdown",
      "source": [
        "18) Why is Naïve Bayes a good choice for text classification?"
      ],
      "metadata": {
        "id": "ZkLT2m5vgPQS"
      }
    },
    {
      "cell_type": "markdown",
      "source": [
        "Ans = Naïve Bayes is a good choice for text classification because:\n",
        "\n",
        "1. High-dimensional data: Text data can have thousands of features (words), and Naïve Bayes can handle high-dimensional data.\n",
        "2. Sparse data: Text data is often sparse, meaning most words don't appear in most documents. Naïve Bayes can handle sparse data.\n",
        "3. Fast training: Naïve Bayes trains quickly, even on large datasets.\n",
        "4. Simple and efficient: Naïve Bayes is easy to implement and computationally efficient.\n",
        "5. Robust to noise: Naïve Bayes can handle noisy text data.\n",
        "6. Multinomial distribution: Text data follows a multinomial distribution, which Naïve Bayes can model.\n",
        "\n",
        "Some popular text classification tasks where Naïve Bayes excels:\n",
        "\n",
        "1. Spam vs. non-spam emails\n",
        "2. Sentiment analysis (positive/negative reviews)\n",
        "3. Topic modeling (classifying documents into topics)\n",
        "4. Language detection\n"
      ],
      "metadata": {
        "id": "0Iw89QQdgUI2"
      }
    },
    {
      "cell_type": "markdown",
      "source": [
        "19) Compare SVM and Naïve Bayes for classification tasks?"
      ],
      "metadata": {
        "id": "TMq7Daqqgdoi"
      }
    },
    {
      "cell_type": "markdown",
      "source": [
        "Ans = SVM vs Naïve Bayes:\n",
        "\n",
        "SVM:\n",
        "\n",
        "- Highly accurate\n",
        "- Robust to noise/outliers\n",
        "- Handles high-dimensional data\n",
        "- Computationally expensive\n",
        "\n",
        "Naïve Bayes:\n",
        "\n",
        "- Fast and efficient\n",
        "- Simple to implement\n",
        "- Handles high-dimensional data\n",
        "- Assumes feature independence\n",
        "\n",
        "Choose SVM for:\n",
        "\n",
        "- High accuracy\n",
        "- Complex classification tasks\n",
        "\n",
        "Choose Naïve Bayes for:\n",
        "\n",
        "- Speed and efficiency\n",
        "- Large datasets\n",
        "- Simple classification tasks"
      ],
      "metadata": {
        "id": "qNNoXTRUghqS"
      }
    },
    {
      "cell_type": "markdown",
      "source": [
        "20)  How does Laplace Smoothing help in Naïve Bayes?"
      ],
      "metadata": {
        "id": "l4lxlz2TgsYu"
      }
    },
    {
      "cell_type": "markdown",
      "source": [
        "Ans = Laplace Smoothing:\n",
        "\n",
        "- Avoids zero probabilities: Adds a small value (α) to each probability to avoid zero probabilities.\n",
        "- Prevents underflow: Ensures that probabilities remain non-zero, preventing underflow errors.\n",
        "- Improves model generalization: Helps the model generalize better to unseen data.\n",
        "\n",
        "In Naïve Bayes:\n",
        "\n",
        "- Laplace Smoothing is applied to the likelihood probabilities.\n",
        "- α is typically set to 1 or a small value.\n"
      ],
      "metadata": {
        "id": "2sszGCC7gxUY"
      }
    },
    {
      "cell_type": "markdown",
      "source": [
        "                                                                     Practical"
      ],
      "metadata": {
        "id": "-JkIHnSnML04"
      }
    },
    {
      "cell_type": "markdown",
      "source": [
        "21)  Write a Python program to train an SVM Classifier on the Iris dataset and evaluate accuracy?"
      ],
      "metadata": {
        "id": "lllSzlpnhCkX"
      }
    },
    {
      "cell_type": "code",
      "source": [
        "# Import necessary libraries\n",
        "from sklearn import datasets\n",
        "from sklearn.model_selection import train_test_split\n",
        "from sklearn import svm\n",
        "from sklearn.metrics import accuracy_score\n",
        "\n",
        "# Load the Iris dataset\n",
        "iris = datasets.load_iris()\n",
        "X = iris.data\n",
        "y = iris.target\n",
        "\n",
        "# Split the dataset into training and testing sets\n",
        "X_train, X_test, y_train, y_test = train_test_split(X, y, test_size=0.2, random_state=42)\n",
        "\n",
        "# Create an SVM Classifier\n",
        "clf = svm.SVC(kernel='linear', probability=True)\n",
        "\n",
        "# Train the Classifier using the training data\n",
        "clf.fit(X_train, y_train)\n",
        "\n",
        "# Make predictions on the testing data\n",
        "y_pred = clf.predict(X_test)\n",
        "\n",
        "# Evaluate the accuracy of the Classifier\n",
        "accuracy = accuracy_score(y_test, y_pred)\n",
        "print(\"Accuracy:\", accuracy)\n"
      ],
      "metadata": {
        "colab": {
          "base_uri": "https://localhost:8080/"
        },
        "id": "OrZ_mvCoMFx1",
        "outputId": "8db82f56-58d6-4d3c-8126-8f6b44b816c9"
      },
      "execution_count": null,
      "outputs": [
        {
          "output_type": "stream",
          "name": "stdout",
          "text": [
            "Accuracy: 1.0\n"
          ]
        }
      ]
    },
    {
      "cell_type": "markdown",
      "source": [
        "22)  Write a Python program to train two SVM classifiers with Linear and RBF kernels on the Wine dataset, then\n",
        "compare their accuracies?"
      ],
      "metadata": {
        "id": "qJKHFVdnM4yp"
      }
    },
    {
      "cell_type": "code",
      "source": [
        "# Import necessary libraries\n",
        "from sklearn import datasets\n",
        "from sklearn.model_selection import train_test_split\n",
        "from sklearn import svm\n",
        "from sklearn.metrics import accuracy_score\n",
        "\n",
        "# Load the Wine dataset\n",
        "wine = datasets.load_wine()\n",
        "X = wine.data\n",
        "y = wine.target\n",
        "\n",
        "# Split the dataset into training and testing sets\n",
        "X_train, X_test, y_train, y_test = train_test_split(X, y, test_size=0.2, random_state=42)\n",
        "\n",
        "# Create SVM Classifiers with Linear and RBF kernels\n",
        "clf_linear = svm.SVC(kernel='linear', probability=True)\n",
        "clf_rbf = svm.SVC(kernel='rbf', probability=True)\n",
        "\n",
        "# Train the Classifiers using the training data\n",
        "clf_linear.fit(X_train, y_train)\n",
        "clf_rbf.fit(X_train, y_train)\n",
        "\n",
        "# Make predictions on the testing data\n",
        "y_pred_linear = clf_linear.predict(X_test)\n",
        "y_pred_rbf = clf_rbf.predict(X_test)\n",
        "\n",
        "# Evaluate the accuracies of the Classifiers\n",
        "accuracy_linear = accuracy_score(y_test, y_pred_linear)\n",
        "accuracy_rbf = accuracy_score(y_test, y_pred_rbf)\n",
        "\n",
        "print(\"Accuracy (Linear Kernel):\", accuracy_linear)\n",
        "print(\"Accuracy (RBF Kernel):\", accuracy_rbf)\n",
        "\n",
        "# Compare the accuracies\n",
        "if accuracy_linear > accuracy_rbf:\n",
        "    print(\"Linear Kernel performs better.\")\n",
        "elif accuracy_linear < accuracy_rbf:\n",
        "    print(\"RBF Kernel performs better.\")\n",
        "else:\n",
        "    print(\"Both kernels perform equally well.\")\n",
        "\n"
      ],
      "metadata": {
        "colab": {
          "base_uri": "https://localhost:8080/"
        },
        "id": "CfMH8pzzM8L0",
        "outputId": "6ab6e370-1a9a-4ef3-9f47-764822ff8c27"
      },
      "execution_count": null,
      "outputs": [
        {
          "output_type": "stream",
          "name": "stdout",
          "text": [
            "Accuracy (Linear Kernel): 1.0\n",
            "Accuracy (RBF Kernel): 0.8055555555555556\n",
            "Linear Kernel performs better.\n"
          ]
        }
      ]
    },
    {
      "cell_type": "markdown",
      "source": [
        "23) Write a Python program to train an SVM Regressor (SVR) on a housing dataset and evaluate it using Mean\n",
        "Squared Error (MSE)?"
      ],
      "metadata": {
        "id": "TUkIaBkDNSeX"
      }
    },
    {
      "source": [
        "# Import necessary libraries\n",
        "from sklearn import datasets\n",
        "from sklearn.model_selection import train_test_split\n",
        "from sklearn import svm\n",
        "from sklearn.metrics import mean_squared_error\n",
        "from sklearn.preprocessing import StandardScaler\n",
        "import pandas as pd\n",
        "import numpy as np\n",
        "\n",
        "# Load the California housing dataset instead of the Boston housing dataset\n",
        "# california = datasets.fetch_california_housing() # You can use this as well\n",
        "# X, y = california.data, california.target\n",
        "\n",
        "# Fetch the dataset from the original source as suggested in the error message\n",
        "data_url = \"http://lib.stat.cmu.edu/datasets/boston\"\n",
        "raw_df = pd.read_csv(data_url, sep=\"\\s+\", skiprows=22, header=None)\n",
        "X = np.hstack([raw_df.values[::2, :], raw_df.values[1::2, :2]])\n",
        "y = raw_df.values[1::2, 2]\n",
        "\n",
        "# Split the dataset into training and testing sets\n",
        "X_train, X_test, y_train, y_test = train_test_split(X, y, test_size=0.2, random_state=42)\n",
        "\n",
        "# Standardize features by removing the mean and scaling to unit variance\n",
        "scaler = StandardScaler()\n",
        "X_train = scaler.fit_transform(X_train)\n",
        "X_test = scaler.transform(X_test)\n",
        "\n",
        "# Create an SVM Regressor (SVR) with a radial basis function (RBF) kernel\n",
        "svr = svm.SVR(kernel='rbf', C=1e3, gamma=0.1)\n",
        "\n",
        "# Train the SVR using the training data\n",
        "svr.fit(X_train, y_train)\n",
        "\n",
        "# Make predictions on the testing data\n",
        "y_pred = svr.predict(X_test)\n",
        "\n",
        "# Evaluate the SVR using Mean Squared Error (MSE)\n",
        "mse = mean_squared_error(y_test, y_pred)\n",
        "print(\"Mean Squared Error (MSE):\", mse)\n",
        "\n",
        "# Evaluate the SVR using Root Mean Squared Error (RMSE)\n",
        "rmse = mse ** 0.5\n",
        "print(\"Root Mean Squared Error (RMSE):\", rmse)"
      ],
      "cell_type": "code",
      "metadata": {
        "colab": {
          "base_uri": "https://localhost:8080/"
        },
        "id": "sL41bw08NyH_",
        "outputId": "a3e7529e-51e0-409c-cf8b-8b1afad528e2"
      },
      "execution_count": null,
      "outputs": [
        {
          "output_type": "stream",
          "name": "stdout",
          "text": [
            "Mean Squared Error (MSE): 15.411044710939334\n",
            "Root Mean Squared Error (RMSE): 3.9256903483259267\n"
          ]
        }
      ]
    },
    {
      "cell_type": "markdown",
      "source": [
        "24)  Write a Python program to train an SVM Classifier with a Polynomial Kernel and visualize the decision\n",
        "boundary?"
      ],
      "metadata": {
        "id": "gdMku5pjN1lS"
      }
    },
    {
      "cell_type": "code",
      "source": [
        "# Import necessary libraries\n",
        "from sklearn import datasets\n",
        "from sklearn import svm\n",
        "import numpy as np\n",
        "import matplotlib.pyplot as plt\n",
        "\n",
        "# Load the Iris dataset\n",
        "iris = datasets.load_iris()\n",
        "X = iris.data[:, :2]  # we only take the first two features.\n",
        "y = iris.target\n",
        "\n",
        "# Create an SVM Classifier with a Polynomial Kernel\n",
        "clf = svm.SVC(kernel='poly', degree=2, gamma='scale')\n",
        "\n",
        "# Train the Classifier using the training data\n",
        "clf.fit(X, y)\n",
        "\n",
        "# Create a meshgrid to visualize the decision boundary\n",
        "h = 0.02\n",
        "x_min, x_max = X[:, 0].min() - 1, X[:, 0].max() + 1\n",
        "y_min, y_max = X[:, 1].min() - 1, X[:, 1].max() + 1\n",
        "xx, yy = np.meshgrid(np.arange(x_min, x_max, h),\n",
        "                         np.arange(y_min, y_max, h))\n",
        "\n",
        "# Make predictions on the meshgrid\n",
        "Z = clf.predict(np.c_[xx.ravel(), yy.ravel()])\n",
        "\n",
        "# Put the result into a color plot\n",
        "Z = Z.reshape(xx.shape)\n",
        "plt.contourf(xx, yy, Z, alpha=0.8)\n",
        "\n",
        "# Plot also the training points\n",
        "plt.scatter(X[:, 0], X[:, 1], c=y, s=20, edgecolor='k')\n",
        "plt.xlabel('Sepal length')\n",
        "plt.ylabel('Sepal width')\n",
        "plt.title('SVM Classifier with Polynomial Kernel')\n",
        "plt.show()\n"
      ],
      "metadata": {
        "colab": {
          "base_uri": "https://localhost:8080/",
          "height": 472
        },
        "id": "b4pxZWUCN9Dh",
        "outputId": "ce17c147-db65-4e87-a3e2-6ad34c423842"
      },
      "execution_count": null,
      "outputs": [
        {
          "output_type": "display_data",
          "data": {
            "text/plain": [
              "<Figure size 640x480 with 1 Axes>"
            ],
            "image/png": "[encoded data removed]"
          },
          "metadata": {}
        }
      ]
    },
    {
      "cell_type": "markdown",
      "source": [
        "25) Write a Python program to train a Gaussian Naïve Bayes classifier on the Breast Cancer dataset and\n",
        "evaluate accuracy?"
      ],
      "metadata": {
        "id": "-cGp8lVeO4m-"
      }
    },
    {
      "cell_type": "code",
      "source": [
        "# Import necessary libraries\n",
        "from sklearn import datasets\n",
        "from sklearn.model_selection import train_test_split\n",
        "from sklearn.naive_bayes import GaussianNB\n",
        "from sklearn.metrics import accuracy_score, classification_report, confusion_matrix\n",
        "\n",
        "# Load the Breast Cancer dataset\n",
        "cancer = datasets.load_breast_cancer()\n",
        "X = cancer.data\n",
        "y = cancer.target\n",
        "\n",
        "# Split the dataset into training and testing sets\n",
        "X_train, X_test, y_train, y_test = train_test_split(X, y, test_size=0.2, random_state=42)\n",
        "\n",
        "# Create a Gaussian Naïve Bayes classifier\n",
        "gnb = GaussianNB()\n",
        "\n",
        "# Train the classifier using the training data\n",
        "gnb.fit(X_train, y_train)\n",
        "\n",
        "# Make predictions on the testing data\n",
        "y_pred = gnb.predict(X_test)\n",
        "\n",
        "# Evaluate the accuracy of the classifier\n",
        "accuracy = accuracy_score(y_test, y_pred)\n",
        "print(\"Accuracy:\", accuracy)\n",
        "\n",
        "# Print the classification report\n",
        "print(\"Classification Report:\")\n",
        "print(classification_report(y_test, y_pred))\n",
        "\n",
        "# Print the confusion matrix\n",
        "print(\"Confusion Matrix:\")\n",
        "print(confusion_matrix(y_test, y_pred))\n"
      ],
      "metadata": {
        "colab": {
          "base_uri": "https://localhost:8080/"
        },
        "id": "noHeWMJqPAqa",
        "outputId": "3ccdd15d-d1f2-4776-b6a5-7ac897fc357d"
      },
      "execution_count": null,
      "outputs": [
        {
          "output_type": "stream",
          "name": "stdout",
          "text": [
            "Accuracy: 0.9736842105263158\n",
            "Classification Report:\n",
            "              precision    recall  f1-score   support\n",
            "\n",
            "           0       1.00      0.93      0.96        43\n",
            "           1       0.96      1.00      0.98        71\n",
            "\n",
            "    accuracy                           0.97       114\n",
            "   macro avg       0.98      0.97      0.97       114\n",
            "weighted avg       0.97      0.97      0.97       114\n",
            "\n",
            "Confusion Matrix:\n",
            "[[40  3]\n",
            " [ 0 71]]\n"
          ]
        }
      ]
    },
    {
      "cell_type": "markdown",
      "source": [
        "26) Write a Python program to train a Multinomial Naïve Bayes classifier for text classification using the 20\n",
        "Newsgroups dataset.?"
      ],
      "metadata": {
        "id": "Nk-7CR0mR6D9"
      }
    },
    {
      "cell_type": "code",
      "source": [
        "# Import necessary libraries\n",
        "from sklearn.datasets import fetch_20newsgroups\n",
        "from sklearn.model_selection import train_test_split\n",
        "from sklearn.feature_extraction.text import TfidfVectorizer\n",
        "from sklearn.naive_bayes import MultinomialNB\n",
        "from sklearn.metrics import accuracy_score, classification_report, confusion_matrix\n",
        "\n",
        "# Load the 20 Newsgroups dataset\n",
        "newsgroups_train = fetch_20newsgroups(subset='train')\n",
        "newsgroups_test = fetch_20newsgroups(subset='test')\n",
        "\n",
        "# Split the dataset into training and testing sets\n",
        "X_train = newsgroups_train.data\n",
        "y_train = newsgroups_train.target\n",
        "X_test = newsgroups_test.data\n",
        "y_test = newsgroups_test.target\n",
        "\n",
        "# Create a TF-IDF vectorizer\n",
        "vectorizer = TfidfVectorizer()\n",
        "\n",
        "# Fit the vectorizer to the training data and transform both the training and testing data\n",
        "X_train_tfidf = vectorizer.fit_transform(X_train)\n",
        "X_test_tfidf = vectorizer.transform(X_test)\n",
        "\n",
        "# Create a Multinomial Naïve Bayes classifier\n",
        "mnb = MultinomialNB()\n",
        "\n",
        "# Train the classifier using the training data\n",
        "mnb.fit(X_train_tfidf, y_train)\n",
        "\n",
        "# Make predictions on the testing data\n",
        "y_pred = mnb.predict(X_test_tfidf)\n",
        "\n",
        "# Evaluate the accuracy of the classifier\n",
        "accuracy = accuracy_score(y_test, y_pred)\n",
        "print(\"Accuracy:\", accuracy)\n",
        "\n",
        "# Print the classification report\n",
        "print(\"Classification Report:\")\n",
        "print(classification_report(y_test, y_pred))\n",
        "\n",
        "# Print the confusion matrix\n",
        "print(\"Confusion Matrix:\")\n",
        "print(confusion_matrix(y_test, y_pred))\n",
        "\n"
      ],
      "metadata": {
        "colab": {
          "base_uri": "https://localhost:8080/"
        },
        "id": "bJslZRRmSBZp",
        "outputId": "eeb02415-2349-48ec-ef41-cdd60ea0c6fa"
      },
      "execution_count": null,
      "outputs": [
        {
          "output_type": "stream",
          "name": "stdout",
          "text": [
            "Accuracy: 0.7738980350504514\n",
            "Classification Report:\n",
            "              precision    recall  f1-score   support\n",
            "\n",
            "           0       0.80      0.52      0.63       319\n",
            "           1       0.81      0.65      0.72       389\n",
            "           2       0.82      0.65      0.73       394\n",
            "           3       0.67      0.78      0.72       392\n",
            "           4       0.86      0.77      0.81       385\n",
            "           5       0.89      0.75      0.82       395\n",
            "           6       0.93      0.69      0.80       390\n",
            "           7       0.85      0.92      0.88       396\n",
            "           8       0.94      0.93      0.93       398\n",
            "           9       0.92      0.90      0.91       397\n",
            "          10       0.89      0.97      0.93       399\n",
            "          11       0.59      0.97      0.74       396\n",
            "          12       0.84      0.60      0.70       393\n",
            "          13       0.92      0.74      0.82       396\n",
            "          14       0.84      0.89      0.87       394\n",
            "          15       0.44      0.98      0.61       398\n",
            "          16       0.64      0.94      0.76       364\n",
            "          17       0.93      0.91      0.92       376\n",
            "          18       0.96      0.42      0.58       310\n",
            "          19       0.97      0.14      0.24       251\n",
            "\n",
            "    accuracy                           0.77      7532\n",
            "   macro avg       0.83      0.76      0.76      7532\n",
            "weighted avg       0.82      0.77      0.77      7532\n",
            "\n",
            "Confusion Matrix:\n",
            "[[166   0   0   1   0   1   0   0   1   1   1   3   0   6   3 123   4   8\n",
            "    0   1]\n",
            " [  1 252  15  12   9  18   1   2   1   5   2  41   4   0   6  15   4   1\n",
            "    0   0]\n",
            " [  0  14 258  45   3   9   0   2   1   3   2  25   1   0   6  23   2   0\n",
            "    0   0]\n",
            " [  0   5  11 305  17   1   3   6   1   0   2  19  13   0   5   3   1   0\n",
            "    0   0]\n",
            " [  0   3   8  23 298   0   3   8   1   3   1  16   8   0   2   8   3   0\n",
            "    0   0]\n",
            " [  1  21  17  13   2 298   1   0   1   1   0  23   0   1   4  10   2   0\n",
            "    0   0]\n",
            " [  0   1   3  31  12   1 271  19   4   4   6   5  12   6   3   9   3   0\n",
            "    0   0]\n",
            " [  0   1   0   3   0   0   4 364   3   2   2   4   1   1   3   3   4   0\n",
            "    1   0]\n",
            " [  0   0   0   1   0   0   2  10 371   0   0   4   0   0   0   8   2   0\n",
            "    0   0]\n",
            " [  0   0   0   0   1   0   0   4   0 357  22   0   0   0   2   9   1   1\n",
            "    0   0]\n",
            " [  0   0   0   0   0   0   0   1   0   4 387   1   0   0   1   5   0   0\n",
            "    0   0]\n",
            " [  0   2   1   0   0   1   1   3   0   0   0 383   1   0   0   3   1   0\n",
            "    0   0]\n",
            " [  0   4   2  17   5   0   2   8   7   1   2  78 235   3  11  15   2   1\n",
            "    0   0]\n",
            " [  2   3   0   1   1   3   1   0   2   3   4  11   5 292   6  52   6   4\n",
            "    0   0]\n",
            " [  0   2   0   1   0   3   0   2   1   0   1   6   1   2 351  19   4   0\n",
            "    1   0]\n",
            " [  2   0   0   0   0   0   0   0   1   0   0   0   0   1   2 392   0   0\n",
            "    0   0]\n",
            " [  0   0   0   1   0   0   2   0   1   1   0  10   0   0   1   6 341   1\n",
            "    0   0]\n",
            " [  0   1   0   0   0   0   0   0   0   1   0   2   0   0   0  24   3 344\n",
            "    1   0]\n",
            " [  2   0   0   0   0   0   0   1   0   0   1  11   0   1   7  35 118   5\n",
            "  129   0]\n",
            " [ 33   2   0   0   0   0   0   0   0   1   1   3   0   4   4 131  29   5\n",
            "    3  35]]\n"
          ]
        }
      ]
    },
    {
      "cell_type": "markdown",
      "source": [
        "27) Write a Python program to train an SVM Classifier with different C values and compare the decision\n",
        "boundaries visually?"
      ],
      "metadata": {
        "id": "FSxJ1c-oSWKK"
      }
    },
    {
      "cell_type": "code",
      "source": [
        "# Import necessary libraries\n",
        "from sklearn import datasets\n",
        "from sklearn import svm\n",
        "import numpy as np\n",
        "import matplotlib.pyplot as plt\n",
        "\n",
        "# Load the Iris dataset\n",
        "iris = datasets.load_iris()\n",
        "X = iris.data[:, :2]  # we only take the first two features.\n",
        "y = iris.target\n",
        "\n",
        "# Create a meshgrid to visualize the decision boundary\n",
        "h = 0.02\n",
        "x_min, x_max = X[:, 0].min() - 1, X[:, 0].max() + 1\n",
        "y_min, y_max = X[:, 1].min() - 1, X[:, 1].max() + 1\n",
        "xx, yy = np.meshgrid(np.arange(x_min, x_max, h),\n",
        "                         np.arange(y_min, y_max, h))\n",
        "\n",
        "# Train SVM Classifiers with different C values\n",
        "C_values = [0.1, 1, 10]\n",
        "for C in C_values:\n",
        "    clf = svm.SVC(kernel='linear', C=C)\n",
        "    clf.fit(X, y)\n",
        "\n",
        "    # Make predictions on the meshgrid\n",
        "    Z = clf.predict(np.c_[xx.ravel(), yy.ravel()])\n",
        "\n",
        "    # Put the result into a color plot\n",
        "    Z = Z.reshape(xx.shape)\n",
        "    plt.contourf(xx, yy, Z, alpha=0.8)\n",
        "\n",
        "    # Plot also the training points\n",
        "    plt.scatter(X[:, 0], X[:, 1], c=y, s=20, edgecolor='k')\n",
        "\n",
        "    plt.title(f\"SVM Classifier with C = {C}\")\n",
        "    plt.xlabel('Sepal length')\n",
        "    plt.ylabel('Sepal width')\n",
        "    plt.show()\n"
      ],
      "metadata": {
        "colab": {
          "base_uri": "https://localhost:8080/",
          "height": 1000
        },
        "id": "VcuuxgjbSeAa",
        "outputId": "d7f2e114-9051-4004-fbce-9b178e0b33ff"
      },
      "execution_count": null,
      "outputs": [
        {
          "output_type": "display_data",
          "data": {
            "text/plain": [
              "<Figure size 640x480 with 1 Axes>"
            ],
            "image/png": "[encoded data removed]"
          },
          "metadata": {}
        },
        {
          "output_type": "display_data",
          "data": {
            "text/plain": [
              "<Figure size 640x480 with 1 Axes>"
            ],
            "image/png": "[encoded data removed]"
          },
          "metadata": {}
        },
        {
          "output_type": "display_data",
          "data": {
            "text/plain": [
              "<Figure size 640x480 with 1 Axes>"
            ],
            "image/png": "[encoded data removed]"
          },
          "metadata": {}
        }
      ]
    },
    {
      "cell_type": "markdown",
      "source": [
        "28)  Write a Python program to train a Bernoulli Naïve Bayes classifier for binary classification on a dataset with\n",
        "binary features?"
      ],
      "metadata": {
        "id": "G0xsz_S6Snlt"
      }
    },
    {
      "cell_type": "code",
      "source": [
        "# Import necessary libraries\n",
        "from sklearn.datasets import make_classification\n",
        "from sklearn.model_selection import train_test_split\n",
        "from sklearn.naive_bayes import BernoulliNB\n",
        "from sklearn.metrics import accuracy_score, classification_report, confusion_matrix\n",
        "\n",
        "# Generate a binary classification dataset with binary features\n",
        "X, y = make_classification(n_samples=1000, n_features=10, n_informative=5, n_redundant=3, n_repeated=2, n_classes=2, random_state=42)\n",
        "\n",
        "# Ensure the features are binary\n",
        "X = (X > 0).astype(int)\n",
        "\n",
        "# Split the dataset into training and testing sets\n",
        "X_train, X_test, y_train, y_test = train_test_split(X, y, test_size=0.2, random_state=42)\n",
        "\n",
        "# Create a Bernoulli Naïve Bayes classifier\n",
        "bnb = BernoulliNB()\n",
        "\n",
        "# Train the classifier using the training data\n",
        "bnb.fit(X_train, y_train)\n",
        "\n",
        "# Make predictions on the testing data\n",
        "y_pred = bnb.predict(X_test)\n",
        "\n",
        "# Evaluate the accuracy of the classifier\n",
        "accuracy = accuracy_score(y_test, y_pred)\n",
        "print(\"Accuracy:\", accuracy)\n",
        "\n",
        "# Print the classification report\n",
        "print(\"Classification Report:\")\n",
        "print(classification_report(y_test, y_pred))\n",
        "\n",
        "# Print the confusion matrix\n",
        "print(\"Confusion Matrix:\")\n",
        "print(confusion_matrix(y_test, y_pred))"
      ],
      "metadata": {
        "colab": {
          "base_uri": "https://localhost:8080/"
        },
        "id": "crctEl4tS5t_",
        "outputId": "79204d53-506a-40aa-8929-d49b3a1e339d"
      },
      "execution_count": null,
      "outputs": [
        {
          "output_type": "stream",
          "name": "stdout",
          "text": [
            "Accuracy: 0.765\n",
            "Classification Report:\n",
            "              precision    recall  f1-score   support\n",
            "\n",
            "           0       0.81      0.69      0.74        99\n",
            "           1       0.73      0.84      0.78       101\n",
            "\n",
            "    accuracy                           0.77       200\n",
            "   macro avg       0.77      0.76      0.76       200\n",
            "weighted avg       0.77      0.77      0.76       200\n",
            "\n",
            "Confusion Matrix:\n",
            "[[68 31]\n",
            " [16 85]]\n"
          ]
        }
      ]
    },
    {
      "cell_type": "markdown",
      "source": [
        "29) write a Python program to apply feature scaling before training an SVM model and compare results with\n",
        "unscaled data?"
      ],
      "metadata": {
        "id": "jjgi5kpMS_M-"
      }
    },
    {
      "cell_type": "code",
      "source": [
        "# Import necessary libraries\n",
        "from sklearn import datasets\n",
        "from sklearn.model_selection import train_test_split\n",
        "from sklearn import svm\n",
        "from sklearn.preprocessing import StandardScaler\n",
        "from sklearn.metrics import accuracy_score\n",
        "\n",
        "# Load the Iris dataset\n",
        "iris = datasets.load_iris()\n",
        "X = iris.data\n",
        "y = iris.target\n",
        "\n",
        "# Split the dataset into training and testing sets\n",
        "X_train, X_test, y_train, y_test = train_test_split(X, y, test_size=0.2, random_state=42)\n",
        "\n",
        "# Train an SVM model with unscaled data\n",
        "svm_unscaled = svm.SVC(kernel='linear')\n",
        "svm_unscaled.fit(X_train, y_train)\n",
        "y_pred_unscaled = svm_unscaled.predict(X_test)\n",
        "accuracy_unscaled = accuracy_score(y_test, y_pred_unscaled)\n",
        "print(\"Accuracy (Unscaled Data):\", accuracy_unscaled)\n",
        "\n",
        "# Apply feature scaling using StandardScaler\n",
        "scaler = StandardScaler()\n",
        "X_train_scaled = scaler.fit_transform(X_train)\n",
        "X_test_scaled = scaler.transform(X_test)\n",
        "\n",
        "# Train an SVM model with scaled data\n",
        "svm_scaled = svm.SVC(kernel='linear')\n",
        "svm_scaled.fit(X_train_scaled, y_train)\n",
        "y_pred_scaled = svm_scaled.predict(X_test_scaled)\n",
        "accuracy_scaled = accuracy_score(y_test, y_pred_scaled)\n",
        "print(\"Accuracy (Scaled Data):\", accuracy_scaled)\n",
        "\n",
        "# Compare the results\n",
        "if accuracy_scaled > accuracy_unscaled:\n",
        "    print(\"Scaling features improves the accuracy of the SVM model.\")\n",
        "else:\n",
        "    print(\"Scaling features does not improve the accuracy of the SVM model.\")\n"
      ],
      "metadata": {
        "colab": {
          "base_uri": "https://localhost:8080/"
        },
        "id": "t9fLO4gPTO23",
        "outputId": "6c9f8cbc-7ad1-4d2e-f725-a9b878d341fd"
      },
      "execution_count": null,
      "outputs": [
        {
          "output_type": "stream",
          "name": "stdout",
          "text": [
            "Accuracy (Unscaled Data): 1.0\n",
            "Accuracy (Scaled Data): 0.9666666666666667\n",
            "Scaling features does not improve the accuracy of the SVM model.\n"
          ]
        }
      ]
    },
    {
      "cell_type": "markdown",
      "source": [
        "30) Write a Python program to train a Gaussian Naïve Bayes model and compare the predictions before and\n",
        "after Laplace Smoothing?"
      ],
      "metadata": {
        "id": "JM21-R53Tb0O"
      }
    },
    {
      "cell_type": "code",
      "source": [
        "# Import necessary libraries\n",
        "from sklearn.datasets import make_classification\n",
        "from sklearn.model_selection import train_test_split\n",
        "from sklearn.naive_bayes import GaussianNB\n",
        "from sklearn.metrics import accuracy_score\n",
        "import numpy as np\n",
        "\n",
        "# Generate a classification dataset\n",
        "X, y = make_classification(n_samples=1000, n_features=10, n_informative=5, n_redundant=3, n_repeated=2, n_classes=2, random_state=42)\n",
        "\n",
        "# Split the dataset into training and testing sets\n",
        "X_train, X_test, y_train, y_test = train_test_split(X, y, test_size=0.2, random_state=42)\n",
        "\n",
        "# Train a Gaussian Naïve Bayes model without Laplace Smoothing\n",
        "gnb = GaussianNB()\n",
        "gnb.fit(X_train, y_train)\n",
        "y_pred_before = gnb.predict(X_test)\n",
        "accuracy_before = accuracy_score(y_test, y_pred_before)\n",
        "print(\"Accuracy before Laplace Smoothing:\", accuracy_before)\n",
        "\n",
        "# Apply Laplace Smoothing by adding a small value to the variance\n",
        "X_train_smoothed = X_train + np.random.normal(0, 0.01, X_train.shape)\n",
        "X_test_smoothed = X_test + np.random.normal(0, 0.01, X_test.shape)\n",
        "\n",
        "# Train a Gaussian Naïve Bayes model with Laplace Smoothing\n",
        "gnb_smoothed = GaussianNB()\n",
        "gnb_smoothed.fit(X_train_smoothed, y_train)\n",
        "y_pred_after = gnb_smoothed.predict(X_test_smoothed)\n",
        "accuracy_after = accuracy_score(y_test, y_pred_after)\n",
        "print(\"Accuracy after Laplace Smoothing:\", accuracy_after)\n",
        "\n",
        "# Compare the results\n",
        "if accuracy_after > accuracy_before:\n",
        "    print(\"Laplace Smoothing improves the accuracy of the Gaussian Naïve Bayes model.\")\n",
        "else:\n",
        "    print(\"Laplace Smoothing does not improve the accuracy of the Gaussian Naïve Bayes model.\")\n"
      ],
      "metadata": {
        "colab": {
          "base_uri": "https://localhost:8080/"
        },
        "id": "o8rpq12EThA4",
        "outputId": "91a46ba9-6c86-4699-bf64-7df5d838ba3d"
      },
      "execution_count": null,
      "outputs": [
        {
          "output_type": "stream",
          "name": "stdout",
          "text": [
            "Accuracy before Laplace Smoothing: 0.82\n",
            "Accuracy after Laplace Smoothing: 0.82\n",
            "Laplace Smoothing does not improve the accuracy of the Gaussian Naïve Bayes model.\n"
          ]
        }
      ]
    },
    {
      "cell_type": "markdown",
      "source": [
        "31) Write a Python program to train an SVM Classifier and use GridSearchCV to tune the hyperparameters (C,\n",
        "gamma, kernel)?"
      ],
      "metadata": {
        "id": "7-L3fV3MTqo7"
      }
    },
    {
      "cell_type": "code",
      "source": [
        "# Import necessary libraries\n",
        "from sklearn import datasets\n",
        "from sklearn.model_selection import train_test_split, GridSearchCV\n",
        "from sklearn import svm\n",
        "from sklearn.metrics import accuracy_score, classification_report, confusion_matrix\n",
        "\n",
        "# Load the Iris dataset\n",
        "iris = datasets.load_iris()\n",
        "X = iris.data\n",
        "y = iris.target\n",
        "\n",
        "# Split the dataset into training and testing sets\n",
        "X_train, X_test, y_train, y_test = train_test_split(X, y, test_size=0.2, random_state=42)\n",
        "\n",
        "# Define the hyperparameter tuning space\n",
        "param_grid = {\n",
        "    'C': [0.1, 1, 10],\n",
        "    'gamma': ['scale', 'auto'],\n",
        "    'kernel': ['linear', 'rbf', 'poly']\n",
        "}\n",
        "\n",
        "# Create an SVM Classifier\n",
        "svm_classifier = svm.SVC()\n",
        "\n",
        "# Perform GridSearchCV to tune the hyperparameters\n",
        "grid_search = GridSearchCV(estimator=svm_classifier, param_grid=param_grid, cv=5)\n",
        "grid_search.fit(X_train, y_train)\n",
        "\n",
        "# Get the best-performing model and its hyperparameters\n",
        "best_model = grid_search.best_estimator_\n",
        "best_params = grid_search.best_params_\n",
        "print(\"Best Parameters:\", best_params)\n",
        "\n",
        "# Make predictions using the best-performing model\n",
        "y_pred = best_model.predict(X_test)\n",
        "\n",
        "# Evaluate the accuracy of the best-performing model\n",
        "accuracy = accuracy_score(y_test, y_pred)\n",
        "print(\"Accuracy:\", accuracy)\n",
        "\n",
        "# Print the classification report and confusion matrix\n",
        "print(\"Classification Report:\")\n",
        "print(classification_report(y_test, y_pred))\n",
        "print(\"Confusion Matrix:\")\n",
        "print(confusion_matrix(y_test, y_pred))\n",
        "\n"
      ],
      "metadata": {
        "colab": {
          "base_uri": "https://localhost:8080/"
        },
        "id": "dMPcNFDQTvtL",
        "outputId": "1f88da9a-efbd-4152-b975-9523b5b574f3"
      },
      "execution_count": null,
      "outputs": [
        {
          "output_type": "stream",
          "name": "stdout",
          "text": [
            "Best Parameters: {'C': 1, 'gamma': 'scale', 'kernel': 'linear'}\n",
            "Accuracy: 1.0\n",
            "Classification Report:\n",
            "              precision    recall  f1-score   support\n",
            "\n",
            "           0       1.00      1.00      1.00        10\n",
            "           1       1.00      1.00      1.00         9\n",
            "           2       1.00      1.00      1.00        11\n",
            "\n",
            "    accuracy                           1.00        30\n",
            "   macro avg       1.00      1.00      1.00        30\n",
            "weighted avg       1.00      1.00      1.00        30\n",
            "\n",
            "Confusion Matrix:\n",
            "[[10  0  0]\n",
            " [ 0  9  0]\n",
            " [ 0  0 11]]\n"
          ]
        }
      ]
    },
    {
      "cell_type": "markdown",
      "source": [
        "32) write a Python program to train an SVM Classifier on an imbalanced dataset and apply class weighting and\n",
        "check it improve accuracy="
      ],
      "metadata": {
        "id": "0ddT30YnT6SH"
      }
    },
    {
      "cell_type": "code",
      "source": [
        "# Import necessary libraries\n",
        "from sklearn.datasets import make_classification\n",
        "from sklearn.model_selection import train_test_split\n",
        "from sklearn import svm\n",
        "from sklearn.metrics import accuracy_score, classification_report, confusion_matrix\n",
        "from sklearn.utils.class_weight import compute_class_weight\n",
        "\n",
        "# Generate an imbalanced classification dataset\n",
        "X, y = make_classification(n_samples=1000, n_features=10, n_informative=5, n_redundant=3, n_repeated=2, n_classes=2, weights=[0.9, 0.1], random_state=42)\n",
        "\n",
        "# Split the dataset into training and testing sets\n",
        "X_train, X_test, y_train, y_test = train_test_split(X, y, test_size=0.2, random_state=42)\n",
        "\n",
        "# Compute class weights\n",
        "class_weights = compute_class_weight(class_weight='balanced', classes=np.unique(y_train), y=y_train)\n",
        "class_weights_dict = dict(enumerate(class_weights))\n",
        "\n",
        "# Train an SVM Classifier without class weighting\n",
        "svm_classifier = svm.SVC(kernel='linear', probability=True)\n",
        "svm_classifier.fit(X_train, y_train)\n",
        "y_pred_without_weighting = svm_classifier.predict(X_test)\n",
        "accuracy_without_weighting = accuracy_score(y_test, y_pred_without_weighting)\n",
        "print(\"Accuracy without Class Weighting:\", accuracy_without_weighting)\n",
        "\n",
        "# Train an SVM Classifier with class weighting\n",
        "svm_classifier_weighted = svm.SVC(kernel='linear', probability=True, class_weight=class_weights_dict)\n",
        "svm_classifier_weighted.fit(X_train, y_train)\n",
        "y_pred_with_weighting = svm_classifier_weighted.predict(X_test)\n",
        "accuracy_with_weighting = accuracy_score(y_test, y_pred_with_weighting)\n",
        "print(\"Accuracy with Class Weighting:\", accuracy_with_weighting)\n",
        "\n",
        "# Compare the results\n",
        "if accuracy_with_weighting > accuracy_without_weighting:\n",
        "    print(\"Class weighting improves the accuracy of the SVM Classifier.\")\n",
        "else:\n",
        "    print(\"Class weighting does not improve the accuracy of the SVM Classifier.\")\n",
        "\n",
        "# Print the classification report and confusion matrix\n",
        "print(\"Classification Report (Without Weighting):\")\n",
        "print(classification_report(y_test, y_pred_without_weighting))\n",
        "print(\"Confusion Matrix (Without Weighting):\")\n",
        "print(confusion_matrix(y_test, y_pred_without_weighting))\n",
        "\n",
        "print(\"Classification Report (With Weighting):\")\n",
        "print(classification_report(y_test, y_pred_with_weighting))\n",
        "print(\"Confusion Matrix (With Weighting):\")\n",
        "print(confusion_matrix(y_test, y_pred_with_weighting))\n",
        "\n"
      ],
      "metadata": {
        "colab": {
          "base_uri": "https://localhost:8080/"
        },
        "id": "V4CwlH3wUArM",
        "outputId": "0e7d316f-cf24-4c7e-eaca-9d259b6e74b1"
      },
      "execution_count": null,
      "outputs": [
        {
          "output_type": "stream",
          "name": "stdout",
          "text": [
            "Accuracy without Class Weighting: 0.885\n",
            "Accuracy with Class Weighting: 0.72\n",
            "Class weighting does not improve the accuracy of the SVM Classifier.\n",
            "Classification Report (Without Weighting):\n",
            "              precision    recall  f1-score   support\n",
            "\n",
            "           0       0.89      0.99      0.94       173\n",
            "           1       0.83      0.19      0.30        27\n",
            "\n",
            "    accuracy                           0.89       200\n",
            "   macro avg       0.86      0.59      0.62       200\n",
            "weighted avg       0.88      0.89      0.85       200\n",
            "\n",
            "Confusion Matrix (Without Weighting):\n",
            "[[172   1]\n",
            " [ 22   5]]\n",
            "Classification Report (With Weighting):\n",
            "              precision    recall  f1-score   support\n",
            "\n",
            "           0       1.00      0.68      0.81       173\n",
            "           1       0.33      1.00      0.49        27\n",
            "\n",
            "    accuracy                           0.72       200\n",
            "   macro avg       0.66      0.84      0.65       200\n",
            "weighted avg       0.91      0.72      0.76       200\n",
            "\n",
            "Confusion Matrix (With Weighting):\n",
            "[[117  56]\n",
            " [  0  27]]\n"
          ]
        }
      ]
    },
    {
      "cell_type": "markdown",
      "source": [
        "33) write a Python program to implement a Naïve Bayes classifier for spam detection using email data?"
      ],
      "metadata": {
        "id": "5MBp4hFbUQbD"
      }
    },
    {
      "source": [
        "# Import necessary libraries\n",
        "import pandas as pd\n",
        "import numpy as np\n",
        "import re\n",
        "import string\n",
        "from sklearn.model_selection import train_test_split\n",
        "from sklearn.feature_extraction.text import CountVectorizer, TfidfTransformer\n",
        "from sklearn.naive_bayes import MultinomialNB\n",
        "from sklearn.pipeline import Pipeline\n",
        "from sklearn.metrics import accuracy_score, classification_report\n",
        "\n",
        "# Load dataset (SMS Spam Collection dataset)\n",
        "# Updated URL to a working source:\n",
        "url = \"https://raw.githubusercontent.com/mohitgupta-omg/Kaggle-SMS-Spam-Collection-Dataset-/master/spam.csv\"\n",
        "df = pd.read_csv(url, encoding='latin-1') # Remove 'names' argument\n",
        "\n",
        "# Rename columns to 'label' and 'message'\n",
        "df = df.rename(columns={'v1': 'label', 'v2': 'message'})\n",
        "\n",
        "# Convert labels to binary (ham = 0, spam = 1)\n",
        "df['label'] = df['label'].map({'ham': 0, 'spam': 1})\n",
        "\n",
        "# Function to clean text\n",
        "def clean_text(text):\n",
        "    text = text.lower()  # Convert to lowercase\n",
        "    text = re.sub(r'\\d+', '', text)  # Remove numbers\n",
        "    text = text.translate(str.maketrans('', '', string.punctuation))  # Remove punctuation\n",
        "    return text\n",
        "\n",
        "# Apply text cleaning\n",
        "df['message'] = df['message'].apply(clean_text)\n",
        "\n",
        "# Split data into train and test sets\n",
        "X_train, X_test, y_train, y_test = train_test_split(df['message'], df['label'], test_size=0.2, random_state=42)\n",
        "\n",
        "# Build a pipeline for text processing and Naïve Bayes classification\n",
        "model = Pipeline([\n",
        "    ('vectorizer', CountVectorizer()),  # Convert text to count vectors\n",
        "    ('tfidf', TfidfTransformer()),  # Convert counts to TF-IDF\n",
        "    ('classifier', MultinomialNB())  # Apply Naïve Bayes classifier\n",
        "])\n",
        "\n",
        "# Train the model\n",
        "model.fit(X_train, y_train)\n",
        "\n",
        "# Make predictions\n",
        "y_pred = model.predict(X_test)\n",
        "\n",
        "# Evaluate model performance\n",
        "accuracy = accuracy_score(y_test, y_pred)\n",
        "print(f\"Model Accuracy: {accuracy:.2f}\\n\")\n",
        "print(\"Classification Report:\\n\", classification_report(y_test, y_pred))\n",
        "\n",
        "# Test with new messages\n",
        "sample_messages = [\"Win a lottery of $1000 now!\", \"Hey, are we meeting tomorrow?\"]\n",
        "predictions = model.predict(sample_messages)\n",
        "\n",
        "# Display results\n",
        "for msg, pred in zip(sample_messages, predictions):\n",
        "    print(f\"Message: {msg} --> {'Spam' if pred == 1 else 'Ham'}\")"
      ],
      "cell_type": "code",
      "metadata": {
        "colab": {
          "base_uri": "https://localhost:8080/"
        },
        "id": "efBKFyUhVvZ1",
        "outputId": "02260831-94ea-45fb-8682-f554d319198f"
      },
      "execution_count": null,
      "outputs": [
        {
          "output_type": "stream",
          "name": "stdout",
          "text": [
            "Model Accuracy: 0.95\n",
            "\n",
            "Classification Report:\n",
            "               precision    recall  f1-score   support\n",
            "\n",
            "           0       0.95      1.00      0.97       965\n",
            "           1       1.00      0.64      0.78       150\n",
            "\n",
            "    accuracy                           0.95      1115\n",
            "   macro avg       0.97      0.82      0.88      1115\n",
            "weighted avg       0.95      0.95      0.95      1115\n",
            "\n",
            "Message: Win a lottery of $1000 now! --> Ham\n",
            "Message: Hey, are we meeting tomorrow? --> Ham\n"
          ]
        }
      ]
    },
    {
      "cell_type": "markdown",
      "source": [
        "34) write a Python program to train an SVM Classifier and a Naïve Bayes Classifier on the same dataset and\n",
        "compare their accuracy?"
      ],
      "metadata": {
        "id": "Emxq8rWeV0l4"
      }
    },
    {
      "cell_type": "code",
      "source": [
        "# Import necessary libraries\n",
        "from sklearn.datasets import load_iris\n",
        "from sklearn.model_selection import train_test_split\n",
        "from sklearn import svm\n",
        "from sklearn.naive_bayes import GaussianNB\n",
        "from sklearn.metrics import accuracy_score\n",
        "\n",
        "# Load the Iris dataset\n",
        "iris = load_iris()\n",
        "X = iris.data\n",
        "y = iris.target\n",
        "\n",
        "# Split the dataset into training and testing sets\n",
        "X_train, X_test, y_train, y_test = train_test_split(X, y, test_size=0.2, random_state=42)\n",
        "\n",
        "# Train an SVM Classifier\n",
        "svm_classifier = svm.SVC(kernel='linear', probability=True)\n",
        "svm_classifier.fit(X_train, y_train)\n",
        "y_pred_svm = svm_classifier.predict(X_test)\n",
        "accuracy_svm = accuracy_score(y_test, y_pred_svm)\n",
        "print(\"SVM Classifier Accuracy:\", accuracy_svm)\n",
        "\n",
        "# Train a Naïve Bayes Classifier\n",
        "nb_classifier = GaussianNB()\n",
        "nb_classifier.fit(X_train, y_train)\n",
        "y_pred_nb = nb_classifier.predict(X_test)\n",
        "accuracy_nb = accuracy_score(y_test, y_pred_nb)\n",
        "print(\"Naïve Bayes Classifier Accuracy:\", accuracy_nb)\n",
        "\n",
        "# Compare the accuracy of the classifiers\n",
        "if accuracy_svm > accuracy_nb:\n",
        "    print(\"SVM Classifier is more accurate.\")\n",
        "elif accuracy_nb > accuracy_svm:\n",
        "    print(\"Naïve Bayes Classifier is more accurate.\")\n",
        "else:\n",
        "    print(\"Both classifiers have the same accuracy.\")\n",
        "\n"
      ],
      "metadata": {
        "colab": {
          "base_uri": "https://localhost:8080/"
        },
        "id": "V-hPBB1pV675",
        "outputId": "4923c37b-314e-430e-9dc7-f2e079cc4e34"
      },
      "execution_count": null,
      "outputs": [
        {
          "output_type": "stream",
          "name": "stdout",
          "text": [
            "SVM Classifier Accuracy: 1.0\n",
            "Naïve Bayes Classifier Accuracy: 1.0\n",
            "Both classifiers have the same accuracy.\n"
          ]
        }
      ]
    },
    {
      "cell_type": "markdown",
      "source": [
        "35) Write a Python program to perform feature selection before training a Naïve Bayes classifier and compare\n",
        "results?"
      ],
      "metadata": {
        "id": "KNkdfDG0WKIl"
      }
    },
    {
      "cell_type": "code",
      "source": [
        "# Import necessary libraries\n",
        "from sklearn.datasets import load_iris\n",
        "from sklearn.model_selection import train_test_split\n",
        "from sklearn.feature_selection import SelectKBest, chi2\n",
        "from sklearn.naive_bayes import GaussianNB\n",
        "from sklearn.metrics import accuracy_score\n",
        "\n",
        "# Load the Iris dataset\n",
        "iris = load_iris()\n",
        "X = iris.data\n",
        "y = iris.target\n",
        "\n",
        "# Split the dataset into training and testing sets\n",
        "X_train, X_test, y_train, y_test = train_test_split(X, y, test_size=0.2, random_state=42)\n",
        "\n",
        "# Train a Naïve Bayes classifier without feature selection\n",
        "nb_classifier = GaussianNB()\n",
        "nb_classifier.fit(X_train, y_train)\n",
        "y_pred_nb = nb_classifier.predict(X_test)\n",
        "accuracy_nb = accuracy_score(y_test, y_pred_nb)\n",
        "print(\"Accuracy without Feature Selection:\", accuracy_nb)\n",
        "\n",
        "# Perform feature selection using chi-squared statistic\n",
        "selector = SelectKBest(chi2, k=2)\n",
        "X_train_selected = selector.fit_transform(X_train, y_train)\n",
        "X_test_selected = selector.transform(X_test)\n",
        "\n",
        "# Train a Naïve Bayes classifier with feature selection\n",
        "nb_classifier_selected = GaussianNB()\n",
        "nb_classifier_selected.fit(X_train_selected, y_train)\n",
        "y_pred_nb_selected = nb_classifier_selected.predict(X_test_selected)\n",
        "accuracy_nb_selected = accuracy_score(y_test, y_pred_nb_selected)\n",
        "print(\"Accuracy with Feature Selection:\", accuracy_nb_selected)\n",
        "\n",
        "# Compare the results\n",
        "if accuracy_nb_selected > accuracy_nb:\n",
        "    print(\"Feature selection improves the accuracy of the Naïve Bayes classifier.\")\n",
        "else:\n",
        "    print(\"Feature selection does not improve the accuracy of the Naïve Bayes classifier.\")"
      ],
      "metadata": {
        "colab": {
          "base_uri": "https://localhost:8080/"
        },
        "id": "snSrA0vKWO5y",
        "outputId": "f7d59bc7-ce53-4535-b45d-bfd5814f9999"
      },
      "execution_count": null,
      "outputs": [
        {
          "output_type": "stream",
          "name": "stdout",
          "text": [
            "Accuracy without Feature Selection: 1.0\n",
            "Accuracy with Feature Selection: 1.0\n",
            "Feature selection does not improve the accuracy of the Naïve Bayes classifier.\n"
          ]
        }
      ]
    },
    {
      "cell_type": "markdown",
      "source": [
        "36)  Write a Python program to train an SVM Classifier using One-vs-Rest (OvR) and One-vs-One (OvO)\n",
        "strategies on the Wine dataset and compare their accuracy?"
      ],
      "metadata": {
        "id": "vK6yanEWWahC"
      }
    },
    {
      "cell_type": "code",
      "source": [
        "# Import necessary libraries\n",
        "from sklearn import datasets\n",
        "from sklearn.model_selection import train_test_split\n",
        "from sklearn import svm\n",
        "from sklearn.metrics import accuracy_score\n",
        "\n",
        "# Load the Wine dataset\n",
        "wine = datasets.load_wine()\n",
        "X = wine.data\n",
        "y = wine.target\n",
        "\n",
        "# Split the dataset into training and testing sets\n",
        "X_train, X_test, y_train, y_test = train_test_split(X, y, test_size=0.2, random_state=42)\n",
        "\n",
        "# Train an SVM Classifier using One-vs-Rest (OvR) strategy\n",
        "svm_ovr = svm.SVC(kernel='linear', decision_function_shape='ovr')\n",
        "svm_ovr.fit(X_train, y_train)\n",
        "y_pred_ovr = svm_ovr.predict(X_test)\n",
        "accuracy_ovr = accuracy_score(y_test, y_pred_ovr)\n",
        "print(\"Accuracy (OvR):\", accuracy_ovr)\n",
        "\n",
        "# Train an SVM Classifier using One-vs-One (OvO) strategy\n",
        "svm_ovo = svm.SVC(kernel='linear', decision_function_shape='ovo')\n",
        "svm_ovo.fit(X_train, y_train)\n",
        "y_pred_ovo = svm_ovo.predict(X_test)\n",
        "accuracy_ovo = accuracy_score(y_test, y_pred_ovo)\n",
        "print(\"Accuracy (OvO):\", accuracy_ovo)\n",
        "\n",
        "# Compare the accuracy of the SVM Classifiers\n",
        "if accuracy_ovr > accuracy_ovo:\n",
        "    print(\"One-vs-Rest (OvR) strategy is more accurate.\")\n",
        "elif accuracy_ovo > accuracy_ovr:\n",
        "    print(\"One-vs-One (OvO) strategy is more accurate.\")\n",
        "else:\n",
        "    print(\"Both strategies have the same accuracy.\")\n",
        "\n"
      ],
      "metadata": {
        "colab": {
          "base_uri": "https://localhost:8080/"
        },
        "id": "hQL0KuxIWgwL",
        "outputId": "db4c59fb-263e-48cc-a5b6-ee832c517880"
      },
      "execution_count": null,
      "outputs": [
        {
          "output_type": "stream",
          "name": "stdout",
          "text": [
            "Accuracy (OvR): 1.0\n",
            "Accuracy (OvO): 1.0\n",
            "Both strategies have the same accuracy.\n"
          ]
        }
      ]
    },
    {
      "cell_type": "markdown",
      "source": [
        "37) Write a Python program to train an SVM Classifier using Linear, Polynomial, and RBF kernels on the Breast\n",
        "Cancer dataset and compare their accuracy?"
      ],
      "metadata": {
        "id": "mfSQTBiyW57K"
      }
    },
    {
      "cell_type": "code",
      "source": [
        "# Import necessary libraries\n",
        "from sklearn import datasets\n",
        "from sklearn.model_selection import train_test_split\n",
        "from sklearn import svm\n",
        "from sklearn.metrics import accuracy_score\n",
        "\n",
        "# Load the Breast Cancer dataset\n",
        "cancer = datasets.load_breast_cancer()\n",
        "X = cancer.data\n",
        "y = cancer.target\n",
        "\n",
        "# Split the dataset into training and testing sets\n",
        "X_train, X_test, y_train, y_test = train_test_split(X, y, test_size=0.2, random_state=42)\n",
        "\n",
        "# Train an SVM Classifier using Linear kernel\n",
        "svm_linear = svm.SVC(kernel='linear')\n",
        "svm_linear.fit(X_train, y_train)\n",
        "y_pred_linear = svm_linear.predict(X_test)\n",
        "accuracy_linear = accuracy_score(y_test, y_pred_linear)\n",
        "print(\"Accuracy (Linear Kernel):\", accuracy_linear)\n",
        "\n",
        "# Train an SVM Classifier using Polynomial kernel\n",
        "svm_poly = svm.SVC(kernel='poly', degree=3)\n",
        "svm_poly.fit(X_train, y_train)\n",
        "y_pred_poly = svm_poly.predict(X_test)\n",
        "accuracy_poly = accuracy_score(y_test, y_pred_poly)\n",
        "print(\"Accuracy (Polynomial Kernel):\", accuracy_poly)\n",
        "\n",
        "# Train an SVM Classifier using RBF kernel\n",
        "svm_rbf = svm.SVC(kernel='rbf')\n",
        "svm_rbf.fit(X_train, y_train)\n",
        "y_pred_rbf = svm_rbf.predict(X_test)\n",
        "accuracy_rbf = accuracy_score(y_test, y_pred_rbf)\n",
        "print(\"Accuracy (RBF Kernel):\", accuracy_rbf)\n",
        "\n",
        "# Compare the accuracy of the SVM Classifiers\n",
        "accuracies = [accuracy_linear, accuracy_poly, accuracy_rbf]\n",
        "kernels = ['Linear', 'Polynomial', 'RBF']\n",
        "best_kernel = kernels[np.argmax(accuracies)]\n",
        "print(\"Best Kernel:\", best_kernel)\n"
      ],
      "metadata": {
        "colab": {
          "base_uri": "https://localhost:8080/"
        },
        "id": "KXAxAEgrW_Tc",
        "outputId": "0a09d2a2-a72f-44ce-e4a6-042af2004721"
      },
      "execution_count": null,
      "outputs": [
        {
          "output_type": "stream",
          "name": "stdout",
          "text": [
            "Accuracy (Linear Kernel): 0.956140350877193\n",
            "Accuracy (Polynomial Kernel): 0.9473684210526315\n",
            "Accuracy (RBF Kernel): 0.9473684210526315\n",
            "Best Kernel: Linear\n"
          ]
        }
      ]
    },
    {
      "cell_type": "markdown",
      "source": [
        "38) Write a Python program to train an SVM Classifier using Stratified K-Fold Cross-Validation and compute the\n",
        "average accuracy?"
      ],
      "metadata": {
        "id": "cRp969SrXPA9"
      }
    },
    {
      "cell_type": "code",
      "source": [
        "# Import necessary libraries\n",
        "from sklearn import datasets\n",
        "from sklearn.model_selection import StratifiedKFold\n",
        "from sklearn import svm\n",
        "from sklearn.metrics import accuracy_score\n",
        "\n",
        "# Load the Iris dataset\n",
        "iris = datasets.load_iris()\n",
        "X = iris.data\n",
        "y = iris.target\n",
        "\n",
        "# Define the number of folds for Stratified K-Fold Cross-Validation\n",
        "n_folds = 5\n",
        "\n",
        "# Create a Stratified K-Fold Cross-Validation object\n",
        "skf = StratifiedKFold(n_splits=n_folds, shuffle=True, random_state=42)\n",
        "\n",
        "# Initialize a list to store the accuracy of each fold\n",
        "accuracies = []\n",
        "\n",
        "# Train an SVM Classifier using Stratified K-Fold Cross-Validation\n",
        "for train_index, test_index in skf.split(X, y):\n",
        "    X_train, X_test = X[train_index], X[test_index]\n",
        "    y_train, y_test = y[train_index], y[test_index]\n",
        "\n",
        "    # Train an SVM Classifier on the current fold\n",
        "    svm_classifier = svm.SVC(kernel='linear')\n",
        "    svm_classifier.fit(X_train, y_train)\n",
        "\n",
        "    # Make predictions on the current fold\n",
        "    y_pred = svm_classifier.predict(X_test)\n",
        "\n",
        "    # Compute the accuracy of the current fold\n",
        "    accuracy = accuracy_score(y_test, y_pred)\n",
        "    accuracies.append(accuracy)\n",
        "\n",
        "# Compute the average accuracy across all folds\n",
        "average_accuracy = sum(accuracies) / n_folds\n",
        "print(\"Average Accuracy:\", average_accuracy)\n",
        "\n",
        "# Print the accuracy of each fold\n",
        "for i, accuracy in enumerate(accuracies):\n",
        "    print(f\"Fold {i+1} Accuracy:\", accuracy)\n",
        "\n"
      ],
      "metadata": {
        "colab": {
          "base_uri": "https://localhost:8080/"
        },
        "id": "ED-1UVEDXWg_",
        "outputId": "71da866a-051d-4d71-8122-fb3e33aac725"
      },
      "execution_count": null,
      "outputs": [
        {
          "output_type": "stream",
          "name": "stdout",
          "text": [
            "Average Accuracy: 0.9866666666666667\n",
            "Fold 1 Accuracy: 1.0\n",
            "Fold 2 Accuracy: 1.0\n",
            "Fold 3 Accuracy: 0.9333333333333333\n",
            "Fold 4 Accuracy: 1.0\n",
            "Fold 5 Accuracy: 1.0\n"
          ]
        }
      ]
    },
    {
      "cell_type": "markdown",
      "source": [
        "39) write a Python program to train a Naïve Bayes classifier using different prior probabilities and compare\n",
        "performance?"
      ],
      "metadata": {
        "id": "Ogow4ubJXgDM"
      }
    },
    {
      "source": [
        "# Import necessary libraries\n",
        "from sklearn.datasets import load_iris\n",
        "from sklearn.model_selection import train_test_split\n",
        "from sklearn.naive_bayes import GaussianNB\n",
        "from sklearn.metrics import accuracy_score\n",
        "\n",
        "# Load the Iris dataset\n",
        "iris = load_iris()\n",
        "X = iris.data\n",
        "y = iris.target\n",
        "\n",
        "# Split the dataset into training and testing sets\n",
        "X_train, X_test, y_train, y_test = train_test_split(X, y, test_size=0.2, random_state=42)\n",
        "\n",
        "# Define different prior probabilities that sum to 1\n",
        "prior_probabilities = [\n",
        "    [0.33, 0.33, 0.34],  # Uniform prior (adjusted to sum to 1)\n",
        "    [0.4, 0.3, 0.3],     # Non-uniform prior\n",
        "    [0.6, 0.2, 0.2],     # Non-uniform prior\n",
        "]\n",
        "\n",
        "# Train a Naïve Bayes classifier using different prior probabilities\n",
        "for prior in prior_probabilities:\n",
        "    # Create a Naïve Bayes classifier with the current prior probability\n",
        "    nb_classifier = GaussianNB(priors=prior)\n",
        "\n",
        "    # Train the classifier using the training data\n",
        "    nb_classifier.fit(X_train, y_train)\n",
        "\n",
        "    # Make predictions on the testing data\n",
        "    y_pred = nb_classifier.predict(X_test)\n",
        "\n",
        "    # Evaluate the accuracy of the classifier\n",
        "    accuracy = accuracy_score(y_test, y_pred)\n",
        "\n",
        "    # Print the prior probability and accuracy\n",
        "    print(f\"Prior Probability: {prior}, Accuracy: {accuracy:.3f}\")"
      ],
      "cell_type": "code",
      "metadata": {
        "colab": {
          "base_uri": "https://localhost:8080/"
        },
        "id": "c-FJcTibX5sk",
        "outputId": "3ea23841-76e9-4669-d966-2ffd66302884"
      },
      "execution_count": null,
      "outputs": [
        {
          "output_type": "stream",
          "name": "stdout",
          "text": [
            "Prior Probability: [0.33, 0.33, 0.34], Accuracy: 1.000\n",
            "Prior Probability: [0.4, 0.3, 0.3], Accuracy: 1.000\n",
            "Prior Probability: [0.6, 0.2, 0.2], Accuracy: 1.000\n"
          ]
        }
      ]
    },
    {
      "cell_type": "markdown",
      "source": [
        "40) Write a Python program to perform Recursive Feature Elimination (RFE) before training an SVM Classifier and\n",
        "compare accuracy?"
      ],
      "metadata": {
        "id": "SasV9yQUX-wR"
      }
    },
    {
      "cell_type": "code",
      "source": [
        "# Import necessary libraries\n",
        "from sklearn import datasets\n",
        "from sklearn.model_selection import train_test_split\n",
        "from sklearn import svm\n",
        "from sklearn.feature_selection import RFE\n",
        "from sklearn.metrics import accuracy_score\n",
        "\n",
        "# Load the Iris dataset\n",
        "iris = datasets.load_iris()\n",
        "X = iris.data\n",
        "y = iris.target\n",
        "\n",
        "# Split the dataset into training and testing sets\n",
        "X_train, X_test, y_train, y_test = train_test_split(X, y, test_size=0.2, random_state=42)\n",
        "\n",
        "# Train an SVM Classifier without RFE\n",
        "svm_classifier = svm.SVC(kernel='linear')\n",
        "svm_classifier.fit(X_train, y_train)\n",
        "y_pred_without_rfe = svm_classifier.predict(X_test)\n",
        "accuracy_without_rfe = accuracy_score(y_test, y_pred_without_rfe)\n",
        "print(\"Accuracy without RFE:\", accuracy_without_rfe)\n",
        "\n",
        "# Perform Recursive Feature Elimination (RFE)\n",
        "rfe = RFE(estimator=svm.SVC(kernel='linear'), n_features_to_select=2)\n",
        "rfe.fit(X_train, y_train)\n",
        "\n",
        "# Train an SVM Classifier with RFE\n",
        "X_train_rfe = rfe.transform(X_train)\n",
        "X_test_rfe = rfe.transform(X_test)\n",
        "svm_classifier_rfe = svm.SVC(kernel='linear')\n",
        "svm_classifier_rfe.fit(X_train_rfe, y_train)\n",
        "y_pred_with_rfe = svm_classifier_rfe.predict(X_test_rfe)\n",
        "accuracy_with_rfe = accuracy_score(y_test, y_pred_with_rfe)\n",
        "print(\"Accuracy with RFE:\", accuracy_with_rfe)\n",
        "\n",
        "# Compare the accuracy of the SVM Classifiers\n",
        "if accuracy_with_rfe > accuracy_without_rfe:\n",
        "    print(\"RFE improves the accuracy of the SVM Classifier.\")\n",
        "else:\n",
        "    print(\"RFE does not improve the accuracy of the SVM Classifier.\")\n",
        "\n"
      ],
      "metadata": {
        "colab": {
          "base_uri": "https://localhost:8080/"
        },
        "id": "vkuUr3KUYFjC",
        "outputId": "c7da50d7-8171-417b-ab34-c897860e9f3d"
      },
      "execution_count": null,
      "outputs": [
        {
          "output_type": "stream",
          "name": "stdout",
          "text": [
            "Accuracy without RFE: 1.0\n",
            "Accuracy with RFE: 1.0\n",
            "RFE does not improve the accuracy of the SVM Classifier.\n"
          ]
        }
      ]
    },
    {
      "cell_type": "markdown",
      "source": [
        "41) Write a Python program to train an SVM Classifier and evaluate its performance using Precision, Recall, and\n",
        "F1-Score instead of accuracy?"
      ],
      "metadata": {
        "id": "OAjGMXT4YPnQ"
      }
    },
    {
      "cell_type": "code",
      "source": [
        "# Import necessary libraries\n",
        "from sklearn import datasets\n",
        "from sklearn.model_selection import train_test_split\n",
        "from sklearn import svm\n",
        "from sklearn.metrics import precision_score, recall_score, f1_score, classification_report, confusion_matrix\n",
        "\n",
        "# Load the Iris dataset\n",
        "iris = datasets.load_iris()\n",
        "X = iris.data\n",
        "y = iris.target\n",
        "\n",
        "# Split the dataset into training and testing sets\n",
        "X_train, X_test, y_train, y_test = train_test_split(X, y, test_size=0.2, random_state=42)\n",
        "\n",
        "# Train an SVM Classifier\n",
        "svm_classifier = svm.SVC(kernel='linear')\n",
        "svm_classifier.fit(X_train, y_train)\n",
        "\n",
        "# Make predictions on the testing data\n",
        "y_pred = svm_classifier.predict(X_test)\n",
        "\n",
        "# Evaluate the performance of the SVM Classifier using Precision, Recall, and F1-Score\n",
        "precision = precision_score(y_test, y_pred, average='weighted')\n",
        "recall = recall_score(y_test, y_pred, average='weighted')\n",
        "f1 = f1_score(y_test, y_pred, average='weighted')\n",
        "\n",
        "print(\"Precision:\", precision)\n",
        "print(\"Recall:\", recall)\n",
        "print(\"F1-Score:\", f1)\n",
        "\n",
        "# Print the classification report and confusion matrix\n",
        "print(\"Classification Report:\")\n",
        "print(classification_report(y_test, y_pred))\n",
        "print(\"Confusion Matrix:\")\n",
        "print(confusion_matrix(y_test, y_pred))\n"
      ],
      "metadata": {
        "colab": {
          "base_uri": "https://localhost:8080/"
        },
        "id": "Px0v1GjLYVKM",
        "outputId": "501550e7-b447-473a-c746-b11f08ab48f6"
      },
      "execution_count": null,
      "outputs": [
        {
          "output_type": "stream",
          "name": "stdout",
          "text": [
            "Precision: 1.0\n",
            "Recall: 1.0\n",
            "F1-Score: 1.0\n",
            "Classification Report:\n",
            "              precision    recall  f1-score   support\n",
            "\n",
            "           0       1.00      1.00      1.00        10\n",
            "           1       1.00      1.00      1.00         9\n",
            "           2       1.00      1.00      1.00        11\n",
            "\n",
            "    accuracy                           1.00        30\n",
            "   macro avg       1.00      1.00      1.00        30\n",
            "weighted avg       1.00      1.00      1.00        30\n",
            "\n",
            "Confusion Matrix:\n",
            "[[10  0  0]\n",
            " [ 0  9  0]\n",
            " [ 0  0 11]]\n"
          ]
        }
      ]
    },
    {
      "cell_type": "markdown",
      "source": [
        "42) write a Python program to train a Naïve Bayes Classifier and evaluate its performance using Log Loss\n",
        "(Cross-Entropy Loss)?"
      ],
      "metadata": {
        "id": "MvKySdMKYelY"
      }
    },
    {
      "cell_type": "code",
      "source": [
        "# Import necessary libraries\n",
        "from sklearn import datasets\n",
        "from sklearn.model_selection import train_test_split\n",
        "from sklearn.naive_bayes import GaussianNB\n",
        "from sklearn.metrics import log_loss\n",
        "\n",
        "# Load the Iris dataset\n",
        "iris = datasets.load_iris()\n",
        "X = iris.data\n",
        "y = iris.target\n",
        "\n",
        "# Split the dataset into training and testing sets\n",
        "X_train, X_test, y_train, y_test = train_test_split(X, y, test_size=0.2, random_state=42)\n",
        "\n",
        "# Train a Naïve Bayes Classifier\n",
        "nb_classifier = GaussianNB()\n",
        "nb_classifier.fit(X_train, y_train)\n",
        "\n",
        "# Make predictions on the testing data\n",
        "y_pred_proba = nb_classifier.predict_proba(X_test)\n",
        "\n",
        "# Evaluate the performance of the Naïve Bayes Classifier using Log Loss\n",
        "log_loss_value = log_loss(y_test, y_pred_proba)\n",
        "print(\"Log Loss:\", log_loss_value)\n",
        "\n"
      ],
      "metadata": {
        "colab": {
          "base_uri": "https://localhost:8080/"
        },
        "id": "bfi42XFJYlf4",
        "outputId": "24eb82f4-8840-4fb7-d5c4-4e8b9ad42953"
      },
      "execution_count": null,
      "outputs": [
        {
          "output_type": "stream",
          "name": "stdout",
          "text": [
            "Log Loss: 0.02625269787231065\n"
          ]
        }
      ]
    },
    {
      "cell_type": "markdown",
      "source": [
        "43) write a Python program to train an SVM Classifier and visualize the Confusion Matrix using seaborn?"
      ],
      "metadata": {
        "id": "L0G1S4roYvW2"
      }
    },
    {
      "cell_type": "code",
      "source": [
        "# Import necessary libraries\n",
        "from sklearn import datasets\n",
        "from sklearn.model_selection import train_test_split\n",
        "from sklearn import svm\n",
        "from sklearn.metrics import confusion_matrix\n",
        "import seaborn as sns\n",
        "import matplotlib.pyplot as plt\n",
        "\n",
        "# Load the Iris dataset\n",
        "iris = datasets.load_iris()\n",
        "X = iris.data\n",
        "y = iris.target\n",
        "\n",
        "# Split the dataset into training and testing sets\n",
        "X_train, X_test, y_train, y_test = train_test_split(X, y, test_size=0.2, random_state=42)\n",
        "\n",
        "# Train an SVM Classifier\n",
        "svm_classifier = svm.SVC(kernel='linear')\n",
        "svm_classifier.fit(X_train, y_train)\n",
        "\n",
        "# Make predictions on the testing data\n",
        "y_pred = svm_classifier.predict(X_test)\n",
        "\n",
        "# Create a Confusion Matrix\n",
        "cm = confusion_matrix(y_test, y_pred)\n",
        "\n",
        "# Visualize the Confusion Matrix using seaborn\n",
        "plt.figure(figsize=(8, 6))\n",
        "sns.heatmap(cm, annot=True, cmap='Blues')\n",
        "plt.xlabel(\"Predicted Labels\")\n",
        "plt.ylabel(\"True Labels\")\n",
        "plt.title(\"Confusion Matrix\")\n",
        "plt.show()\n",
        "\n"
      ],
      "metadata": {
        "colab": {
          "base_uri": "https://localhost:8080/",
          "height": 564
        },
        "id": "jRRy1OOZY29C",
        "outputId": "a1a0ad82-d165-429d-9f05-c56db0a2c6a2"
      },
      "execution_count": null,
      "outputs": [
        {
          "output_type": "display_data",
          "data": {
            "text/plain": [
              "<Figure size 800x600 with 2 Axes>"
            ],
            "image/png": "[encoded data removed]"
          },
          "metadata": {}
        }
      ]
    },
    {
      "cell_type": "markdown",
      "source": [
        "44) write a Python program to train an SVM Regressor (SVR) and evaluate its performance using Mean Absolute\n",
        "Error (MAE) instead of MSE?"
      ],
      "metadata": {
        "id": "lKh6JoOrZAGG"
      }
    },
    {
      "cell_type": "code",
      "source": [
        "# Import necessary libraries\n",
        "from sklearn import datasets\n",
        "from sklearn.model_selection import train_test_split\n",
        "from sklearn import svm\n",
        "from sklearn.metrics import mean_absolute_error\n",
        "\n",
        "# Load the Diabetes dataset\n",
        "diabetes = datasets.load_diabetes()\n",
        "X = diabetes.data\n",
        "y = diabetes.target\n",
        "\n",
        "# Split the dataset into training and testing sets\n",
        "X_train, X_test, y_train, y_test = train_test_split(X, y, test_size=0.2, random_state=42)\n",
        "\n",
        "# Train an SVM Regressor (SVR)\n",
        "svr = svm.SVR(kernel='linear')\n",
        "svr.fit(X_train, y_train)\n",
        "\n",
        "# Make predictions on the testing data\n",
        "y_pred = svr.predict(X_test)\n",
        "\n",
        "# Evaluate the performance of the SVR using Mean Absolute Error (MAE)\n",
        "mae = mean_absolute_error(y_test, y_pred)\n",
        "print(\"Mean Absolute Error (MAE):\", mae)\n",
        "\n"
      ],
      "metadata": {
        "colab": {
          "base_uri": "https://localhost:8080/"
        },
        "id": "CtaH4UlZZFi2",
        "outputId": "74806930-1c04-4465-ef86-bf6caca9f025"
      },
      "execution_count": null,
      "outputs": [
        {
          "output_type": "stream",
          "name": "stdout",
          "text": [
            "Mean Absolute Error (MAE): 61.90453309883161\n"
          ]
        }
      ]
    },
    {
      "cell_type": "markdown",
      "source": [
        "45)  Write a Python program to train a Naïve Bayes classifier and evaluate its performance using the ROC-AUC\n",
        "score?"
      ],
      "metadata": {
        "id": "meF477f7ZS3r"
      }
    },
    {
      "cell_type": "code",
      "source": [
        "# Import necessary libraries\n",
        "from sklearn import datasets\n",
        "from sklearn.model_selection import train_test_split\n",
        "from sklearn.naive_bayes import GaussianNB\n",
        "from sklearn.metrics import roc_auc_score, roc_curve\n",
        "import matplotlib.pyplot as plt\n",
        "\n",
        "# Load the Breast Cancer dataset\n",
        "cancer = datasets.load_breast_cancer()\n",
        "X = cancer.data\n",
        "y = cancer.target\n",
        "\n",
        "# Split the dataset into training and testing sets\n",
        "X_train, X_test, y_train, y_test = train_test_split(X, y, test_size=0.2, random_state=42)\n",
        "\n",
        "# Train a Naïve Bayes classifier\n",
        "nb_classifier = GaussianNB()\n",
        "nb_classifier.fit(X_train, y_train)\n",
        "\n",
        "# Make predictions on the testing data\n",
        "y_pred_proba = nb_classifier.predict_proba(X_test)[:, 1]\n",
        "\n",
        "# Evaluate the performance of the Naïve Bayes classifier using ROC-AUC score\n",
        "roc_auc = roc_auc_score(y_test, y_pred_proba)\n",
        "print(\"ROC-AUC Score:\", roc_auc)\n",
        "\n",
        "# Plot the ROC curve\n",
        "fpr, tpr, _ = roc_curve(y_test, y_pred_proba)\n",
        "plt.figure(figsize=(8, 6))\n",
        "plt.plot(fpr, tpr, color='darkorange', lw=2, label='ROC Curve')\n",
        "plt.plot([0, 1], [0, 1], color='navy', lw=2, linestyle='--')\n",
        "plt.xlim([0.0, 1.0])\n",
        "plt.ylim([0.0, 1.05])\n",
        "plt.xlabel('False Positive Rate')\n",
        "plt.ylabel('True Positive Rate')\n",
        "plt.title('Receiver Operating Characteristic (ROC) Curve')\n",
        "plt.legend(loc=\"lower right\")\n",
        "plt.show()\n"
      ],
      "metadata": {
        "colab": {
          "base_uri": "https://localhost:8080/",
          "height": 582
        },
        "id": "d2keT955ZXH7",
        "outputId": "070a8af7-edae-428b-c0d1-9643b298f783"
      },
      "execution_count": null,
      "outputs": [
        {
          "output_type": "stream",
          "name": "stdout",
          "text": [
            "ROC-AUC Score: 0.9983622666229938\n"
          ]
        },
        {
          "output_type": "display_data",
          "data": {
            "text/plain": [
              "<Figure size 800x600 with 1 Axes>"
            ],
            "image/png": "[encoded data removed]"
          },
          "metadata": {}
        }
      ]
    },
    {
      "cell_type": "markdown",
      "source": [
        "46) Write a Python program to train an SVM Classifier and visualize the Precision-Recall Curve?"
      ],
      "metadata": {
        "id": "a13tZ26rZivx"
      }
    },
    {
      "cell_type": "code",
      "source": [
        "# Import necessary libraries\n",
        "from sklearn import datasets\n",
        "from sklearn.model_selection import train_test_split\n",
        "from sklearn import svm\n",
        "from sklearn.metrics import precision_recall_curve, auc\n",
        "import matplotlib.pyplot as plt\n",
        "\n",
        "# Load the Breast Cancer dataset\n",
        "cancer = datasets.load_breast_cancer()\n",
        "X = cancer.data\n",
        "y = cancer.target\n",
        "\n",
        "# Split the dataset into training and testing sets\n",
        "X_train, X_test, y_train, y_test = train_test_split(X, y, test_size=0.2, random_state=42)\n",
        "\n",
        "# Train an SVM Classifier\n",
        "svm_classifier = svm.SVC(kernel='linear', probability=True)\n",
        "svm_classifier.fit(X_train, y_train)\n",
        "\n",
        "# Make predictions on the testing data\n",
        "y_pred_proba = svm_classifier.predict_proba(X_test)[:, 1]\n",
        "\n",
        "# Compute the Precision-Recall Curve\n",
        "precision, recall, _ = precision_recall_curve(y_test, y_pred_proba)\n",
        "\n",
        "# Compute the Area Under the Precision-Recall Curve (AUPRC)\n",
        "auprc = auc(recall, precision)\n",
        "print(\"Area Under the Precision-Recall Curve (AUPRC):\", auprc)\n",
        "\n",
        "# Plot the Precision-Recall Curve\n",
        "plt.figure(figsize=(8, 6))\n",
        "plt.plot(recall, precision, marker='.', label='Precision-Recall Curve')\n",
        "plt.xlabel('Recall')\n",
        "plt.ylabel('Precision')\n",
        "plt.title('Precision-Recall Curve')\n",
        "plt.legend()\n",
        "plt.show()\n",
        "\n"
      ],
      "metadata": {
        "colab": {
          "base_uri": "https://localhost:8080/",
          "height": 582
        },
        "id": "sQKdcQXOZpCu",
        "outputId": "1091abc6-a1b6-4427-a282-90ad6fa23ca6"
      },
      "execution_count": null,
      "outputs": [
        {
          "output_type": "stream",
          "name": "stdout",
          "text": [
            "Area Under the Precision-Recall Curve (AUPRC): 0.997421790718581\n"
          ]
        },
        {
          "output_type": "display_data",
          "data": {
            "text/plain": [
              "<Figure size 800x600 with 1 Axes>"
            ],
            "image/png": "[encoded data removed]"
          },
          "metadata": {}
        }
      ]
    }
  ]
}